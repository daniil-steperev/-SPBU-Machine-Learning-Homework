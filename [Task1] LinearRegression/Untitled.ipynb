{
 "cells": [
  {
   "cell_type": "markdown",
   "id": "499adffe",
   "metadata": {},
   "source": [
    "# Задача 1. Линейная регрессия, метод градиентного спуска\n",
    "\n",
    "Задачу выполнил Степырев Даниил, студент 22.М-05мм группы.\n",
    "\n",
    "## Данные, на которых решается задача\n",
    "\n",
    "В задаче используется датасет электрических машин (ссылка).\n",
    "Описание датасета:\n",
    "- **Brand** --- марка автомобиля\n",
    "- **Model** --- название модели автомобиля\n",
    "- **AccelSec** --- время ускорения автомобиля 0-100 км/ч в секундах\n",
    "- **TopSpeed_KmH** --- максимальная скорость в км/ч\n",
    "- **Range_Km** --- запас хода в километрах\n",
    "- **Efficiency_WhKm** --- эффективность (?)\n",
    "- **FastCharge_KmH** --- скорость зарядки автомобиля: число добавленных километров в час\n",
    "- **RapidCharge** --- возможность быстрой зарядки\n",
    "- **PowerTrain** --- привод автомобиля\n",
    "- **PlugType** --- тип зарядки\n",
    "- **BodyStyle** --- тип кузова\n",
    "- **Segment** --- класс автомобиля\n",
    "- **Seats** --- количество пассажирских мест\n",
    "- **PriceEuro** --- цена в евро\n",
    "\n",
    "## Считывание данных\n",
    "\n",
    "Подключаем используемые библиотеки:"
   ]
  },
  {
   "cell_type": "code",
   "execution_count": 1,
   "id": "21cbe024",
   "metadata": {},
   "outputs": [],
   "source": [
    "import numpy as np \n",
    "import pandas as pd\n",
    "import matplotlib.pyplot as plt\n",
    "%matplotlib inline\n",
    "import seaborn as sns\n",
    "\n",
    "# устанавливаем точность чисел с плавающей точкой\n",
    "%precision %.4f\n",
    "\n",
    "import warnings\n",
    "warnings.filterwarnings('ignore')  # отключаем предупреждения"
   ]
  },
  {
   "cell_type": "code",
   "execution_count": 2,
   "id": "bbee2cc3",
   "metadata": {},
   "outputs": [],
   "source": [
    "df = pd.read_csv('Dataset/electric-cars.csv')"
   ]
  },
  {
   "cell_type": "markdown",
   "id": "5b1f44cf",
   "metadata": {},
   "source": [
    "Считываем обучающую выборку:"
   ]
  },
  {
   "cell_type": "code",
   "execution_count": 3,
   "id": "0b4c4844",
   "metadata": {},
   "outputs": [
    {
     "data": {
      "text/html": [
       "<div>\n",
       "<style scoped>\n",
       "    .dataframe tbody tr th:only-of-type {\n",
       "        vertical-align: middle;\n",
       "    }\n",
       "\n",
       "    .dataframe tbody tr th {\n",
       "        vertical-align: top;\n",
       "    }\n",
       "\n",
       "    .dataframe thead th {\n",
       "        text-align: right;\n",
       "    }\n",
       "</style>\n",
       "<table border=\"1\" class=\"dataframe\">\n",
       "  <thead>\n",
       "    <tr style=\"text-align: right;\">\n",
       "      <th></th>\n",
       "      <th>Brand</th>\n",
       "      <th>Model</th>\n",
       "      <th>Accel</th>\n",
       "      <th>TopSpeed</th>\n",
       "      <th>Range</th>\n",
       "      <th>Efficiency</th>\n",
       "      <th>FastCharge</th>\n",
       "      <th>RapidCharge</th>\n",
       "      <th>PowerTrain</th>\n",
       "      <th>PlugType</th>\n",
       "      <th>BodyStyle</th>\n",
       "      <th>Segment</th>\n",
       "      <th>Seats</th>\n",
       "      <th>PriceEuro</th>\n",
       "    </tr>\n",
       "  </thead>\n",
       "  <tbody>\n",
       "    <tr>\n",
       "      <th>0</th>\n",
       "      <td>Tesla</td>\n",
       "      <td>Model 3 Long Range Dual Motor</td>\n",
       "      <td>4.6 sec</td>\n",
       "      <td>233 km/h</td>\n",
       "      <td>450 km</td>\n",
       "      <td>161 Wh/km</td>\n",
       "      <td>940 km/h</td>\n",
       "      <td>Rapid charging possible</td>\n",
       "      <td>All Wheel Drive</td>\n",
       "      <td>Type 2 CCS</td>\n",
       "      <td>Sedan</td>\n",
       "      <td>D</td>\n",
       "      <td>5</td>\n",
       "      <td>55480</td>\n",
       "    </tr>\n",
       "    <tr>\n",
       "      <th>1</th>\n",
       "      <td>Volkswagen</td>\n",
       "      <td>ID.3 Pure</td>\n",
       "      <td>10.0 sec</td>\n",
       "      <td>160 km/h</td>\n",
       "      <td>270 km</td>\n",
       "      <td>167 Wh/km</td>\n",
       "      <td>250 km/h</td>\n",
       "      <td>Rapid charging possible</td>\n",
       "      <td>Rear Wheel Drive</td>\n",
       "      <td>Type 2 CCS</td>\n",
       "      <td>Hatchback</td>\n",
       "      <td>C</td>\n",
       "      <td>5</td>\n",
       "      <td>30000</td>\n",
       "    </tr>\n",
       "    <tr>\n",
       "      <th>2</th>\n",
       "      <td>Polestar</td>\n",
       "      <td>2</td>\n",
       "      <td>4.7 sec</td>\n",
       "      <td>210 km/h</td>\n",
       "      <td>400 km</td>\n",
       "      <td>181 Wh/km</td>\n",
       "      <td>620 km/h</td>\n",
       "      <td>Rapid charging possible</td>\n",
       "      <td>All Wheel Drive</td>\n",
       "      <td>Type 2 CCS</td>\n",
       "      <td>Liftback</td>\n",
       "      <td>D</td>\n",
       "      <td>5</td>\n",
       "      <td>56440</td>\n",
       "    </tr>\n",
       "    <tr>\n",
       "      <th>3</th>\n",
       "      <td>BMW</td>\n",
       "      <td>iX3</td>\n",
       "      <td>6.8 sec</td>\n",
       "      <td>180 km/h</td>\n",
       "      <td>360 km</td>\n",
       "      <td>206 Wh/km</td>\n",
       "      <td>560 km/h</td>\n",
       "      <td>Rapid charging possible</td>\n",
       "      <td>Rear Wheel Drive</td>\n",
       "      <td>Type 2 CCS</td>\n",
       "      <td>SUV</td>\n",
       "      <td>D</td>\n",
       "      <td>5</td>\n",
       "      <td>68040</td>\n",
       "    </tr>\n",
       "    <tr>\n",
       "      <th>4</th>\n",
       "      <td>Honda</td>\n",
       "      <td>e</td>\n",
       "      <td>9.5 sec</td>\n",
       "      <td>145 km/h</td>\n",
       "      <td>170 km</td>\n",
       "      <td>168 Wh/km</td>\n",
       "      <td>190 km/h</td>\n",
       "      <td>Rapid charging possible</td>\n",
       "      <td>Rear Wheel Drive</td>\n",
       "      <td>Type 2 CCS</td>\n",
       "      <td>Hatchback</td>\n",
       "      <td>B</td>\n",
       "      <td>4</td>\n",
       "      <td>32997</td>\n",
       "    </tr>\n",
       "  </tbody>\n",
       "</table>\n",
       "</div>"
      ],
      "text/plain": [
       "         Brand                          Model     Accel  TopSpeed   Range  \\\n",
       "0       Tesla   Model 3 Long Range Dual Motor   4.6 sec  233 km/h  450 km   \n",
       "1  Volkswagen                       ID.3 Pure  10.0 sec  160 km/h  270 km   \n",
       "2    Polestar                               2   4.7 sec  210 km/h  400 km   \n",
       "3         BMW                            iX3    6.8 sec  180 km/h  360 km   \n",
       "4       Honda                              e    9.5 sec  145 km/h  170 km   \n",
       "\n",
       "  Efficiency FastCharge              RapidCharge        PowerTrain  \\\n",
       "0  161 Wh/km   940 km/h  Rapid charging possible   All Wheel Drive   \n",
       "1  167 Wh/km   250 km/h  Rapid charging possible  Rear Wheel Drive   \n",
       "2  181 Wh/km   620 km/h  Rapid charging possible   All Wheel Drive   \n",
       "3  206 Wh/km   560 km/h  Rapid charging possible  Rear Wheel Drive   \n",
       "4  168 Wh/km   190 km/h  Rapid charging possible  Rear Wheel Drive   \n",
       "\n",
       "     PlugType  BodyStyle Segment  Seats  PriceEuro  \n",
       "0  Type 2 CCS      Sedan       D      5      55480  \n",
       "1  Type 2 CCS  Hatchback       C      5      30000  \n",
       "2  Type 2 CCS   Liftback       D      5      56440  \n",
       "3  Type 2 CCS        SUV       D      5      68040  \n",
       "4  Type 2 CCS  Hatchback       B      4      32997  "
      ]
     },
     "execution_count": 3,
     "metadata": {},
     "output_type": "execute_result"
    }
   ],
   "source": [
    "df.head()"
   ]
  },
  {
   "cell_type": "markdown",
   "id": "0ed4bfb1",
   "metadata": {},
   "source": [
    "Общее количество пропущенных значений:"
   ]
  },
  {
   "cell_type": "code",
   "execution_count": 4,
   "id": "b14a39ed",
   "metadata": {},
   "outputs": [
    {
     "data": {
      "text/plain": [
       "Brand          0\n",
       "Model          0\n",
       "Accel          0\n",
       "TopSpeed       0\n",
       "Range          0\n",
       "Efficiency     0\n",
       "FastCharge     0\n",
       "RapidCharge    0\n",
       "PowerTrain     0\n",
       "PlugType       0\n",
       "BodyStyle      0\n",
       "Segment        0\n",
       "Seats          0\n",
       "PriceEuro      0\n",
       "dtype: int64"
      ]
     },
     "execution_count": 4,
     "metadata": {},
     "output_type": "execute_result"
    }
   ],
   "source": [
    "df.isnull().sum()"
   ]
  },
  {
   "cell_type": "markdown",
   "id": "c7f9f93d",
   "metadata": {},
   "source": [
    "Все признаки имеют заполненные значения значения.\n",
    "Рассмотрим статистику по целевому признаку **PriceEuro**: сколько и каких значений он принимает. Воспользуемся функцией value_counts(): "
   ]
  },
  {
   "cell_type": "code",
   "execution_count": 5,
   "id": "c17522d9",
   "metadata": {},
   "outputs": [
    {
     "data": {
      "text/plain": [
       "45000    6\n",
       "50000    3\n",
       "29234    2\n",
       "30000    2\n",
       "36837    2\n",
       "        ..\n",
       "38105    1\n",
       "67358    1\n",
       "34361    1\n",
       "38017    1\n",
       "62000    1\n",
       "Name: PriceEuro, Length: 87, dtype: int64"
      ]
     },
     "execution_count": 5,
     "metadata": {},
     "output_type": "execute_result"
    }
   ],
   "source": [
    "df['PriceEuro'].value_counts()"
   ]
  },
  {
   "cell_type": "markdown",
   "id": "71660351",
   "metadata": {},
   "source": [
    "Видим, что **PriceEuro** принимает 87 различных значений. Посчитаем минимальную, максимальную и среднюю цену:"
   ]
  },
  {
   "cell_type": "code",
   "execution_count": 11,
   "id": "42e9c45d",
   "metadata": {},
   "outputs": [
    {
     "data": {
      "text/plain": [
       "20129"
      ]
     },
     "execution_count": 11,
     "metadata": {},
     "output_type": "execute_result"
    }
   ],
   "source": [
    "df['PriceEuro'].min()"
   ]
  },
  {
   "cell_type": "code",
   "execution_count": 12,
   "id": "7da8061e",
   "metadata": {},
   "outputs": [
    {
     "data": {
      "text/plain": [
       "215000"
      ]
     },
     "execution_count": 12,
     "metadata": {},
     "output_type": "execute_result"
    }
   ],
   "source": [
    "df['PriceEuro'].max()"
   ]
  },
  {
   "cell_type": "code",
   "execution_count": 13,
   "id": "867f9149",
   "metadata": {},
   "outputs": [
    {
     "data": {
      "text/plain": [
       "55811.5631"
      ]
     },
     "execution_count": 13,
     "metadata": {},
     "output_type": "execute_result"
    }
   ],
   "source": [
    "df['PriceEuro'].mean()"
   ]
  },
  {
   "cell_type": "markdown",
   "id": "bb14f019",
   "metadata": {},
   "source": [
    "Выяснили, что поле **PriceEuro** принимает значения от 20129 до 215000. Средняя цена электромобиля: 55811."
   ]
  },
  {
   "cell_type": "markdown",
   "id": "a8900c78",
   "metadata": {},
   "source": [
    "## Первичный анализ данных\n",
    "\n",
    "### Признак Brand\n",
    "\n",
    "Выясним, сколько различных значений принимает признак **Brand**. Отобразим эти значения на графике:"
   ]
  },
  {
   "cell_type": "code",
   "execution_count": 33,
   "id": "b63bb813",
   "metadata": {},
   "outputs": [
    {
     "data": {
      "image/png": "[encoded data removed]",
      "text/plain": [
       "<Figure size 2000x500 with 1 Axes>"
      ]
     },
     "metadata": {},
     "output_type": "display_data"
    }
   ],
   "source": [
    "plt.figure(figsize=(20,5))\n",
    "sns.set_theme(style=\"whitegrid\")\n",
    "sns.countplot(x = 'Brand', data = df, order = df['Brand'].value_counts().index)\n",
    "plt.title('Количество автомобилей определённой марки', fontsize = 20)\n",
    "plt.ylabel('Количество автомобилей', fontsize= 15)\n",
    "plt.xlabel('Марка', fontsize= 15)\n",
    "plt.xticks(rotation = 90)\n",
    "plt.show()"
   ]
  },
  {
   "cell_type": "markdown",
   "id": "277452c8",
   "metadata": {},
   "source": [
    "Видим, что в датасете больше всего моделей марки *Tesla*, однако есть и модели, которые встречаются лишь раз. Запомним этот признак."
   ]
  }
 ],
 "metadata": {
  "kernelspec": {
   "display_name": "Python 3 (ipykernel)",
   "language": "python",
   "name": "python3"
  },
  "language_info": {
   "codemirror_mode": {
    "name": "ipython",
    "version": 3
   },
   "file_extension": ".py",
   "mimetype": "text/x-python",
   "name": "python",
   "nbconvert_exporter": "python",
   "pygments_lexer": "ipython3",
   "version": "3.8.5"
  }
 },
 "nbformat": 4,
 "nbformat_minor": 5
}
