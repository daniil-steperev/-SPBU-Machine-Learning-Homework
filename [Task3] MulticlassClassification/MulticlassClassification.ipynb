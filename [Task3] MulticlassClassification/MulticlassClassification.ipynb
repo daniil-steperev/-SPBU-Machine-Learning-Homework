{
 "cells": [
  {
   "cell_type": "markdown",
   "id": "fdc22507",
   "metadata": {},
   "source": [
    "### Задача 3 Многоклассовая классификация и множественная классификация/регрессия\n",
    "\n",
    "**Автор**: Степырев Даниил Федорович\n",
    "\n",
    "**Группа**: 22.М05\n",
    "\n",
    "**Выполненные задачи**:\n",
    "- [] Изучите [возможности sklearn](https://scikit-learn.org/stable/modules/multiclass.html#multiclass-classification) для решения задач **Multiclass classification**, **Multilabel classification** и **Multioutput Regression**. Основные компоненты библиотеки указаны на рисунке ниже.\n",
    "![multi_org_chart](https://scikit-learn.org/stable/_images/multi_org_chart.png)\n",
    "\n",
    "- [] Найдите данные, на которых можно решить задачу **Multiclass classification** (классификация с более чем двумя классами). В крайнем случае преобразуйте данные, предназначенные для другой задачи.\n",
    "- [] Выполнить разведочный анализ (**EDA**), использовать визуализацию, сделать выводы, которые могут быть полезны при дальнейшем решении задачи.\n",
    "- [] При необходимости выполнить полезные преобразования данных (например, трансформировать категариальные признаки в количественные), убрать ненужные признаки, создать новые (**Feature Engineering**).\n",
    "- [] Используя стратегии **OneVsRest**, **OneVsOne** и **OutputCode** решите задачу **Multiclass classification** для каждого из пройденных базового алгоритма классификации (**logistic regression, svm, knn, naive bayes, decision tree**). При обучении использовать **подбор гиперпараметров**, **кросс-валидацию** и при необходимости **масштабирование данных**, добиться наилучшего качества предсказания.\n",
    "- [] Замерить время обучения каждой модели для каждой стратегии.\n",
    "- [] Для оценки качества моделей используйте метрику **AUC-ROC**.\n",
    "- [] Сравнить время обучения и качество всех моделей и всех стратегий. Сделать выводы.\n",
    "- [ ] (**+3 балла**) Повторить все пункты для задачи **Multilabel classification** (классификация с несколькими целевыми признаками, например, бинарными). В качестве стратегий попробовать **MultiOutputClassifier** и **ClassifierChain**.\n",
    "- [ ] (**+2 балла**) Повторить все пункты для задачи **Multioutput Regression** (регрессия с несколькими целевыми признаками, вещественными). Модель попробовать как минимум одну: **Ridge**. В качестве стратегий попробовать **MultiOutputRegressor** и **RegressorChain**. В качестве метрики использовать **R2**."
   ]
  },
  {
   "cell_type": "markdown",
   "id": "f0cdf4c3",
   "metadata": {},
   "source": [
    "### Данные, на которых решается задача\n",
    "\n",
    "В задаче используется датасет, содержащий информацию о физических возможностях людей разных возрастов.\n",
    "\n",
    "Описание датасета:\n",
    "\n",
    "- **age** --- возраст;\n",
    "\n",
    "- **gender** --- пол;\n",
    "\n",
    "- **height_cm** --- рост в сантиметрах;\n",
    "\n",
    "- **weight_kg** --- вес в килограммах;\n",
    "\n",
    "- **body fat_%** --- процент жира;\n",
    "\n",
    "- **diastolic** --- минимальное значение диастоллического кровяного давления;\n",
    "\n",
    "- **systolic** --- минимальное значение систолического кровяного давления;\n",
    "\n",
    "- **gripForce** --- вис;\n",
    "\n",
    "- **sit and bend forward_cm** --- максимальный наклон вперед в сантиметрах;\n",
    "\n",
    "- **sit-ups counts** --- количество приседаний;\n",
    "\n",
    "- **broad jump_cm** --- прыжок в длину в сантимаетрах;\n",
    "\n",
    "- **class** --- класс (A --- наилучший).\n",
    "\n",
    "Целевой признак --- **class**.\n",
    "\n",
    "### Считывание данных\n",
    "\n",
    "Подключаем использумые библиотеки:"
   ]
  },
  {
   "cell_type": "code",
   "execution_count": 1,
   "id": "4df32c38",
   "metadata": {},
   "outputs": [],
   "source": [
    "import numpy as np \n",
    "import pandas as pd\n",
    "import matplotlib.pyplot as plt\n",
    "%matplotlib inline\n",
    "import seaborn as sns\n",
    "\n",
    "# устанавливаем точность чисел с плавающей точкой\n",
    "%precision %.4f\n",
    "\n",
    "import warnings\n",
    "warnings.filterwarnings('ignore')  # отключаем предупреждения"
   ]
  },
  {
   "cell_type": "markdown",
   "id": "7d6f56cf",
   "metadata": {},
   "source": [
    "Считыванием обучающую выборку:"
   ]
  },
  {
   "cell_type": "code",
   "execution_count": 2,
   "id": "21818ce4",
   "metadata": {},
   "outputs": [
    {
     "data": {
      "text/html": [
       "<div>\n",
       "<style scoped>\n",
       "    .dataframe tbody tr th:only-of-type {\n",
       "        vertical-align: middle;\n",
       "    }\n",
       "\n",
       "    .dataframe tbody tr th {\n",
       "        vertical-align: top;\n",
       "    }\n",
       "\n",
       "    .dataframe thead th {\n",
       "        text-align: right;\n",
       "    }\n",
       "</style>\n",
       "<table border=\"1\" class=\"dataframe\">\n",
       "  <thead>\n",
       "    <tr style=\"text-align: right;\">\n",
       "      <th></th>\n",
       "      <th>age</th>\n",
       "      <th>gender</th>\n",
       "      <th>height_cm</th>\n",
       "      <th>weight_kg</th>\n",
       "      <th>body fat_%</th>\n",
       "      <th>diastolic</th>\n",
       "      <th>systolic</th>\n",
       "      <th>gripForce</th>\n",
       "      <th>sit and bend forward_cm</th>\n",
       "      <th>sit-ups counts</th>\n",
       "      <th>broad jump_cm</th>\n",
       "      <th>class</th>\n",
       "    </tr>\n",
       "  </thead>\n",
       "  <tbody>\n",
       "    <tr>\n",
       "      <th>0</th>\n",
       "      <td>27.0</td>\n",
       "      <td>M</td>\n",
       "      <td>172.3</td>\n",
       "      <td>75.24</td>\n",
       "      <td>21.3</td>\n",
       "      <td>80.0</td>\n",
       "      <td>130.0</td>\n",
       "      <td>54.9</td>\n",
       "      <td>18.4</td>\n",
       "      <td>60.0</td>\n",
       "      <td>217.0</td>\n",
       "      <td>C</td>\n",
       "    </tr>\n",
       "    <tr>\n",
       "      <th>1</th>\n",
       "      <td>25.0</td>\n",
       "      <td>M</td>\n",
       "      <td>165.0</td>\n",
       "      <td>55.80</td>\n",
       "      <td>15.7</td>\n",
       "      <td>77.0</td>\n",
       "      <td>126.0</td>\n",
       "      <td>36.4</td>\n",
       "      <td>16.3</td>\n",
       "      <td>53.0</td>\n",
       "      <td>229.0</td>\n",
       "      <td>A</td>\n",
       "    </tr>\n",
       "    <tr>\n",
       "      <th>2</th>\n",
       "      <td>31.0</td>\n",
       "      <td>M</td>\n",
       "      <td>179.6</td>\n",
       "      <td>78.00</td>\n",
       "      <td>20.1</td>\n",
       "      <td>92.0</td>\n",
       "      <td>152.0</td>\n",
       "      <td>44.8</td>\n",
       "      <td>12.0</td>\n",
       "      <td>49.0</td>\n",
       "      <td>181.0</td>\n",
       "      <td>C</td>\n",
       "    </tr>\n",
       "    <tr>\n",
       "      <th>3</th>\n",
       "      <td>32.0</td>\n",
       "      <td>M</td>\n",
       "      <td>174.5</td>\n",
       "      <td>71.10</td>\n",
       "      <td>18.4</td>\n",
       "      <td>76.0</td>\n",
       "      <td>147.0</td>\n",
       "      <td>41.4</td>\n",
       "      <td>15.2</td>\n",
       "      <td>53.0</td>\n",
       "      <td>219.0</td>\n",
       "      <td>B</td>\n",
       "    </tr>\n",
       "    <tr>\n",
       "      <th>4</th>\n",
       "      <td>28.0</td>\n",
       "      <td>M</td>\n",
       "      <td>173.8</td>\n",
       "      <td>67.70</td>\n",
       "      <td>17.1</td>\n",
       "      <td>70.0</td>\n",
       "      <td>127.0</td>\n",
       "      <td>43.5</td>\n",
       "      <td>27.1</td>\n",
       "      <td>45.0</td>\n",
       "      <td>217.0</td>\n",
       "      <td>B</td>\n",
       "    </tr>\n",
       "  </tbody>\n",
       "</table>\n",
       "</div>"
      ],
      "text/plain": [
       "    age gender  height_cm  weight_kg  body fat_%  diastolic  systolic  \\\n",
       "0  27.0      M      172.3      75.24        21.3       80.0     130.0   \n",
       "1  25.0      M      165.0      55.80        15.7       77.0     126.0   \n",
       "2  31.0      M      179.6      78.00        20.1       92.0     152.0   \n",
       "3  32.0      M      174.5      71.10        18.4       76.0     147.0   \n",
       "4  28.0      M      173.8      67.70        17.1       70.0     127.0   \n",
       "\n",
       "   gripForce  sit and bend forward_cm  sit-ups counts  broad jump_cm class  \n",
       "0       54.9                     18.4            60.0          217.0     C  \n",
       "1       36.4                     16.3            53.0          229.0     A  \n",
       "2       44.8                     12.0            49.0          181.0     C  \n",
       "3       41.4                     15.2            53.0          219.0     B  \n",
       "4       43.5                     27.1            45.0          217.0     B  "
      ]
     },
     "execution_count": 2,
     "metadata": {},
     "output_type": "execute_result"
    }
   ],
   "source": [
    "df = pd.read_csv('Dataset/body_performance.csv')\n",
    "df.head()"
   ]
  },
  {
   "cell_type": "markdown",
   "id": "b797ebfc",
   "metadata": {},
   "source": [
    "Общее количество пропущенных значений:"
   ]
  },
  {
   "cell_type": "code",
   "execution_count": 3,
   "id": "fc0b2897",
   "metadata": {},
   "outputs": [
    {
     "data": {
      "text/plain": [
       "age                        0\n",
       "gender                     0\n",
       "height_cm                  0\n",
       "weight_kg                  0\n",
       "body fat_%                 0\n",
       "diastolic                  0\n",
       "systolic                   0\n",
       "gripForce                  0\n",
       "sit and bend forward_cm    0\n",
       "sit-ups counts             0\n",
       "broad jump_cm              0\n",
       "class                      0\n",
       "dtype: int64"
      ]
     },
     "execution_count": 3,
     "metadata": {},
     "output_type": "execute_result"
    }
   ],
   "source": [
    "df.isnull().sum()"
   ]
  },
  {
   "cell_type": "markdown",
   "id": "29e6a3b0",
   "metadata": {},
   "source": [
    "### Разведочный анализ (EDA)\n",
    "\n",
    "Рассмотрим, сколько значений принимает целевой признак:"
   ]
  },
  {
   "cell_type": "code",
   "execution_count": 4,
   "id": "26529ec0",
   "metadata": {},
   "outputs": [
    {
     "data": {
      "text/plain": [
       "C    3349\n",
       "D    3349\n",
       "A    3348\n",
       "B    3347\n",
       "Name: class, dtype: int64"
      ]
     },
     "execution_count": 4,
     "metadata": {},
     "output_type": "execute_result"
    }
   ],
   "source": [
    "df['class'].value_counts()"
   ]
  },
  {
   "cell_type": "markdown",
   "id": "e8bd2621",
   "metadata": {},
   "source": [
    "Построим график:"
   ]
  },
  {
   "cell_type": "code",
   "execution_count": 5,
   "id": "45f48ce6",
   "metadata": {},
   "outputs": [
    {
     "data": {
      "image/png": "[encoded data removed]",
      "text/plain": [
       "<Figure size 640x480 with 1 Axes>"
      ]
     },
     "metadata": {},
     "output_type": "display_data"
    }
   ],
   "source": [
    "sns.countplot(x=\"class\", data=df)\n",
    "plt.show()"
   ]
  },
  {
   "cell_type": "markdown",
   "id": "c70daa13",
   "metadata": {},
   "source": [
    "Видим, что в датасете почти равное число всех классов.\n",
    "\n",
    "#### Количественный признак age\n",
    "\n",
    "Выясним, какие значения принимает признак **age** в датасете:"
   ]
  },
  {
   "cell_type": "code",
   "execution_count": 6,
   "id": "e7a3da31",
   "metadata": {},
   "outputs": [
    {
     "data": {
      "text/plain": [
       "count    13393.000000\n",
       "mean        36.775106\n",
       "std         13.625639\n",
       "min         21.000000\n",
       "25%         25.000000\n",
       "50%         32.000000\n",
       "75%         48.000000\n",
       "max         64.000000\n",
       "Name: age, dtype: float64"
      ]
     },
     "execution_count": 6,
     "metadata": {},
     "output_type": "execute_result"
    }
   ],
   "source": [
    "df['age'].describe()"
   ]
  },
  {
   "cell_type": "markdown",
   "id": "a841415b",
   "metadata": {},
   "source": [
    "Видим, что в датасете люди в возрасте от 21 до 64 лет, средний возраст --- 37 лет.\n",
    "\n",
    "Введём дополнительную функцию для удобного отображения графиков:"
   ]
  },
  {
   "cell_type": "code",
   "execution_count": 7,
   "id": "d8ff88c5",
   "metadata": {},
   "outputs": [],
   "source": [
    "def show_class_crosstab(x_param, x_param_name = \"\", figsize_number = 20):\n",
    "    pd.crosstab(df[x_param], df['class']).plot(kind=\"bar\", figsize=(figsize_number, 6))\n",
    "    plt.xlabel(x_param_name)\n",
    "    plt.ylabel('Число людей в классе')\n",
    "    plt.show()"
   ]
  },
  {
   "cell_type": "code",
   "execution_count": 8,
   "id": "a26a9ce7",
   "metadata": {},
   "outputs": [],
   "source": [
    "def show_barplot(x_param_name):\n",
    "    plt.figure(figsize=(20,5))\n",
    "    plt.grid(axis=\"x\")\n",
    "    plt.xticks(rotation = 90)\n",
    "    plt.title('Принадлежность к классу относительно ' + x_param_name, fontsize = 20)\n",
    "    plt.xlabel(x_param_name, fontsize= 15)\n",
    "    plt.ylabel('class', fontsize= 15)\n",
    "    sns.barplot(x = df[x_param_name], y = df['class'])\n",
    "    plt.show()"
   ]
  },
  {
   "cell_type": "code",
   "execution_count": 9,
   "id": "a0a13ba9",
   "metadata": {},
   "outputs": [
    {
     "data": {
      "image/png": "[encoded data removed]",
      "text/plain": [
       "<Figure size 1500x600 with 1 Axes>"
      ]
     },
     "metadata": {},
     "output_type": "display_data"
    }
   ],
   "source": [
    "show_class_crosstab('age', 'Возраст', 15)"
   ]
  },
  {
   "cell_type": "code",
   "execution_count": 10,
   "id": "afe165d1",
   "metadata": {},
   "outputs": [
    {
     "data": {
      "image/png": "[encoded data removed]",
      "text/plain": [
       "<Figure size 2000x500 with 1 Axes>"
      ]
     },
     "metadata": {},
     "output_type": "display_data"
    }
   ],
   "source": [
    "show_barplot('age')"
   ]
  },
  {
   "cell_type": "markdown",
   "id": "dd51f8f6",
   "metadata": {},
   "source": [
    "Видим, что в ранних возрастах преобладают классы A и C, в пожилых --- классы B и D. С увеличением возраста видим тенденцию перехода от классов A и B к классам C и D.\n",
    "\n",
    "Посмотрим, какой средний возраст у людей в разных классах:"
   ]
  },
  {
   "cell_type": "code",
   "execution_count": 11,
   "id": "f2e629f0",
   "metadata": {},
   "outputs": [
    {
     "data": {
      "text/plain": [
       "class\n",
       "A    35.268220\n",
       "B    37.074096\n",
       "C    36.699612\n",
       "D    38.058226\n",
       "Name: age, dtype: float64"
      ]
     },
     "execution_count": 11,
     "metadata": {},
     "output_type": "execute_result"
    }
   ],
   "source": [
    "df.groupby('class').mean()['age']"
   ]
  },
  {
   "cell_type": "markdown",
   "id": "82bbaf4d",
   "metadata": {},
   "source": [
    "В классе A средний возраст ниже, чем у остальных классов и равен 35 лет. В классах B и C средний возрарст равен 37, в классе D --- 38.\n",
    "\n",
    "### Дискретный признак gender\n",
    "\n",
    "Выясним, какие значения принимает признак **gender** в датасете:"
   ]
  },
  {
   "cell_type": "code",
   "execution_count": 12,
   "id": "41ab195e",
   "metadata": {},
   "outputs": [
    {
     "data": {
      "text/plain": [
       "count     13393\n",
       "unique        2\n",
       "top           M\n",
       "freq       8467\n",
       "Name: gender, dtype: object"
      ]
     },
     "execution_count": 12,
     "metadata": {},
     "output_type": "execute_result"
    }
   ],
   "source": [
    "df['gender'].describe()"
   ]
  },
  {
   "cell_type": "markdown",
   "id": "22b92379",
   "metadata": {},
   "source": [
    "Видим, что этот признак принимает два значения: F (женщина) и M (мужчина). Число мужчин в датасете больше, чем число женщин.\n",
    "\n",
    "Построим график:"
   ]
  },
  {
   "cell_type": "code",
   "execution_count": 13,
   "id": "e27a4129",
   "metadata": {},
   "outputs": [
    {
     "data": {
      "image/png": "[encoded data removed]",
      "text/plain": [
       "<Figure size 640x480 with 1 Axes>"
      ]
     },
     "metadata": {},
     "output_type": "display_data"
    }
   ],
   "source": [
    "sns.countplot(x=\"gender\", data=df)\n",
    "plt.show()"
   ]
  },
  {
   "cell_type": "markdown",
   "id": "0dd06388",
   "metadata": {},
   "source": [
    "Построим график принадлежности к классу относительно пола:"
   ]
  },
  {
   "cell_type": "code",
   "execution_count": 14,
   "id": "ad8f8314",
   "metadata": {},
   "outputs": [
    {
     "data": {
      "image/png": "[encoded data removed]",
      "text/plain": [
       "<Figure size 1000x600 with 1 Axes>"
      ]
     },
     "metadata": {},
     "output_type": "display_data"
    }
   ],
   "source": [
    "show_class_crosstab('gender', 'Пол', 10)"
   ]
  },
  {
   "cell_type": "markdown",
   "id": "f137bcc4",
   "metadata": {},
   "source": [
    "Видим, что среди женщин преобладает класс A, среди мужчин --- класс C.\n",
    "\n",
    "Посмотрим, сколько в среднем людей разного пола, относятся к каждому классу:"
   ]
  },
  {
   "cell_type": "code",
   "execution_count": 15,
   "id": "017fe8ba",
   "metadata": {},
   "outputs": [
    {
     "data": {
      "text/plain": [
       "class  gender\n",
       "A      M         1864\n",
       "       F         1484\n",
       "B      M         2162\n",
       "       F         1185\n",
       "C      M         2237\n",
       "       F         1112\n",
       "D      M         2204\n",
       "       F         1145\n",
       "Name: gender, dtype: int64"
      ]
     },
     "execution_count": 15,
     "metadata": {},
     "output_type": "execute_result"
    }
   ],
   "source": [
    "df.groupby('class')['gender'].value_counts()"
   ]
  },
  {
   "cell_type": "markdown",
   "id": "e1ca0795",
   "metadata": {},
   "source": [
    "#### Признак height_cm\n",
    "\n",
    "Выясним, какие значения принимает признак **height_cm** в датасете:"
   ]
  },
  {
   "cell_type": "code",
   "execution_count": 16,
   "id": "696e0434",
   "metadata": {},
   "outputs": [
    {
     "data": {
      "text/plain": [
       "count    13393.000000\n",
       "mean       168.559807\n",
       "std          8.426583\n",
       "min        125.000000\n",
       "25%        162.400000\n",
       "50%        169.200000\n",
       "75%        174.800000\n",
       "max        193.800000\n",
       "Name: height_cm, dtype: float64"
      ]
     },
     "execution_count": 16,
     "metadata": {},
     "output_type": "execute_result"
    }
   ],
   "source": [
    "df['height_cm'].describe()"
   ]
  },
  {
   "cell_type": "markdown",
   "id": "173e2385",
   "metadata": {},
   "source": [
    "Видим, что в датасете люди ростом от 125.0 до 193.8 сантиметров.\n",
    "\n",
    "Построим график принадлежности к классу относительно роста:"
   ]
  },
  {
   "cell_type": "code",
   "execution_count": 17,
   "id": "906fb75b",
   "metadata": {},
   "outputs": [
    {
     "data": {
      "image/png": "[encoded data removed]",
      "text/plain": [
       "<Figure size 2000x500 with 1 Axes>"
      ]
     },
     "metadata": {},
     "output_type": "display_data"
    }
   ],
   "source": [
    "show_barplot('height_cm')"
   ]
  },
  {
   "cell_type": "markdown",
   "id": "ff46713b",
   "metadata": {},
   "source": [
    "Из графика видим, что люди с меньшим ростом преобладают в классе А, а с большим --- в классе C.\n",
    "\n",
    "Выясним средние значения роста в каждом классе:"
   ]
  },
  {
   "cell_type": "code",
   "execution_count": 18,
   "id": "c4732658",
   "metadata": {},
   "outputs": [
    {
     "data": {
      "text/plain": [
       "class\n",
       "A    167.871027\n",
       "B    168.580311\n",
       "C    169.162168\n",
       "D    168.625530\n",
       "Name: height_cm, dtype: float64"
      ]
     },
     "execution_count": 18,
     "metadata": {},
     "output_type": "execute_result"
    }
   ],
   "source": [
    "df.groupby('class').mean()['height_cm']"
   ]
  },
  {
   "cell_type": "markdown",
   "id": "29bd3ad0",
   "metadata": {},
   "source": [
    "Средний рост людей в классе A 167.8 см, в классе B 168.6 см, в классе C 169.2 см, в классе D 168.6 см.\n",
    "\n",
    "#### Признак weight_kg\n",
    "\n",
    "Выясним, какие значения принимает признак **weight_kg** в датасете:"
   ]
  },
  {
   "cell_type": "code",
   "execution_count": 19,
   "id": "6b76ce32",
   "metadata": {},
   "outputs": [
    {
     "data": {
      "text/plain": [
       "count    13393.000000\n",
       "mean        67.447316\n",
       "std         11.949666\n",
       "min         26.300000\n",
       "25%         58.200000\n",
       "50%         67.400000\n",
       "75%         75.300000\n",
       "max        138.100000\n",
       "Name: weight_kg, dtype: float64"
      ]
     },
     "execution_count": 19,
     "metadata": {},
     "output_type": "execute_result"
    }
   ],
   "source": [
    "df['weight_kg'].describe()"
   ]
  },
  {
   "cell_type": "markdown",
   "id": "7b59065d",
   "metadata": {},
   "source": [
    "Видим, что в датасете люди весом от 26.3 до 138.1 килограммов. Средний вес человека --- 67 килограммов.\n",
    "\n",
    "Построим график принадлежности к классу относительно веса:"
   ]
  },
  {
   "cell_type": "code",
   "execution_count": 20,
   "id": "13cb5d28",
   "metadata": {},
   "outputs": [
    {
     "data": {
      "image/png": "[encoded data removed]",
      "text/plain": [
       "<Figure size 2000x500 with 1 Axes>"
      ]
     },
     "metadata": {},
     "output_type": "display_data"
    }
   ],
   "source": [
    "show_barplot('weight_kg')"
   ]
  },
  {
   "cell_type": "markdown",
   "id": "91b5031f",
   "metadata": {},
   "source": [
    "Из графика видим, что вес людей в классе A значительно меньше, чем в остальных классах. Самый большой средний вес --- в классе D. С увеличением веса ухудшается спортивный класс.\n",
    "\n",
    "Выясним средние значения веса в каждом классе:"
   ]
  },
  {
   "cell_type": "code",
   "execution_count": 21,
   "id": "c797dbda",
   "metadata": {},
   "outputs": [
    {
     "data": {
      "text/plain": [
       "class\n",
       "A    64.418178\n",
       "B    66.612420\n",
       "C    66.760314\n",
       "D    71.996948\n",
       "Name: weight_kg, dtype: float64"
      ]
     },
     "execution_count": 21,
     "metadata": {},
     "output_type": "execute_result"
    }
   ],
   "source": [
    "df.groupby('class').mean()['weight_kg']"
   ]
  },
  {
   "cell_type": "markdown",
   "id": "0c8f860b",
   "metadata": {},
   "source": [
    "Средний вес людей в классе A 64.4 кг, в классе B 66.6 кг, в классе C 66.8 кг, в классе D 71.9 кг.\n",
    "\n",
    "#### Признак body fat_%\n",
    "\n",
    "Выясним, какие значения принимает признак **body fat_%** в датасете:"
   ]
  },
  {
   "cell_type": "code",
   "execution_count": 22,
   "id": "a9f8328c",
   "metadata": {},
   "outputs": [
    {
     "data": {
      "text/plain": [
       "count    13393.000000\n",
       "mean        23.240165\n",
       "std          7.256844\n",
       "min          3.000000\n",
       "25%         18.000000\n",
       "50%         22.800000\n",
       "75%         28.000000\n",
       "max         78.400000\n",
       "Name: body fat_%, dtype: float64"
      ]
     },
     "execution_count": 22,
     "metadata": {},
     "output_type": "execute_result"
    }
   ],
   "source": [
    "df['body fat_%'].describe()"
   ]
  },
  {
   "cell_type": "markdown",
   "id": "c0267742",
   "metadata": {},
   "source": [
    "Видим, что в датасете люди с процентом жира от 3.0 до 78.4. Средний процент жира человека --- 23.2.\n",
    "\n",
    "Построим график принадлежности к классу относительно процента жира:"
   ]
  },
  {
   "cell_type": "code",
   "execution_count": 23,
   "id": "77467d60",
   "metadata": {},
   "outputs": [
    {
     "data": {
      "image/png": "[encoded data removed]",
      "text/plain": [
       "<Figure size 2000x500 with 1 Axes>"
      ]
     },
     "metadata": {},
     "output_type": "display_data"
    }
   ],
   "source": [
    "show_barplot('body fat_%')"
   ]
  },
  {
   "cell_type": "markdown",
   "id": "aac5fedb",
   "metadata": {},
   "source": [
    "Из графика видим, что процент жира людей в классе A значительно меньше, чем в остальных классах. Самый большой процент жира --- в классе D. С увеличением процент жира ухудшается спортивный класс.\n",
    "\n",
    "Выясним средние значения процент жира в каждом классе:"
   ]
  },
  {
   "cell_type": "code",
   "execution_count": 24,
   "id": "b1bf0bb8",
   "metadata": {},
   "outputs": [
    {
     "data": {
      "text/plain": [
       "class\n",
       "A    20.539159\n",
       "B    22.039981\n",
       "C    22.644564\n",
       "D    27.735432\n",
       "Name: body fat_%, dtype: float64"
      ]
     },
     "execution_count": 24,
     "metadata": {},
     "output_type": "execute_result"
    }
   ],
   "source": [
    "df.groupby('class').mean()['body fat_%']"
   ]
  },
  {
   "cell_type": "markdown",
   "id": "bf70ede5",
   "metadata": {},
   "source": [
    "Средний процент жира людей в классе A 20.5, в классе B 22.0, в классе C 22.6, в классе D 27.7.\n",
    "\n",
    "#### Признак diastolic\n",
    "\n",
    "Выясним, какие значения принимает признак **diastolic** в датасете:"
   ]
  },
  {
   "cell_type": "code",
   "execution_count": 25,
   "id": "6fe1ab72",
   "metadata": {},
   "outputs": [
    {
     "data": {
      "text/plain": [
       "count    13393.000000\n",
       "mean        78.796842\n",
       "std         10.742033\n",
       "min          0.000000\n",
       "25%         71.000000\n",
       "50%         79.000000\n",
       "75%         86.000000\n",
       "max        156.200000\n",
       "Name: diastolic, dtype: float64"
      ]
     },
     "execution_count": 25,
     "metadata": {},
     "output_type": "execute_result"
    }
   ],
   "source": [
    "df['diastolic'].describe()"
   ]
  },
  {
   "cell_type": "markdown",
   "id": "16c9e993",
   "metadata": {},
   "source": [
    "Видим, что в датасете люди с минимальным дистоллическим кровяным давлением от 0.0 до 156.2. Среднее значение минимального дистоллического кровяного давления человека --- 78.8.\n",
    "\n",
    "Построим график принадлежности к классу относительно минимального дистоллического кровяного давлени:"
   ]
  },
  {
   "cell_type": "code",
   "execution_count": 26,
   "id": "f242fbad",
   "metadata": {},
   "outputs": [
    {
     "data": {
      "image/png": "[encoded data removed]",
      "text/plain": [
       "<Figure size 2000x500 with 1 Axes>"
      ]
     },
     "metadata": {},
     "output_type": "display_data"
    }
   ],
   "source": [
    "show_barplot('diastolic')"
   ]
  },
  {
   "cell_type": "markdown",
   "id": "26659148",
   "metadata": {},
   "source": [
    "Из графика видим, что минимальное дистоллическое кровяное давление ниже всего в классе А. В классе D оно имеет самое высокое значение. Видим тенденцию ухудшения класса с возрастанием минимального дистоллического кровяного давления.\n",
    "\n",
    "Выясним среднее значение минимального дистоллического кровяного давления в каждом классе:"
   ]
  },
  {
   "cell_type": "code",
   "execution_count": 27,
   "id": "b0fa1d89",
   "metadata": {},
   "outputs": [
    {
     "data": {
      "text/plain": [
       "class\n",
       "A    77.903345\n",
       "B    78.656468\n",
       "C    78.550672\n",
       "D    80.076530\n",
       "Name: diastolic, dtype: float64"
      ]
     },
     "execution_count": 27,
     "metadata": {},
     "output_type": "execute_result"
    }
   ],
   "source": [
    "df.groupby('class').mean()['diastolic']"
   ]
  },
  {
   "cell_type": "markdown",
   "id": "44e03baf",
   "metadata": {},
   "source": [
    "Среднее минимальное значение дистоллического кровяного давления людей в классе A 77.9, в классе B 78.6, в классе C 78.5, в классе D 80.1.\n",
    "\n",
    "#### Признак systolic\n",
    "\n",
    "Выясним, какие значения принимает признак **systolic** в датасете:"
   ]
  },
  {
   "cell_type": "code",
   "execution_count": 28,
   "id": "3f10881f",
   "metadata": {},
   "outputs": [
    {
     "data": {
      "text/plain": [
       "count    13393.000000\n",
       "mean       130.234817\n",
       "std         14.713954\n",
       "min          0.000000\n",
       "25%        120.000000\n",
       "50%        130.000000\n",
       "75%        141.000000\n",
       "max        201.000000\n",
       "Name: systolic, dtype: float64"
      ]
     },
     "execution_count": 28,
     "metadata": {},
     "output_type": "execute_result"
    }
   ],
   "source": [
    "df['systolic'].describe()"
   ]
  },
  {
   "cell_type": "markdown",
   "id": "8e2793a2",
   "metadata": {},
   "source": [
    "Видим, что в датасете люди с минимальным систолическим кровяным давлением от 0.0 до 201.0. Среднее значение минимального систолического кровяного давления человека --- 130.2.\n",
    "\n",
    "Построим график принадлежности к классу относительно минимального систолического кровяного давления:"
   ]
  },
  {
   "cell_type": "code",
   "execution_count": 29,
   "id": "375c34a5",
   "metadata": {},
   "outputs": [
    {
     "data": {
      "image/png": "[encoded data removed]",
      "text/plain": [
       "<Figure size 2000x500 with 1 Axes>"
      ]
     },
     "metadata": {},
     "output_type": "display_data"
    }
   ],
   "source": [
    "show_barplot('systolic')"
   ]
  },
  {
   "cell_type": "markdown",
   "id": "1e76fe5e",
   "metadata": {},
   "source": [
    "Из графика видим, что минимальное дистоллическое кровяное давление ниже всего в классе А. В классе D оно имеет самое высокое значение. Видим тенденцию ухудшения класса с возрастанием минимального систолического кровяного давления.\n",
    "\n",
    "Выясним среднее значение минимального систолического кровяного давления в каждом классе:"
   ]
  },
  {
   "cell_type": "code",
   "execution_count": 30,
   "id": "be11c768",
   "metadata": {},
   "outputs": [
    {
     "data": {
      "text/plain": [
       "class\n",
       "A    129.290024\n",
       "B    130.639349\n",
       "C    129.925351\n",
       "D    131.084503\n",
       "Name: systolic, dtype: float64"
      ]
     },
     "execution_count": 30,
     "metadata": {},
     "output_type": "execute_result"
    }
   ],
   "source": [
    "df.groupby('class').mean()['systolic']"
   ]
  },
  {
   "cell_type": "markdown",
   "id": "d98eeda2",
   "metadata": {},
   "source": [
    "Среднее минимальное значение систолического кровяного давления людей в классе A 129.3, в классе B 130.6, в классе C 129.9, в классе D 131.1.\n",
    "\n",
    "#### Признак gripForce\n",
    "\n",
    "Выясним, какие значения принимает признак **gripForce** в датасете:"
   ]
  },
  {
   "cell_type": "code",
   "execution_count": 31,
   "id": "f81a77ae",
   "metadata": {},
   "outputs": [
    {
     "data": {
      "text/plain": [
       "count    13393.000000\n",
       "mean        36.963877\n",
       "std         10.624864\n",
       "min          0.000000\n",
       "25%         27.500000\n",
       "50%         37.900000\n",
       "75%         45.200000\n",
       "max         70.500000\n",
       "Name: gripForce, dtype: float64"
      ]
     },
     "execution_count": 31,
     "metadata": {},
     "output_type": "execute_result"
    }
   ],
   "source": [
    "df['gripForce'].describe()"
   ]
  },
  {
   "cell_type": "markdown",
   "id": "13bea506",
   "metadata": {},
   "source": [
    "Видим, что в датасете признак **gripForce** имеет значения от 0.0 до 70.5. Среднее значение --- 36.9.\n",
    "\n",
    "Построим график принадлежности к классу относительно **gripForce**:"
   ]
  },
  {
   "cell_type": "code",
   "execution_count": 32,
   "id": "94f6940a",
   "metadata": {},
   "outputs": [
    {
     "data": {
      "image/png": "[encoded data removed]",
      "text/plain": [
       "<Figure size 2000x500 with 1 Axes>"
      ]
     },
     "metadata": {},
     "output_type": "display_data"
    }
   ],
   "source": [
    "show_barplot('gripForce')"
   ]
  },
  {
   "cell_type": "markdown",
   "id": "5bd67385",
   "metadata": {},
   "source": [
    "Из графика видим, что значение **gripForce** ниже всего в классе D. В классе A оно имеет самое высокое значение. Видим тенденцию улучшения класса с возрастанием **gripForce**.\n",
    "\n",
    "Выясним среднее значение **gripForce** в каждом классе:"
   ]
  },
  {
   "cell_type": "code",
   "execution_count": 33,
   "id": "61541c88",
   "metadata": {},
   "outputs": [
    {
     "data": {
      "text/plain": [
       "class\n",
       "A    38.615723\n",
       "B    37.910436\n",
       "C    36.582663\n",
       "D    34.747746\n",
       "Name: gripForce, dtype: float64"
      ]
     },
     "execution_count": 33,
     "metadata": {},
     "output_type": "execute_result"
    }
   ],
   "source": [
    "df.groupby('class').mean()['gripForce']"
   ]
  },
  {
   "cell_type": "markdown",
   "id": "6e735bd3",
   "metadata": {},
   "source": [
    "Среднее значение **gripForce** в классе A 38.6, в классе B 37.9, в классе C 36.6, в классе D 34.7.\n",
    "\n",
    "#### Признак sit and bend forward_cm\n",
    "\n",
    "Выясним, какие значения принимает признак **sit and bend forward_cm** в датасете:"
   ]
  },
  {
   "cell_type": "code",
   "execution_count": 34,
   "id": "ba2a9706",
   "metadata": {},
   "outputs": [
    {
     "data": {
      "text/plain": [
       "count    13393.000000\n",
       "mean        15.209268\n",
       "std          8.456677\n",
       "min        -25.000000\n",
       "25%         10.900000\n",
       "50%         16.200000\n",
       "75%         20.700000\n",
       "max        213.000000\n",
       "Name: sit and bend forward_cm, dtype: float64"
      ]
     },
     "execution_count": 34,
     "metadata": {},
     "output_type": "execute_result"
    }
   ],
   "source": [
    "df['sit and bend forward_cm'].describe()"
   ]
  },
  {
   "cell_type": "markdown",
   "id": "8a05294c",
   "metadata": {},
   "source": [
    "Видим, что в датасете люди с максимальным значением наклона вперёд от -25.0 до 213.0. Среднее значение максимального наклона вперёд человека --- 15.2.\n",
    "\n",
    "Построим график принадлежности к классу относительно маскимального наклона вперед:"
   ]
  },
  {
   "cell_type": "code",
   "execution_count": 35,
   "id": "441c5b9f",
   "metadata": {},
   "outputs": [
    {
     "data": {
      "image/png": "[encoded data removed]",
      "text/plain": [
       "<Figure size 2000x500 with 1 Axes>"
      ]
     },
     "metadata": {},
     "output_type": "display_data"
    }
   ],
   "source": [
    "show_barplot('sit and bend forward_cm')"
   ]
  },
  {
   "cell_type": "markdown",
   "id": "0fd7cdb5",
   "metadata": {},
   "source": [
    "Из графика видим, что значение максимального наклона впереж ниже всего в классе D. В классе A оно имеет самое высокое значение. Видим тенденцию улучшения класса с возрастанием максимального наклона вперед.\n",
    "\n",
    "Выясним среднее значение максимального наклона вперед в каждом классе:"
   ]
  },
  {
   "cell_type": "code",
   "execution_count": 36,
   "id": "b9b3b4fa",
   "metadata": {},
   "outputs": [
    {
     "data": {
      "text/plain": [
       "class\n",
       "A    21.391777\n",
       "B    17.467586\n",
       "C    14.390645\n",
       "D     7.590260\n",
       "Name: sit and bend forward_cm, dtype: float64"
      ]
     },
     "execution_count": 36,
     "metadata": {},
     "output_type": "execute_result"
    }
   ],
   "source": [
    "df.groupby('class').mean()['sit and bend forward_cm']"
   ]
  },
  {
   "cell_type": "markdown",
   "id": "d6b3d42c",
   "metadata": {},
   "source": [
    "Среднее значение максимального наклона вперед в классе A 21.4, в классе B 17.5, в классе C 14.4, в классе D 7.6.\n",
    "\n",
    "#### Признак sit-ups counts\n",
    "\n",
    "Выясним, какие значения принимает признак **sit-ups counts** в датасете:"
   ]
  },
  {
   "cell_type": "code",
   "execution_count": 37,
   "id": "83e081b8",
   "metadata": {},
   "outputs": [
    {
     "data": {
      "text/plain": [
       "count    13393.000000\n",
       "mean        39.771224\n",
       "std         14.276698\n",
       "min          0.000000\n",
       "25%         30.000000\n",
       "50%         41.000000\n",
       "75%         50.000000\n",
       "max         80.000000\n",
       "Name: sit-ups counts, dtype: float64"
      ]
     },
     "execution_count": 37,
     "metadata": {},
     "output_type": "execute_result"
    }
   ],
   "source": [
    "df['sit-ups counts'].describe()"
   ]
  },
  {
   "cell_type": "markdown",
   "id": "9a4c9b5e",
   "metadata": {},
   "source": [
    "Видим, что в датасете люди с максимальным количеством приседаний от 0.0 до 80.0. Среднее значение максимального количества приседаний человека --- 39.8.\n",
    "\n",
    "Построим график принадлежности к классу относительно максимального числа приседаний:"
   ]
  },
  {
   "cell_type": "code",
   "execution_count": 38,
   "id": "36fefecf",
   "metadata": {},
   "outputs": [
    {
     "data": {
      "image/png": "[encoded data removed]",
      "text/plain": [
       "<Figure size 2000x500 with 1 Axes>"
      ]
     },
     "metadata": {},
     "output_type": "display_data"
    }
   ],
   "source": [
    "show_barplot('sit-ups counts')"
   ]
  },
  {
   "cell_type": "markdown",
   "id": "c80f08b7",
   "metadata": {},
   "source": [
    "Из графика видим, что значение максимального количества приседаний ниже всего в классе D. В классе A оно имеет самое высокое значение. Видим тенденцию улучшения класса с возрастанием максимального количества приседаний.\n",
    "\n",
    "Выясним среднее значение максимального количества приседаний в каждом классе:"
   ]
  },
  {
   "cell_type": "code",
   "execution_count": 39,
   "id": "4bd3a2b7",
   "metadata": {},
   "outputs": [
    {
     "data": {
      "text/plain": [
       "class\n",
       "A    47.848268\n",
       "B    42.639199\n",
       "C    38.720215\n",
       "D    29.881338\n",
       "Name: sit-ups counts, dtype: float64"
      ]
     },
     "execution_count": 39,
     "metadata": {},
     "output_type": "execute_result"
    }
   ],
   "source": [
    "df.groupby('class').mean()['sit-ups counts']"
   ]
  },
  {
   "cell_type": "markdown",
   "id": "624b4dd6",
   "metadata": {},
   "source": [
    "Среднее значение максимального количества приседаний в классе A 47.8, в классе B 42.6, в классе C 38.7, в классе D 29.9.\n",
    "\n",
    "#### Признак broad jump_cm\n",
    "\n",
    "Выясним, какие значения принимает признак **broad jump_cm** в датасете:"
   ]
  },
  {
   "cell_type": "code",
   "execution_count": 40,
   "id": "4a9b7011",
   "metadata": {},
   "outputs": [
    {
     "data": {
      "text/plain": [
       "count    13393.000000\n",
       "mean       190.129627\n",
       "std         39.868000\n",
       "min          0.000000\n",
       "25%        162.000000\n",
       "50%        193.000000\n",
       "75%        221.000000\n",
       "max        303.000000\n",
       "Name: broad jump_cm, dtype: float64"
      ]
     },
     "execution_count": 40,
     "metadata": {},
     "output_type": "execute_result"
    }
   ],
   "source": [
    "df['broad jump_cm'].describe()"
   ]
  },
  {
   "cell_type": "markdown",
   "id": "6906b4e5",
   "metadata": {},
   "source": [
    "Видим, что в датасете люди с максимальной длиной прыжка от 0.0 до 303.0. Среднее значение максимальной длины прыжка человека --- 190.1.\n",
    "\n",
    "Построим график принадлежности к классу относительно максимальной длины прыжка:"
   ]
  },
  {
   "cell_type": "code",
   "execution_count": 41,
   "id": "7d3d7775",
   "metadata": {},
   "outputs": [
    {
     "data": {
      "image/png": "[encoded data removed]",
      "text/plain": [
       "<Figure size 2000x500 with 1 Axes>"
      ]
     },
     "metadata": {},
     "output_type": "display_data"
    }
   ],
   "source": [
    "show_barplot('broad jump_cm')"
   ]
  },
  {
   "cell_type": "markdown",
   "id": "b3236207",
   "metadata": {},
   "source": [
    "Из графика видим, что значение максимальной длины прыжка ниже всего в классе D. В классе A оно имеет самое высокое значение. Видим тенденцию улучшения класса с возрастанием максимальной длины прыжка.\n",
    "\n",
    "Выясним среднее значение максимальной длины прыжка в каждом классе:"
   ]
  },
  {
   "cell_type": "code",
   "execution_count": 42,
   "id": "dcbac6cc",
   "metadata": {},
   "outputs": [
    {
     "data": {
      "text/plain": [
       "class\n",
       "A    202.744026\n",
       "B    195.332566\n",
       "C    188.627949\n",
       "D    173.820842\n",
       "Name: broad jump_cm, dtype: float64"
      ]
     },
     "execution_count": 42,
     "metadata": {},
     "output_type": "execute_result"
    }
   ],
   "source": [
    "df.groupby('class').mean()['broad jump_cm']"
   ]
  },
  {
   "cell_type": "markdown",
   "id": "ed50532a",
   "metadata": {},
   "source": [
    "Среднее значение максимальной длины прыжка в классе A 202.7, в классе B 195.3, в классе C 188.6, в классе D 173.8.\n",
    "\n",
    "#### Выводы\n",
    "\n",
    "- **age** --- в ранних возрастах преобладают классы A и C, в пожилых --- классы B и D. С увеличением возраста есть тенденция перехода от классов A и B к классам C и D. В классе A средний возраст равен 35 лет, в классах B и C средний возраст равен 37, в классе D --- 38;\n",
    "\n",
    "- **gender** --- число мужчин в датасете больше, чем число женщин. Среди женщин преобладает класс A, среди мужчин --- класс C;\n",
    "\n",
    "- **height_cm** --- люди с меньшим ростом преобладают в классе А, а с большим --- в классе C. Средний рост людей в классе A 167.8 см, в классе B 168.6 см, в классе C 169.2 см, в классе D 168.6 см;\n",
    "\n",
    "- **weight_kg** --- вес людей в классе A значительно меньше, чем в остальных классах. Самый большой средний вес --- в классе D. С увеличением веса ухудшается спортивный класс. Средний вес людей в классе A 64.4 кг, в классе B 66.6 кг, в классе C 66.8 кг, в классе D 71.9 кг;\n",
    "\n",
    "- **body fat_%** --- процент жира людей в классе A значительно меньше, чем в остальных классах. Самый большой процент жира --- в классе D. С увеличением процент жира ухудшается спортивный класс. Средний процент жира людей в классе A 20.5, в классе B 22.0, в классе C 22.6, в классе D 27.7;\n",
    "\n",
    "- **diastolic** --- минимальное дистоллическое кровяное давление ниже всего в классе А. В классе D оно имеет самое высокое значение. Видим тенденцию ухудшения класса с возрастанием минимального дистоллического кровяного давления. Среднее минимальное значение дистоллического кровяного давления людей в классе A 77.9, в классе B 78.6, в классе C 78.5, в классе D 80.1;\n",
    "\n",
    "- **systolic** --- минимальное дистоллическое кровяное давление ниже всего в классе А. В классе D оно имеет самое высокое значение. Видим тенденцию ухудшения класса с возрастанием минимального систолического кровяного давления. Минимальное значение систолического кровяного давления людей в классе A 129.3, в классе B 130.6, в классе C 129.9, в классе D 131.1;\n",
    "\n",
    "- **gripForce** --- значение **gripForce** ниже всего в классе D. В классе A оно имеет самое высокое значение. Видим тенденцию улучшения класса с возрастанием **gripForce**. Среднее значение максимального наклона вперед в классе A 21.4, в классе B 17.5, в классе C 14.4, в классе D 7.6;\n",
    "\n",
    "- **sit and bend forward_cm** --- значение максимального наклона впереж ниже всего в классе D. В классе A оно имеет самое высокое значение. Видим тенденцию улучшения класса с возрастанием максимального наклона вперед. Среднее значение максимального наклона вперед в классе A 21.4, в классе B 17.5, в классе C 14.4, в классе D 7.6;\n",
    "\n",
    "- **sit-ups counts** --- значение максимального количества приседаний ниже всего в классе D. В классе A оно имеет самое высокое значение. Видим тенденцию улучшения класса с возрастанием максимального количества приседаний. Среднее значение максимального количества приседаний в классе A 47.8, в классе B 42.6, в классе C 38.7, в классе D 29.9;\n",
    "\n",
    "- **broad jump_cm** --- значение максимальной длины прыжка ниже всего в классе D. В классе A оно имеет самое высокое значение. Видим тенденцию улучшения класса с возрастанием максимальной длины прыжка. Среднее значение максимальной длины прыжка в классе A 202.7, в классе B 195.3, в классе C 188.6, в классе D 173.8.\n",
    "\n",
    "### Feature Engineering\n",
    "\n",
    "Преобразуем количественные признаки в категориальные:\n",
    "\n",
    "### Новый признак категории возраста age"
   ]
  },
  {
   "cell_type": "code",
   "execution_count": 43,
   "id": "d7f9c8d5",
   "metadata": {},
   "outputs": [
    {
     "data": {
      "text/html": [
       "<style type=\"text/css\">\n",
       "#T_4fd4e_row0_col0 {\n",
       "  background-color: #2b9566;\n",
       "  color: #f1f1f1;\n",
       "}\n",
       "#T_4fd4e_row1_col0 {\n",
       "  background-color: #51a866;\n",
       "  color: #f1f1f1;\n",
       "}\n",
       "#T_4fd4e_row2_col0 {\n",
       "  background-color: #008066;\n",
       "  color: #f1f1f1;\n",
       "}\n",
       "#T_4fd4e_row3_col0 {\n",
       "  background-color: #359a66;\n",
       "  color: #f1f1f1;\n",
       "}\n",
       "#T_4fd4e_row4_col0 {\n",
       "  background-color: #078366;\n",
       "  color: #f1f1f1;\n",
       "}\n",
       "#T_4fd4e_row5_col0 {\n",
       "  background-color: #6eb666;\n",
       "  color: #f1f1f1;\n",
       "}\n",
       "#T_4fd4e_row6_col0 {\n",
       "  background-color: #b6db66;\n",
       "  color: #000000;\n",
       "}\n",
       "#T_4fd4e_row7_col0 {\n",
       "  background-color: #ffff66;\n",
       "  color: #000000;\n",
       "}\n",
       "#T_4fd4e_row8_col0 {\n",
       "  background-color: #84c266;\n",
       "  color: #000000;\n",
       "}\n",
       "#T_4fd4e_row9_col0 {\n",
       "  background-color: #6ab466;\n",
       "  color: #f1f1f1;\n",
       "}\n",
       "#T_4fd4e_row10_col0 {\n",
       "  background-color: #63b166;\n",
       "  color: #f1f1f1;\n",
       "}\n",
       "#T_4fd4e_row11_col0 {\n",
       "  background-color: #259266;\n",
       "  color: #f1f1f1;\n",
       "}\n",
       "#T_4fd4e_row12_col0 {\n",
       "  background-color: #d2e866;\n",
       "  color: #000000;\n",
       "}\n",
       "#T_4fd4e_row13_col0 {\n",
       "  background-color: #60b066;\n",
       "  color: #f1f1f1;\n",
       "}\n",
       "#T_4fd4e_row14_col0 {\n",
       "  background-color: #70b866;\n",
       "  color: #f1f1f1;\n",
       "}\n",
       "#T_4fd4e_row15_col0 {\n",
       "  background-color: #2f9766;\n",
       "  color: #f1f1f1;\n",
       "}\n",
       "</style>\n",
       "<table id=\"T_4fd4e\">\n",
       "  <thead>\n",
       "    <tr>\n",
       "      <th class=\"blank\" >&nbsp;</th>\n",
       "      <th class=\"blank level0\" >&nbsp;</th>\n",
       "      <th id=\"T_4fd4e_level0_col0\" class=\"col_heading level0 col0\" >class</th>\n",
       "    </tr>\n",
       "    <tr>\n",
       "      <th class=\"index_name level0\" >age_category</th>\n",
       "      <th class=\"index_name level1\" >class</th>\n",
       "      <th class=\"blank col0\" >&nbsp;</th>\n",
       "    </tr>\n",
       "  </thead>\n",
       "  <tbody>\n",
       "    <tr>\n",
       "      <th id=\"T_4fd4e_level0_row0\" class=\"row_heading level0 row0\" rowspan=\"4\">(20.999, 25.0]</th>\n",
       "      <th id=\"T_4fd4e_level1_row0\" class=\"row_heading level1 row0\" >A</th>\n",
       "      <td id=\"T_4fd4e_row0_col0\" class=\"data row0 col0\" >922</td>\n",
       "    </tr>\n",
       "    <tr>\n",
       "      <th id=\"T_4fd4e_level1_row1\" class=\"row_heading level1 row1\" >B</th>\n",
       "      <td id=\"T_4fd4e_row1_col0\" class=\"data row1 col0\" >863</td>\n",
       "    </tr>\n",
       "    <tr>\n",
       "      <th id=\"T_4fd4e_level1_row2\" class=\"row_heading level1 row2\" >C</th>\n",
       "      <td id=\"T_4fd4e_row2_col0\" class=\"data row2 col0\" >990</td>\n",
       "    </tr>\n",
       "    <tr>\n",
       "      <th id=\"T_4fd4e_level1_row3\" class=\"row_heading level1 row3\" >D</th>\n",
       "      <td id=\"T_4fd4e_row3_col0\" class=\"data row3 col0\" >907</td>\n",
       "    </tr>\n",
       "    <tr>\n",
       "      <th id=\"T_4fd4e_level0_row4\" class=\"row_heading level0 row4\" rowspan=\"4\">(25.0, 32.0]</th>\n",
       "      <th id=\"T_4fd4e_level1_row4\" class=\"row_heading level1 row4\" >A</th>\n",
       "      <td id=\"T_4fd4e_row4_col0\" class=\"data row4 col0\" >978</td>\n",
       "    </tr>\n",
       "    <tr>\n",
       "      <th id=\"T_4fd4e_level1_row5\" class=\"row_heading level1 row5\" >B</th>\n",
       "      <td id=\"T_4fd4e_row5_col0\" class=\"data row5 col0\" >818</td>\n",
       "    </tr>\n",
       "    <tr>\n",
       "      <th id=\"T_4fd4e_level1_row6\" class=\"row_heading level1 row6\" >C</th>\n",
       "      <td id=\"T_4fd4e_row6_col0\" class=\"data row6 col0\" >707</td>\n",
       "    </tr>\n",
       "    <tr>\n",
       "      <th id=\"T_4fd4e_level1_row7\" class=\"row_heading level1 row7\" >D</th>\n",
       "      <td id=\"T_4fd4e_row7_col0\" class=\"data row7 col0\" >593</td>\n",
       "    </tr>\n",
       "    <tr>\n",
       "      <th id=\"T_4fd4e_level0_row8\" class=\"row_heading level0 row8\" rowspan=\"4\">(32.0, 48.0]</th>\n",
       "      <th id=\"T_4fd4e_level1_row8\" class=\"row_heading level1 row8\" >A</th>\n",
       "      <td id=\"T_4fd4e_row8_col0\" class=\"data row8 col0\" >785</td>\n",
       "    </tr>\n",
       "    <tr>\n",
       "      <th id=\"T_4fd4e_level1_row9\" class=\"row_heading level1 row9\" >B</th>\n",
       "      <td id=\"T_4fd4e_row9_col0\" class=\"data row9 col0\" >825</td>\n",
       "    </tr>\n",
       "    <tr>\n",
       "      <th id=\"T_4fd4e_level1_row10\" class=\"row_heading level1 row10\" >C</th>\n",
       "      <td id=\"T_4fd4e_row10_col0\" class=\"data row10 col0\" >836</td>\n",
       "    </tr>\n",
       "    <tr>\n",
       "      <th id=\"T_4fd4e_level1_row11\" class=\"row_heading level1 row11\" >D</th>\n",
       "      <td id=\"T_4fd4e_row11_col0\" class=\"data row11 col0\" >932</td>\n",
       "    </tr>\n",
       "    <tr>\n",
       "      <th id=\"T_4fd4e_level0_row12\" class=\"row_heading level0 row12\" rowspan=\"4\">(48.0, 64.0]</th>\n",
       "      <th id=\"T_4fd4e_level1_row12\" class=\"row_heading level1 row12\" >A</th>\n",
       "      <td id=\"T_4fd4e_row12_col0\" class=\"data row12 col0\" >663</td>\n",
       "    </tr>\n",
       "    <tr>\n",
       "      <th id=\"T_4fd4e_level1_row13\" class=\"row_heading level1 row13\" >B</th>\n",
       "      <td id=\"T_4fd4e_row13_col0\" class=\"data row13 col0\" >841</td>\n",
       "    </tr>\n",
       "    <tr>\n",
       "      <th id=\"T_4fd4e_level1_row14\" class=\"row_heading level1 row14\" >C</th>\n",
       "      <td id=\"T_4fd4e_row14_col0\" class=\"data row14 col0\" >816</td>\n",
       "    </tr>\n",
       "    <tr>\n",
       "      <th id=\"T_4fd4e_level1_row15\" class=\"row_heading level1 row15\" >D</th>\n",
       "      <td id=\"T_4fd4e_row15_col0\" class=\"data row15 col0\" >917</td>\n",
       "    </tr>\n",
       "  </tbody>\n",
       "</table>\n"
      ],
      "text/plain": [
       "<pandas.io.formats.style.Styler at 0x23dc09fef70>"
      ]
     },
     "execution_count": 43,
     "metadata": {},
     "output_type": "execute_result"
    }
   ],
   "source": [
    "df['age_category'] = pd.qcut(df['age'], 4)\n",
    "df.groupby(['age_category', 'class'])['class'].count().to_frame().style.background_gradient(cmap='summer_r')"
   ]
  },
  {
   "cell_type": "code",
   "execution_count": 44,
   "id": "401c7dcc",
   "metadata": {},
   "outputs": [],
   "source": [
    "df['age_category'] = 0\n",
    "df.loc[df['age'] <= 25.0, 'age_category'] = 0\n",
    "df.loc[(df['age'] > 25.0) & (df['age'] <= 32.0), 'age_category'] = 1\n",
    "df.loc[(df['age'] > 32.0) & (df['age'] <= 48.0), 'age_category'] = 2\n",
    "df.loc[df['age'] > 48.0, 'age_category'] = 3"
   ]
  },
  {
   "cell_type": "markdown",
   "id": "1e6377a3",
   "metadata": {},
   "source": [
    "### Новый признак категории height_cm"
   ]
  },
  {
   "cell_type": "code",
   "execution_count": 45,
   "id": "ac7aa830",
   "metadata": {},
   "outputs": [
    {
     "data": {
      "text/html": [
       "<style type=\"text/css\">\n",
       "#T_61a57_row0_col0 {\n",
       "  background-color: #3e9e66;\n",
       "  color: #f1f1f1;\n",
       "}\n",
       "#T_61a57_row1_col0 {\n",
       "  background-color: #a7d366;\n",
       "  color: #000000;\n",
       "}\n",
       "#T_61a57_row2_col0 {\n",
       "  background-color: #b9dc66;\n",
       "  color: #000000;\n",
       "}\n",
       "#T_61a57_row3_col0 {\n",
       "  background-color: #52a866;\n",
       "  color: #f1f1f1;\n",
       "}\n",
       "#T_61a57_row4_col0 {\n",
       "  background-color: #008066;\n",
       "  color: #f1f1f1;\n",
       "}\n",
       "#T_61a57_row5_col0 {\n",
       "  background-color: #59ac66;\n",
       "  color: #f1f1f1;\n",
       "}\n",
       "#T_61a57_row6_col0 {\n",
       "  background-color: #b8dc66;\n",
       "  color: #000000;\n",
       "}\n",
       "#T_61a57_row7_col0 {\n",
       "  background-color: #eaf466;\n",
       "  color: #000000;\n",
       "}\n",
       "#T_61a57_row8_col0 {\n",
       "  background-color: #c3e166;\n",
       "  color: #000000;\n",
       "}\n",
       "#T_61a57_row9_col0 {\n",
       "  background-color: #4ca666;\n",
       "  color: #f1f1f1;\n",
       "}\n",
       "#T_61a57_row10_col0 {\n",
       "  background-color: #54aa66;\n",
       "  color: #f1f1f1;\n",
       "}\n",
       "#T_61a57_row11_col0 {\n",
       "  background-color: #8bc566;\n",
       "  color: #000000;\n",
       "}\n",
       "#T_61a57_row12_col0 {\n",
       "  background-color: #ffff66;\n",
       "  color: #000000;\n",
       "}\n",
       "#T_61a57_row13_col0 {\n",
       "  background-color: #b5da66;\n",
       "  color: #000000;\n",
       "}\n",
       "#T_61a57_row14_col0 {\n",
       "  background-color: #3a9c66;\n",
       "  color: #f1f1f1;\n",
       "}\n",
       "#T_61a57_row15_col0 {\n",
       "  background-color: #389c66;\n",
       "  color: #f1f1f1;\n",
       "}\n",
       "</style>\n",
       "<table id=\"T_61a57\">\n",
       "  <thead>\n",
       "    <tr>\n",
       "      <th class=\"blank\" >&nbsp;</th>\n",
       "      <th class=\"blank level0\" >&nbsp;</th>\n",
       "      <th id=\"T_61a57_level0_col0\" class=\"col_heading level0 col0\" >class</th>\n",
       "    </tr>\n",
       "    <tr>\n",
       "      <th class=\"index_name level0\" >height_category</th>\n",
       "      <th class=\"index_name level1\" >class</th>\n",
       "      <th class=\"blank col0\" >&nbsp;</th>\n",
       "    </tr>\n",
       "  </thead>\n",
       "  <tbody>\n",
       "    <tr>\n",
       "      <th id=\"T_61a57_level0_row0\" class=\"row_heading level0 row0\" rowspan=\"4\">(124.999, 162.4]</th>\n",
       "      <th id=\"T_61a57_level1_row0\" class=\"row_heading level1 row0\" >A</th>\n",
       "      <td id=\"T_61a57_row0_col0\" class=\"data row0 col0\" >908</td>\n",
       "    </tr>\n",
       "    <tr>\n",
       "      <th id=\"T_61a57_level1_row1\" class=\"row_heading level1 row1\" >B</th>\n",
       "      <td id=\"T_61a57_row1_col0\" class=\"data row1 col0\" >795</td>\n",
       "    </tr>\n",
       "    <tr>\n",
       "      <th id=\"T_61a57_level1_row2\" class=\"row_heading level1 row2\" >C</th>\n",
       "      <td id=\"T_61a57_row2_col0\" class=\"data row2 col0\" >775</td>\n",
       "    </tr>\n",
       "    <tr>\n",
       "      <th id=\"T_61a57_level1_row3\" class=\"row_heading level1 row3\" >D</th>\n",
       "      <td id=\"T_61a57_row3_col0\" class=\"data row3 col0\" >887</td>\n",
       "    </tr>\n",
       "    <tr>\n",
       "      <th id=\"T_61a57_level0_row4\" class=\"row_heading level0 row4\" rowspan=\"4\">(162.4, 169.2]</th>\n",
       "      <th id=\"T_61a57_level1_row4\" class=\"row_heading level1 row4\" >A</th>\n",
       "      <td id=\"T_61a57_row4_col0\" class=\"data row4 col0\" >976</td>\n",
       "    </tr>\n",
       "    <tr>\n",
       "      <th id=\"T_61a57_level1_row5\" class=\"row_heading level1 row5\" >B</th>\n",
       "      <td id=\"T_61a57_row5_col0\" class=\"data row5 col0\" >879</td>\n",
       "    </tr>\n",
       "    <tr>\n",
       "      <th id=\"T_61a57_level1_row6\" class=\"row_heading level1 row6\" >C</th>\n",
       "      <td id=\"T_61a57_row6_col0\" class=\"data row6 col0\" >776</td>\n",
       "    </tr>\n",
       "    <tr>\n",
       "      <th id=\"T_61a57_level1_row7\" class=\"row_heading level1 row7\" >D</th>\n",
       "      <td id=\"T_61a57_row7_col0\" class=\"data row7 col0\" >722</td>\n",
       "    </tr>\n",
       "    <tr>\n",
       "      <th id=\"T_61a57_level0_row8\" class=\"row_heading level0 row8\" rowspan=\"4\">(169.2, 174.8]</th>\n",
       "      <th id=\"T_61a57_level1_row8\" class=\"row_heading level1 row8\" >A</th>\n",
       "      <td id=\"T_61a57_row8_col0\" class=\"data row8 col0\" >765</td>\n",
       "    </tr>\n",
       "    <tr>\n",
       "      <th id=\"T_61a57_level1_row9\" class=\"row_heading level1 row9\" >B</th>\n",
       "      <td id=\"T_61a57_row9_col0\" class=\"data row9 col0\" >893</td>\n",
       "    </tr>\n",
       "    <tr>\n",
       "      <th id=\"T_61a57_level1_row10\" class=\"row_heading level1 row10\" >C</th>\n",
       "      <td id=\"T_61a57_row10_col0\" class=\"data row10 col0\" >885</td>\n",
       "    </tr>\n",
       "    <tr>\n",
       "      <th id=\"T_61a57_level1_row11\" class=\"row_heading level1 row11\" >D</th>\n",
       "      <td id=\"T_61a57_row11_col0\" class=\"data row11 col0\" >825</td>\n",
       "    </tr>\n",
       "    <tr>\n",
       "      <th id=\"T_61a57_level0_row12\" class=\"row_heading level0 row12\" rowspan=\"4\">(174.8, 193.8]</th>\n",
       "      <th id=\"T_61a57_level1_row12\" class=\"row_heading level1 row12\" >A</th>\n",
       "      <td id=\"T_61a57_row12_col0\" class=\"data row12 col0\" >699</td>\n",
       "    </tr>\n",
       "    <tr>\n",
       "      <th id=\"T_61a57_level1_row13\" class=\"row_heading level1 row13\" >B</th>\n",
       "      <td id=\"T_61a57_row13_col0\" class=\"data row13 col0\" >780</td>\n",
       "    </tr>\n",
       "    <tr>\n",
       "      <th id=\"T_61a57_level1_row14\" class=\"row_heading level1 row14\" >C</th>\n",
       "      <td id=\"T_61a57_row14_col0\" class=\"data row14 col0\" >913</td>\n",
       "    </tr>\n",
       "    <tr>\n",
       "      <th id=\"T_61a57_level1_row15\" class=\"row_heading level1 row15\" >D</th>\n",
       "      <td id=\"T_61a57_row15_col0\" class=\"data row15 col0\" >915</td>\n",
       "    </tr>\n",
       "  </tbody>\n",
       "</table>\n"
      ],
      "text/plain": [
       "<pandas.io.formats.style.Styler at 0x23dc09bae80>"
      ]
     },
     "execution_count": 45,
     "metadata": {},
     "output_type": "execute_result"
    }
   ],
   "source": [
    "df['height_category'] = pd.qcut(df['height_cm'], 4)\n",
    "df.groupby(['height_category', 'class'])['class'].count().to_frame().style.background_gradient(cmap='summer_r')"
   ]
  },
  {
   "cell_type": "code",
   "execution_count": 46,
   "id": "31613e24",
   "metadata": {},
   "outputs": [],
   "source": [
    "df['height_category'] = 0\n",
    "df.loc[df['height_cm'] <= 162.4, 'height_category'] = 0\n",
    "df.loc[(df['height_cm'] > 162.4) & (df['height_cm'] <= 169.2), 'height_category'] = 1\n",
    "df.loc[(df['height_cm'] > 169.2) & (df['height_cm'] <= 174.8), 'height_category'] = 2\n",
    "df.loc[df['height_cm'] > 174.8, 'height_category'] = 3"
   ]
  },
  {
   "cell_type": "markdown",
   "id": "201c0208",
   "metadata": {},
   "source": [
    "### Новый признак категории weight_kg"
   ]
  },
  {
   "cell_type": "code",
   "execution_count": 47,
   "id": "45600d6d",
   "metadata": {},
   "outputs": [
    {
     "data": {
      "text/html": [
       "<style type=\"text/css\">\n",
       "#T_0506a_row0_col0 {\n",
       "  background-color: #46a266;\n",
       "  color: #f1f1f1;\n",
       "}\n",
       "#T_0506a_row1_col0 {\n",
       "  background-color: #a0d066;\n",
       "  color: #000000;\n",
       "}\n",
       "#T_0506a_row2_col0 {\n",
       "  background-color: #a2d066;\n",
       "  color: #000000;\n",
       "}\n",
       "#T_0506a_row3_col0 {\n",
       "  background-color: #eff766;\n",
       "  color: #000000;\n",
       "}\n",
       "#T_0506a_row4_col0 {\n",
       "  background-color: #94ca66;\n",
       "  color: #000000;\n",
       "}\n",
       "#T_0506a_row5_col0 {\n",
       "  background-color: #95ca66;\n",
       "  color: #000000;\n",
       "}\n",
       "#T_0506a_row6_col0 {\n",
       "  background-color: #97cb66;\n",
       "  color: #000000;\n",
       "}\n",
       "#T_0506a_row7_col0 {\n",
       "  background-color: #cce666;\n",
       "  color: #000000;\n",
       "}\n",
       "#T_0506a_row8_col0 {\n",
       "  background-color: #a8d366;\n",
       "  color: #000000;\n",
       "}\n",
       "#T_0506a_row9_col0 {\n",
       "  background-color: #83c166;\n",
       "  color: #000000;\n",
       "}\n",
       "#T_0506a_row10_col0 {\n",
       "  background-color: #8fc766;\n",
       "  color: #000000;\n",
       "}\n",
       "#T_0506a_row11_col0 {\n",
       "  background-color: #c7e366;\n",
       "  color: #000000;\n",
       "}\n",
       "#T_0506a_row12_col0 {\n",
       "  background-color: #ffff66;\n",
       "  color: #000000;\n",
       "}\n",
       "#T_0506a_row13_col0 {\n",
       "  background-color: #cae466;\n",
       "  color: #000000;\n",
       "}\n",
       "#T_0506a_row14_col0 {\n",
       "  background-color: #b9dc66;\n",
       "  color: #000000;\n",
       "}\n",
       "#T_0506a_row15_col0 {\n",
       "  background-color: #008066;\n",
       "  color: #f1f1f1;\n",
       "}\n",
       "</style>\n",
       "<table id=\"T_0506a\">\n",
       "  <thead>\n",
       "    <tr>\n",
       "      <th class=\"blank\" >&nbsp;</th>\n",
       "      <th class=\"blank level0\" >&nbsp;</th>\n",
       "      <th id=\"T_0506a_level0_col0\" class=\"col_heading level0 col0\" >class</th>\n",
       "    </tr>\n",
       "    <tr>\n",
       "      <th class=\"index_name level0\" >weight_category</th>\n",
       "      <th class=\"index_name level1\" >class</th>\n",
       "      <th class=\"blank col0\" >&nbsp;</th>\n",
       "    </tr>\n",
       "  </thead>\n",
       "  <tbody>\n",
       "    <tr>\n",
       "      <th id=\"T_0506a_level0_row0\" class=\"row_heading level0 row0\" rowspan=\"4\">(26.299, 58.2]</th>\n",
       "      <th id=\"T_0506a_level1_row0\" class=\"row_heading level1 row0\" >A</th>\n",
       "      <td id=\"T_0506a_row0_col0\" class=\"data row0 col0\" >1113</td>\n",
       "    </tr>\n",
       "    <tr>\n",
       "      <th id=\"T_0506a_level1_row1\" class=\"row_heading level1 row1\" >B</th>\n",
       "      <td id=\"T_0506a_row1_col0\" class=\"data row1 col0\" >838</td>\n",
       "    </tr>\n",
       "    <tr>\n",
       "      <th id=\"T_0506a_level1_row2\" class=\"row_heading level1 row2\" >C</th>\n",
       "      <td id=\"T_0506a_row2_col0\" class=\"data row2 col0\" >831</td>\n",
       "    </tr>\n",
       "    <tr>\n",
       "      <th id=\"T_0506a_level1_row3\" class=\"row_heading level1 row3\" >D</th>\n",
       "      <td id=\"T_0506a_row3_col0\" class=\"data row3 col0\" >598</td>\n",
       "    </tr>\n",
       "    <tr>\n",
       "      <th id=\"T_0506a_level0_row4\" class=\"row_heading level0 row4\" rowspan=\"4\">(58.2, 67.4]</th>\n",
       "      <th id=\"T_0506a_level1_row4\" class=\"row_heading level1 row4\" >A</th>\n",
       "      <td id=\"T_0506a_row4_col0\" class=\"data row4 col0\" >874</td>\n",
       "    </tr>\n",
       "    <tr>\n",
       "      <th id=\"T_0506a_level1_row5\" class=\"row_heading level1 row5\" >B</th>\n",
       "      <td id=\"T_0506a_row5_col0\" class=\"data row5 col0\" >873</td>\n",
       "    </tr>\n",
       "    <tr>\n",
       "      <th id=\"T_0506a_level1_row6\" class=\"row_heading level1 row6\" >C</th>\n",
       "      <td id=\"T_0506a_row6_col0\" class=\"data row6 col0\" >866</td>\n",
       "    </tr>\n",
       "    <tr>\n",
       "      <th id=\"T_0506a_level1_row7\" class=\"row_heading level1 row7\" >D</th>\n",
       "      <td id=\"T_0506a_row7_col0\" class=\"data row7 col0\" >705</td>\n",
       "    </tr>\n",
       "    <tr>\n",
       "      <th id=\"T_0506a_level0_row8\" class=\"row_heading level0 row8\" rowspan=\"4\">(67.4, 75.3]</th>\n",
       "      <th id=\"T_0506a_level1_row8\" class=\"row_heading level1 row8\" >A</th>\n",
       "      <td id=\"T_0506a_row8_col0\" class=\"data row8 col0\" >813</td>\n",
       "    </tr>\n",
       "    <tr>\n",
       "      <th id=\"T_0506a_level1_row9\" class=\"row_heading level1 row9\" >B</th>\n",
       "      <td id=\"T_0506a_row9_col0\" class=\"data row9 col0\" >926</td>\n",
       "    </tr>\n",
       "    <tr>\n",
       "      <th id=\"T_0506a_level1_row10\" class=\"row_heading level1 row10\" >C</th>\n",
       "      <td id=\"T_0506a_row10_col0\" class=\"data row10 col0\" >890</td>\n",
       "    </tr>\n",
       "    <tr>\n",
       "      <th id=\"T_0506a_level1_row11\" class=\"row_heading level1 row11\" >D</th>\n",
       "      <td id=\"T_0506a_row11_col0\" class=\"data row11 col0\" >720</td>\n",
       "    </tr>\n",
       "    <tr>\n",
       "      <th id=\"T_0506a_level0_row12\" class=\"row_heading level0 row12\" rowspan=\"4\">(75.3, 138.1]</th>\n",
       "      <th id=\"T_0506a_level1_row12\" class=\"row_heading level1 row12\" >A</th>\n",
       "      <td id=\"T_0506a_row12_col0\" class=\"data row12 col0\" >548</td>\n",
       "    </tr>\n",
       "    <tr>\n",
       "      <th id=\"T_0506a_level1_row13\" class=\"row_heading level1 row13\" >B</th>\n",
       "      <td id=\"T_0506a_row13_col0\" class=\"data row13 col0\" >710</td>\n",
       "    </tr>\n",
       "    <tr>\n",
       "      <th id=\"T_0506a_level1_row14\" class=\"row_heading level1 row14\" >C</th>\n",
       "      <td id=\"T_0506a_row14_col0\" class=\"data row14 col0\" >762</td>\n",
       "    </tr>\n",
       "    <tr>\n",
       "      <th id=\"T_0506a_level1_row15\" class=\"row_heading level1 row15\" >D</th>\n",
       "      <td id=\"T_0506a_row15_col0\" class=\"data row15 col0\" >1326</td>\n",
       "    </tr>\n",
       "  </tbody>\n",
       "</table>\n"
      ],
      "text/plain": [
       "<pandas.io.formats.style.Styler at 0x23dc13e2850>"
      ]
     },
     "execution_count": 47,
     "metadata": {},
     "output_type": "execute_result"
    }
   ],
   "source": [
    "df['weight_category'] = pd.qcut(df['weight_kg'], 4)\n",
    "df.groupby(['weight_category', 'class'])['class'].count().to_frame().style.background_gradient(cmap='summer_r')"
   ]
  },
  {
   "cell_type": "code",
   "execution_count": 48,
   "id": "de1248a8",
   "metadata": {},
   "outputs": [],
   "source": [
    "df['weight_category'] = 0\n",
    "df.loc[df['weight_kg'] <= 162.4, 'weight_category'] = 0\n",
    "df.loc[(df['weight_kg'] > 162.4) & (df['weight_kg'] <= 169.2), 'weight_category'] = 1\n",
    "df.loc[(df['weight_kg'] > 169.2) & (df['weight_kg'] <= 174.8), 'weight_category'] = 2\n",
    "df.loc[df['weight_kg'] > 174.8, 'weight_category'] = 3"
   ]
  },
  {
   "cell_type": "markdown",
   "id": "1696e9de",
   "metadata": {},
   "source": [
    "### Новый признак категории body fat_%"
   ]
  },
  {
   "cell_type": "code",
   "execution_count": 49,
   "id": "e33eea68",
   "metadata": {},
   "outputs": [
    {
     "data": {
      "text/html": [
       "<style type=\"text/css\">\n",
       "#T_d8ac9_row0_col0 {\n",
       "  background-color: #40a066;\n",
       "  color: #f1f1f1;\n",
       "}\n",
       "#T_d8ac9_row1_col0 {\n",
       "  background-color: #78bc66;\n",
       "  color: #f1f1f1;\n",
       "}\n",
       "#T_d8ac9_row2_col0 {\n",
       "  background-color: #a7d366;\n",
       "  color: #000000;\n",
       "}\n",
       "#T_d8ac9_row3_col0 {\n",
       "  background-color: #ffff66;\n",
       "  color: #000000;\n",
       "}\n",
       "#T_d8ac9_row4_col0, #T_d8ac9_row5_col0 {\n",
       "  background-color: #89c466;\n",
       "  color: #000000;\n",
       "}\n",
       "#T_d8ac9_row6_col0 {\n",
       "  background-color: #67b366;\n",
       "  color: #f1f1f1;\n",
       "}\n",
       "#T_d8ac9_row7_col0 {\n",
       "  background-color: #e1f066;\n",
       "  color: #000000;\n",
       "}\n",
       "#T_d8ac9_row8_col0 {\n",
       "  background-color: #afd766;\n",
       "  color: #000000;\n",
       "}\n",
       "#T_d8ac9_row9_col0 {\n",
       "  background-color: #9fcf66;\n",
       "  color: #000000;\n",
       "}\n",
       "#T_d8ac9_row10_col0 {\n",
       "  background-color: #9acc66;\n",
       "  color: #000000;\n",
       "}\n",
       "#T_d8ac9_row11_col0 {\n",
       "  background-color: #82c066;\n",
       "  color: #000000;\n",
       "}\n",
       "#T_d8ac9_row12_col0 {\n",
       "  background-color: #eaf466;\n",
       "  color: #000000;\n",
       "}\n",
       "#T_d8ac9_row13_col0 {\n",
       "  background-color: #c3e166;\n",
       "  color: #000000;\n",
       "}\n",
       "#T_d8ac9_row14_col0 {\n",
       "  background-color: #badc66;\n",
       "  color: #000000;\n",
       "}\n",
       "#T_d8ac9_row15_col0 {\n",
       "  background-color: #008066;\n",
       "  color: #f1f1f1;\n",
       "}\n",
       "</style>\n",
       "<table id=\"T_d8ac9\">\n",
       "  <thead>\n",
       "    <tr>\n",
       "      <th class=\"blank\" >&nbsp;</th>\n",
       "      <th class=\"blank level0\" >&nbsp;</th>\n",
       "      <th id=\"T_d8ac9_level0_col0\" class=\"col_heading level0 col0\" >class</th>\n",
       "    </tr>\n",
       "    <tr>\n",
       "      <th class=\"index_name level0\" >bodyfat_category</th>\n",
       "      <th class=\"index_name level1\" >class</th>\n",
       "      <th class=\"blank col0\" >&nbsp;</th>\n",
       "    </tr>\n",
       "  </thead>\n",
       "  <tbody>\n",
       "    <tr>\n",
       "      <th id=\"T_d8ac9_level0_row0\" class=\"row_heading level0 row0\" rowspan=\"4\">(2.999, 18.0]</th>\n",
       "      <th id=\"T_d8ac9_level1_row0\" class=\"row_heading level1 row0\" >A</th>\n",
       "      <td id=\"T_d8ac9_row0_col0\" class=\"data row0 col0\" >1257</td>\n",
       "    </tr>\n",
       "    <tr>\n",
       "      <th id=\"T_d8ac9_level1_row1\" class=\"row_heading level1 row1\" >B</th>\n",
       "      <td id=\"T_d8ac9_row1_col0\" class=\"data row1 col0\" >993</td>\n",
       "    </tr>\n",
       "    <tr>\n",
       "      <th id=\"T_d8ac9_level1_row2\" class=\"row_heading level1 row2\" >C</th>\n",
       "      <td id=\"T_d8ac9_row2_col0\" class=\"data row2 col0\" >768</td>\n",
       "    </tr>\n",
       "    <tr>\n",
       "      <th id=\"T_d8ac9_level1_row3\" class=\"row_heading level1 row3\" >D</th>\n",
       "      <td id=\"T_d8ac9_row3_col0\" class=\"data row3 col0\" >348</td>\n",
       "    </tr>\n",
       "    <tr>\n",
       "      <th id=\"T_d8ac9_level0_row4\" class=\"row_heading level0 row4\" rowspan=\"4\">(18.0, 22.8]</th>\n",
       "      <th id=\"T_d8ac9_level1_row4\" class=\"row_heading level1 row4\" >A</th>\n",
       "      <td id=\"T_d8ac9_row4_col0\" class=\"data row4 col0\" >914</td>\n",
       "    </tr>\n",
       "    <tr>\n",
       "      <th id=\"T_d8ac9_level1_row5\" class=\"row_heading level1 row5\" >B</th>\n",
       "      <td id=\"T_d8ac9_row5_col0\" class=\"data row5 col0\" >911</td>\n",
       "    </tr>\n",
       "    <tr>\n",
       "      <th id=\"T_d8ac9_level1_row6\" class=\"row_heading level1 row6\" >C</th>\n",
       "      <td id=\"T_d8ac9_row6_col0\" class=\"data row6 col0\" >1072</td>\n",
       "    </tr>\n",
       "    <tr>\n",
       "      <th id=\"T_d8ac9_level1_row7\" class=\"row_heading level1 row7\" >D</th>\n",
       "      <td id=\"T_d8ac9_row7_col0\" class=\"data row7 col0\" >491</td>\n",
       "    </tr>\n",
       "    <tr>\n",
       "      <th id=\"T_d8ac9_level0_row8\" class=\"row_heading level0 row8\" rowspan=\"4\">(22.8, 28.0]</th>\n",
       "      <th id=\"T_d8ac9_level1_row8\" class=\"row_heading level1 row8\" >A</th>\n",
       "      <td id=\"T_d8ac9_row8_col0\" class=\"data row8 col0\" >729</td>\n",
       "    </tr>\n",
       "    <tr>\n",
       "      <th id=\"T_d8ac9_level1_row9\" class=\"row_heading level1 row9\" >B</th>\n",
       "      <td id=\"T_d8ac9_row9_col0\" class=\"data row9 col0\" >805</td>\n",
       "    </tr>\n",
       "    <tr>\n",
       "      <th id=\"T_d8ac9_level1_row10\" class=\"row_heading level1 row10\" >C</th>\n",
       "      <td id=\"T_d8ac9_row10_col0\" class=\"data row10 col0\" >831</td>\n",
       "    </tr>\n",
       "    <tr>\n",
       "      <th id=\"T_d8ac9_level1_row11\" class=\"row_heading level1 row11\" >D</th>\n",
       "      <td id=\"T_d8ac9_row11_col0\" class=\"data row11 col0\" >944</td>\n",
       "    </tr>\n",
       "    <tr>\n",
       "      <th id=\"T_d8ac9_level0_row12\" class=\"row_heading level0 row12\" rowspan=\"4\">(28.0, 78.4]</th>\n",
       "      <th id=\"T_d8ac9_level1_row12\" class=\"row_heading level1 row12\" >A</th>\n",
       "      <td id=\"T_d8ac9_row12_col0\" class=\"data row12 col0\" >448</td>\n",
       "    </tr>\n",
       "    <tr>\n",
       "      <th id=\"T_d8ac9_level1_row13\" class=\"row_heading level1 row13\" >B</th>\n",
       "      <td id=\"T_d8ac9_row13_col0\" class=\"data row13 col0\" >638</td>\n",
       "    </tr>\n",
       "    <tr>\n",
       "      <th id=\"T_d8ac9_level1_row14\" class=\"row_heading level1 row14\" >C</th>\n",
       "      <td id=\"T_d8ac9_row14_col0\" class=\"data row14 col0\" >678</td>\n",
       "    </tr>\n",
       "    <tr>\n",
       "      <th id=\"T_d8ac9_level1_row15\" class=\"row_heading level1 row15\" >D</th>\n",
       "      <td id=\"T_d8ac9_row15_col0\" class=\"data row15 col0\" >1566</td>\n",
       "    </tr>\n",
       "  </tbody>\n",
       "</table>\n"
      ],
      "text/plain": [
       "<pandas.io.formats.style.Styler at 0x23dbdac4fd0>"
      ]
     },
     "execution_count": 49,
     "metadata": {},
     "output_type": "execute_result"
    }
   ],
   "source": [
    "df['bodyfat_category'] = pd.qcut(df['body fat_%'], 4)\n",
    "df.groupby(['bodyfat_category', 'class'])['class'].count().to_frame().style.background_gradient(cmap='summer_r')"
   ]
  },
  {
   "cell_type": "code",
   "execution_count": 50,
   "id": "0590dd91",
   "metadata": {},
   "outputs": [],
   "source": [
    "df['bodyfat_category'] = 0\n",
    "df.loc[df['body fat_%'] <= 18.0, 'bodyfat_category'] = 0\n",
    "df.loc[(df['body fat_%'] > 18.0) & (df['body fat_%'] <= 22.8), 'bodyfat_category'] = 1\n",
    "df.loc[(df['body fat_%'] > 22.8) & (df['body fat_%'] <= 28.0), 'bodyfat_category'] = 2\n",
    "df.loc[df['body fat_%'] > 28.0, 'bodyfat_category'] = 3"
   ]
  },
  {
   "cell_type": "markdown",
   "id": "6914bb9c",
   "metadata": {},
   "source": [
    "### Новый признак категории diastolic"
   ]
  },
  {
   "cell_type": "code",
   "execution_count": 51,
   "id": "3e26ed36",
   "metadata": {},
   "outputs": [
    {
     "data": {
      "text/html": [
       "<style type=\"text/css\">\n",
       "#T_c3c75_row0_col0 {\n",
       "  background-color: #3f9f66;\n",
       "  color: #f1f1f1;\n",
       "}\n",
       "#T_c3c75_row1_col0 {\n",
       "  background-color: #88c366;\n",
       "  color: #000000;\n",
       "}\n",
       "#T_c3c75_row2_col0 {\n",
       "  background-color: #83c166;\n",
       "  color: #000000;\n",
       "}\n",
       "#T_c3c75_row3_col0, #T_c3c75_row8_col0 {\n",
       "  background-color: #f1f866;\n",
       "  color: #000000;\n",
       "}\n",
       "#T_c3c75_row4_col0 {\n",
       "  background-color: #47a366;\n",
       "  color: #f1f1f1;\n",
       "}\n",
       "#T_c3c75_row5_col0 {\n",
       "  background-color: #69b466;\n",
       "  color: #f1f1f1;\n",
       "}\n",
       "#T_c3c75_row6_col0 {\n",
       "  background-color: #79bc66;\n",
       "  color: #000000;\n",
       "}\n",
       "#T_c3c75_row7_col0, #T_c3c75_row14_col0 {\n",
       "  background-color: #c8e366;\n",
       "  color: #000000;\n",
       "}\n",
       "#T_c3c75_row9_col0 {\n",
       "  background-color: #c2e066;\n",
       "  color: #000000;\n",
       "}\n",
       "#T_c3c75_row10_col0 {\n",
       "  background-color: #b2d866;\n",
       "  color: #000000;\n",
       "}\n",
       "#T_c3c75_row11_col0 {\n",
       "  background-color: #bdde66;\n",
       "  color: #000000;\n",
       "}\n",
       "#T_c3c75_row12_col0 {\n",
       "  background-color: #ffff66;\n",
       "  color: #000000;\n",
       "}\n",
       "#T_c3c75_row13_col0 {\n",
       "  background-color: #c5e266;\n",
       "  color: #000000;\n",
       "}\n",
       "#T_c3c75_row15_col0 {\n",
       "  background-color: #008066;\n",
       "  color: #f1f1f1;\n",
       "}\n",
       "</style>\n",
       "<table id=\"T_c3c75\">\n",
       "  <thead>\n",
       "    <tr>\n",
       "      <th class=\"blank\" >&nbsp;</th>\n",
       "      <th class=\"blank level0\" >&nbsp;</th>\n",
       "      <th id=\"T_c3c75_level0_col0\" class=\"col_heading level0 col0\" >class</th>\n",
       "    </tr>\n",
       "    <tr>\n",
       "      <th class=\"index_name level0\" >dialistic_category</th>\n",
       "      <th class=\"index_name level1\" >class</th>\n",
       "      <th class=\"blank col0\" >&nbsp;</th>\n",
       "    </tr>\n",
       "  </thead>\n",
       "  <tbody>\n",
       "    <tr>\n",
       "      <th id=\"T_c3c75_level0_row0\" class=\"row_heading level0 row0\" rowspan=\"4\">(-0.001, 71.0]</th>\n",
       "      <th id=\"T_c3c75_level1_row0\" class=\"row_heading level1 row0\" >A</th>\n",
       "      <td id=\"T_c3c75_row0_col0\" class=\"data row0 col0\" >931</td>\n",
       "    </tr>\n",
       "    <tr>\n",
       "      <th id=\"T_c3c75_level1_row1\" class=\"row_heading level1 row1\" >B</th>\n",
       "      <td id=\"T_c3c75_row1_col0\" class=\"data row1 col0\" >859</td>\n",
       "    </tr>\n",
       "    <tr>\n",
       "      <th id=\"T_c3c75_level1_row2\" class=\"row_heading level1 row2\" >C</th>\n",
       "      <td id=\"T_c3c75_row2_col0\" class=\"data row2 col0\" >864</td>\n",
       "    </tr>\n",
       "    <tr>\n",
       "      <th id=\"T_c3c75_level1_row3\" class=\"row_heading level1 row3\" >D</th>\n",
       "      <td id=\"T_c3c75_row3_col0\" class=\"data row3 col0\" >754</td>\n",
       "    </tr>\n",
       "    <tr>\n",
       "      <th id=\"T_c3c75_level0_row4\" class=\"row_heading level0 row4\" rowspan=\"4\">(71.0, 79.0]</th>\n",
       "      <th id=\"T_c3c75_level1_row4\" class=\"row_heading level1 row4\" >A</th>\n",
       "      <td id=\"T_c3c75_row4_col0\" class=\"data row4 col0\" >923</td>\n",
       "    </tr>\n",
       "    <tr>\n",
       "      <th id=\"T_c3c75_level1_row5\" class=\"row_heading level1 row5\" >B</th>\n",
       "      <td id=\"T_c3c75_row5_col0\" class=\"data row5 col0\" >889</td>\n",
       "    </tr>\n",
       "    <tr>\n",
       "      <th id=\"T_c3c75_level1_row6\" class=\"row_heading level1 row6\" >C</th>\n",
       "      <td id=\"T_c3c75_row6_col0\" class=\"data row6 col0\" >873</td>\n",
       "    </tr>\n",
       "    <tr>\n",
       "      <th id=\"T_c3c75_level1_row7\" class=\"row_heading level1 row7\" >D</th>\n",
       "      <td id=\"T_c3c75_row7_col0\" class=\"data row7 col0\" >795</td>\n",
       "    </tr>\n",
       "    <tr>\n",
       "      <th id=\"T_c3c75_level0_row8\" class=\"row_heading level0 row8\" rowspan=\"4\">(79.0, 86.0]</th>\n",
       "      <th id=\"T_c3c75_level1_row8\" class=\"row_heading level1 row8\" >A</th>\n",
       "      <td id=\"T_c3c75_row8_col0\" class=\"data row8 col0\" >754</td>\n",
       "    </tr>\n",
       "    <tr>\n",
       "      <th id=\"T_c3c75_level1_row9\" class=\"row_heading level1 row9\" >B</th>\n",
       "      <td id=\"T_c3c75_row9_col0\" class=\"data row9 col0\" >801</td>\n",
       "    </tr>\n",
       "    <tr>\n",
       "      <th id=\"T_c3c75_level1_row10\" class=\"row_heading level1 row10\" >C</th>\n",
       "      <td id=\"T_c3c75_row10_col0\" class=\"data row10 col0\" >817</td>\n",
       "    </tr>\n",
       "    <tr>\n",
       "      <th id=\"T_c3c75_level1_row11\" class=\"row_heading level1 row11\" >D</th>\n",
       "      <td id=\"T_c3c75_row11_col0\" class=\"data row11 col0\" >806</td>\n",
       "    </tr>\n",
       "    <tr>\n",
       "      <th id=\"T_c3c75_level0_row12\" class=\"row_heading level0 row12\" rowspan=\"4\">(86.0, 156.2]</th>\n",
       "      <th id=\"T_c3c75_level1_row12\" class=\"row_heading level1 row12\" >A</th>\n",
       "      <td id=\"T_c3c75_row12_col0\" class=\"data row12 col0\" >740</td>\n",
       "    </tr>\n",
       "    <tr>\n",
       "      <th id=\"T_c3c75_level1_row13\" class=\"row_heading level1 row13\" >B</th>\n",
       "      <td id=\"T_c3c75_row13_col0\" class=\"data row13 col0\" >798</td>\n",
       "    </tr>\n",
       "    <tr>\n",
       "      <th id=\"T_c3c75_level1_row14\" class=\"row_heading level1 row14\" >C</th>\n",
       "      <td id=\"T_c3c75_row14_col0\" class=\"data row14 col0\" >795</td>\n",
       "    </tr>\n",
       "    <tr>\n",
       "      <th id=\"T_c3c75_level1_row15\" class=\"row_heading level1 row15\" >D</th>\n",
       "      <td id=\"T_c3c75_row15_col0\" class=\"data row15 col0\" >994</td>\n",
       "    </tr>\n",
       "  </tbody>\n",
       "</table>\n"
      ],
      "text/plain": [
       "<pandas.io.formats.style.Styler at 0x23dc193a5e0>"
      ]
     },
     "execution_count": 51,
     "metadata": {},
     "output_type": "execute_result"
    }
   ],
   "source": [
    "df['dialistic_category'] = pd.qcut(df['diastolic'], 4)\n",
    "df.groupby(['dialistic_category', 'class'])['class'].count().to_frame().style.background_gradient(cmap='summer_r')"
   ]
  },
  {
   "cell_type": "code",
   "execution_count": 52,
   "id": "c2b7a973",
   "metadata": {},
   "outputs": [],
   "source": [
    "df['dialistic_category'] = 0\n",
    "df.loc[df['diastolic'] <= 71.0, 'dialistic_category'] = 0\n",
    "df.loc[(df['diastolic'] > 71.0) & (df['diastolic'] <= 79.0), 'dialistic_category'] = 1\n",
    "df.loc[(df['diastolic'] > 79.0) & (df['diastolic'] <= 86.0), 'dialistic_category'] = 2\n",
    "df.loc[df['diastolic'] > 86.0, 'dialistic_category'] = 3"
   ]
  },
  {
   "cell_type": "markdown",
   "id": "ddb6f1c9",
   "metadata": {},
   "source": [
    "### Новый признак категории systolic"
   ]
  },
  {
   "cell_type": "code",
   "execution_count": 53,
   "id": "24b350df",
   "metadata": {},
   "outputs": [
    {
     "data": {
      "text/html": [
       "<style type=\"text/css\">\n",
       "#T_9abaa_row0_col0 {\n",
       "  background-color: #008066;\n",
       "  color: #f1f1f1;\n",
       "}\n",
       "#T_9abaa_row1_col0 {\n",
       "  background-color: #7fbf66;\n",
       "  color: #000000;\n",
       "}\n",
       "#T_9abaa_row2_col0 {\n",
       "  background-color: #309866;\n",
       "  color: #f1f1f1;\n",
       "}\n",
       "#T_9abaa_row3_col0 {\n",
       "  background-color: #69b466;\n",
       "  color: #f1f1f1;\n",
       "}\n",
       "#T_9abaa_row4_col0 {\n",
       "  background-color: #91c866;\n",
       "  color: #000000;\n",
       "}\n",
       "#T_9abaa_row5_col0 {\n",
       "  background-color: #7bbd66;\n",
       "  color: #000000;\n",
       "}\n",
       "#T_9abaa_row6_col0 {\n",
       "  background-color: #a6d266;\n",
       "  color: #000000;\n",
       "}\n",
       "#T_9abaa_row7_col0, #T_9abaa_row12_col0 {\n",
       "  background-color: #ffff66;\n",
       "  color: #000000;\n",
       "}\n",
       "#T_9abaa_row8_col0 {\n",
       "  background-color: #cce666;\n",
       "  color: #000000;\n",
       "}\n",
       "#T_9abaa_row9_col0 {\n",
       "  background-color: #c2e066;\n",
       "  color: #000000;\n",
       "}\n",
       "#T_9abaa_row10_col0 {\n",
       "  background-color: #add666;\n",
       "  color: #000000;\n",
       "}\n",
       "#T_9abaa_row11_col0 {\n",
       "  background-color: #a2d066;\n",
       "  color: #000000;\n",
       "}\n",
       "#T_9abaa_row13_col0 {\n",
       "  background-color: #a1d066;\n",
       "  color: #000000;\n",
       "}\n",
       "#T_9abaa_row14_col0 {\n",
       "  background-color: #d7eb66;\n",
       "  color: #000000;\n",
       "}\n",
       "#T_9abaa_row15_col0 {\n",
       "  background-color: #51a866;\n",
       "  color: #f1f1f1;\n",
       "}\n",
       "</style>\n",
       "<table id=\"T_9abaa\">\n",
       "  <thead>\n",
       "    <tr>\n",
       "      <th class=\"blank\" >&nbsp;</th>\n",
       "      <th class=\"blank level0\" >&nbsp;</th>\n",
       "      <th id=\"T_9abaa_level0_col0\" class=\"col_heading level0 col0\" >class</th>\n",
       "    </tr>\n",
       "    <tr>\n",
       "      <th class=\"index_name level0\" >systolic_category</th>\n",
       "      <th class=\"index_name level1\" >class</th>\n",
       "      <th class=\"blank col0\" >&nbsp;</th>\n",
       "    </tr>\n",
       "  </thead>\n",
       "  <tbody>\n",
       "    <tr>\n",
       "      <th id=\"T_9abaa_level0_row0\" class=\"row_heading level0 row0\" rowspan=\"4\">(-0.001, 120.0]</th>\n",
       "      <th id=\"T_9abaa_level1_row0\" class=\"row_heading level1 row0\" >A</th>\n",
       "      <td id=\"T_9abaa_row0_col0\" class=\"data row0 col0\" >1014</td>\n",
       "    </tr>\n",
       "    <tr>\n",
       "      <th id=\"T_9abaa_level1_row1\" class=\"row_heading level1 row1\" >B</th>\n",
       "      <td id=\"T_9abaa_row1_col0\" class=\"data row1 col0\" >865</td>\n",
       "    </tr>\n",
       "    <tr>\n",
       "      <th id=\"T_9abaa_level1_row2\" class=\"row_heading level1 row2\" >C</th>\n",
       "      <td id=\"T_9abaa_row2_col0\" class=\"data row2 col0\" >957</td>\n",
       "    </tr>\n",
       "    <tr>\n",
       "      <th id=\"T_9abaa_level1_row3\" class=\"row_heading level1 row3\" >D</th>\n",
       "      <td id=\"T_9abaa_row3_col0\" class=\"data row3 col0\" >891</td>\n",
       "    </tr>\n",
       "    <tr>\n",
       "      <th id=\"T_9abaa_level0_row4\" class=\"row_heading level0 row4\" rowspan=\"4\">(120.0, 130.0]</th>\n",
       "      <th id=\"T_9abaa_level1_row4\" class=\"row_heading level1 row4\" >A</th>\n",
       "      <td id=\"T_9abaa_row4_col0\" class=\"data row4 col0\" >844</td>\n",
       "    </tr>\n",
       "    <tr>\n",
       "      <th id=\"T_9abaa_level1_row5\" class=\"row_heading level1 row5\" >B</th>\n",
       "      <td id=\"T_9abaa_row5_col0\" class=\"data row5 col0\" >870</td>\n",
       "    </tr>\n",
       "    <tr>\n",
       "      <th id=\"T_9abaa_level1_row6\" class=\"row_heading level1 row6\" >C</th>\n",
       "      <td id=\"T_9abaa_row6_col0\" class=\"data row6 col0\" >819</td>\n",
       "    </tr>\n",
       "    <tr>\n",
       "      <th id=\"T_9abaa_level1_row7\" class=\"row_heading level1 row7\" >D</th>\n",
       "      <td id=\"T_9abaa_row7_col0\" class=\"data row7 col0\" >715</td>\n",
       "    </tr>\n",
       "    <tr>\n",
       "      <th id=\"T_9abaa_level0_row8\" class=\"row_heading level0 row8\" rowspan=\"4\">(130.0, 141.0]</th>\n",
       "      <th id=\"T_9abaa_level1_row8\" class=\"row_heading level1 row8\" >A</th>\n",
       "      <td id=\"T_9abaa_row8_col0\" class=\"data row8 col0\" >775</td>\n",
       "    </tr>\n",
       "    <tr>\n",
       "      <th id=\"T_9abaa_level1_row9\" class=\"row_heading level1 row9\" >B</th>\n",
       "      <td id=\"T_9abaa_row9_col0\" class=\"data row9 col0\" >787</td>\n",
       "    </tr>\n",
       "    <tr>\n",
       "      <th id=\"T_9abaa_level1_row10\" class=\"row_heading level1 row10\" >C</th>\n",
       "      <td id=\"T_9abaa_row10_col0\" class=\"data row10 col0\" >811</td>\n",
       "    </tr>\n",
       "    <tr>\n",
       "      <th id=\"T_9abaa_level1_row11\" class=\"row_heading level1 row11\" >D</th>\n",
       "      <td id=\"T_9abaa_row11_col0\" class=\"data row11 col0\" >824</td>\n",
       "    </tr>\n",
       "    <tr>\n",
       "      <th id=\"T_9abaa_level0_row12\" class=\"row_heading level0 row12\" rowspan=\"4\">(141.0, 201.0]</th>\n",
       "      <th id=\"T_9abaa_level1_row12\" class=\"row_heading level1 row12\" >A</th>\n",
       "      <td id=\"T_9abaa_row12_col0\" class=\"data row12 col0\" >715</td>\n",
       "    </tr>\n",
       "    <tr>\n",
       "      <th id=\"T_9abaa_level1_row13\" class=\"row_heading level1 row13\" >B</th>\n",
       "      <td id=\"T_9abaa_row13_col0\" class=\"data row13 col0\" >825</td>\n",
       "    </tr>\n",
       "    <tr>\n",
       "      <th id=\"T_9abaa_level1_row14\" class=\"row_heading level1 row14\" >C</th>\n",
       "      <td id=\"T_9abaa_row14_col0\" class=\"data row14 col0\" >762</td>\n",
       "    </tr>\n",
       "    <tr>\n",
       "      <th id=\"T_9abaa_level1_row15\" class=\"row_heading level1 row15\" >D</th>\n",
       "      <td id=\"T_9abaa_row15_col0\" class=\"data row15 col0\" >919</td>\n",
       "    </tr>\n",
       "  </tbody>\n",
       "</table>\n"
      ],
      "text/plain": [
       "<pandas.io.formats.style.Styler at 0x23dc18fc4f0>"
      ]
     },
     "execution_count": 53,
     "metadata": {},
     "output_type": "execute_result"
    }
   ],
   "source": [
    "df['systolic_category'] = pd.qcut(df['systolic'], 4)\n",
    "df.groupby(['systolic_category', 'class'])['class'].count().to_frame().style.background_gradient(cmap='summer_r')"
   ]
  },
  {
   "cell_type": "code",
   "execution_count": 54,
   "id": "61347ea4",
   "metadata": {},
   "outputs": [],
   "source": [
    "df['systolic_category'] = 0\n",
    "df.loc[df['systolic'] <= 120.0, 'systolic_category'] = 0\n",
    "df.loc[(df['systolic'] > 120.0) & (df['systolic'] <= 130.0), 'systolic_category'] = 1\n",
    "df.loc[(df['systolic'] > 130.0) & (df['systolic'] <= 141.0), 'systolic_category'] = 2\n",
    "df.loc[df['systolic'] > 141.0, 'systolic_category'] = 3"
   ]
  },
  {
   "cell_type": "markdown",
   "id": "65e926e5",
   "metadata": {},
   "source": [
    "### Новый признак категории gripForce"
   ]
  },
  {
   "cell_type": "code",
   "execution_count": 55,
   "id": "d993257c",
   "metadata": {},
   "outputs": [
    {
     "data": {
      "text/html": [
       "<style type=\"text/css\">\n",
       "#T_aa4c7_row0_col0 {\n",
       "  background-color: #c9e466;\n",
       "  color: #000000;\n",
       "}\n",
       "#T_aa4c7_row1_col0 {\n",
       "  background-color: #a0d066;\n",
       "  color: #000000;\n",
       "}\n",
       "#T_aa4c7_row2_col0 {\n",
       "  background-color: #71b866;\n",
       "  color: #f1f1f1;\n",
       "}\n",
       "#T_aa4c7_row3_col0 {\n",
       "  background-color: #279366;\n",
       "  color: #f1f1f1;\n",
       "}\n",
       "#T_aa4c7_row4_col0 {\n",
       "  background-color: #58ac66;\n",
       "  color: #f1f1f1;\n",
       "}\n",
       "#T_aa4c7_row5_col0 {\n",
       "  background-color: #b4da66;\n",
       "  color: #000000;\n",
       "}\n",
       "#T_aa4c7_row6_col0 {\n",
       "  background-color: #99cc66;\n",
       "  color: #000000;\n",
       "}\n",
       "#T_aa4c7_row7_col0 {\n",
       "  background-color: #60b066;\n",
       "  color: #f1f1f1;\n",
       "}\n",
       "#T_aa4c7_row8_col0 {\n",
       "  background-color: #e8f466;\n",
       "  color: #000000;\n",
       "}\n",
       "#T_aa4c7_row9_col0 {\n",
       "  background-color: #51a866;\n",
       "  color: #f1f1f1;\n",
       "}\n",
       "#T_aa4c7_row10_col0 {\n",
       "  background-color: #46a266;\n",
       "  color: #f1f1f1;\n",
       "}\n",
       "#T_aa4c7_row11_col0 {\n",
       "  background-color: #81c066;\n",
       "  color: #000000;\n",
       "}\n",
       "#T_aa4c7_row12_col0 {\n",
       "  background-color: #008066;\n",
       "  color: #f1f1f1;\n",
       "}\n",
       "#T_aa4c7_row13_col0 {\n",
       "  background-color: #65b266;\n",
       "  color: #f1f1f1;\n",
       "}\n",
       "#T_aa4c7_row14_col0 {\n",
       "  background-color: #b8dc66;\n",
       "  color: #000000;\n",
       "}\n",
       "#T_aa4c7_row15_col0 {\n",
       "  background-color: #ffff66;\n",
       "  color: #000000;\n",
       "}\n",
       "</style>\n",
       "<table id=\"T_aa4c7\">\n",
       "  <thead>\n",
       "    <tr>\n",
       "      <th class=\"blank\" >&nbsp;</th>\n",
       "      <th class=\"blank level0\" >&nbsp;</th>\n",
       "      <th id=\"T_aa4c7_level0_col0\" class=\"col_heading level0 col0\" >class</th>\n",
       "    </tr>\n",
       "    <tr>\n",
       "      <th class=\"index_name level0\" >gripforce_category</th>\n",
       "      <th class=\"index_name level1\" >class</th>\n",
       "      <th class=\"blank col0\" >&nbsp;</th>\n",
       "    </tr>\n",
       "  </thead>\n",
       "  <tbody>\n",
       "    <tr>\n",
       "      <th id=\"T_aa4c7_level0_row0\" class=\"row_heading level0 row0\" rowspan=\"4\">(-0.001, 27.5]</th>\n",
       "      <th id=\"T_aa4c7_level1_row0\" class=\"row_heading level1 row0\" >A</th>\n",
       "      <td id=\"T_aa4c7_row0_col0\" class=\"data row0 col0\" >688</td>\n",
       "    </tr>\n",
       "    <tr>\n",
       "      <th id=\"T_aa4c7_level1_row1\" class=\"row_heading level1 row1\" >B</th>\n",
       "      <td id=\"T_aa4c7_row1_col0\" class=\"data row1 col0\" >774</td>\n",
       "    </tr>\n",
       "    <tr>\n",
       "      <th id=\"T_aa4c7_level1_row2\" class=\"row_heading level1 row2\" >C</th>\n",
       "      <td id=\"T_aa4c7_row2_col0\" class=\"data row2 col0\" >873</td>\n",
       "    </tr>\n",
       "    <tr>\n",
       "      <th id=\"T_aa4c7_level1_row3\" class=\"row_heading level1 row3\" >D</th>\n",
       "      <td id=\"T_aa4c7_row3_col0\" class=\"data row3 col0\" >1028</td>\n",
       "    </tr>\n",
       "    <tr>\n",
       "      <th id=\"T_aa4c7_level0_row4\" class=\"row_heading level0 row4\" rowspan=\"4\">(27.5, 37.9]</th>\n",
       "      <th id=\"T_aa4c7_level1_row4\" class=\"row_heading level1 row4\" >A</th>\n",
       "      <td id=\"T_aa4c7_row4_col0\" class=\"data row4 col0\" >925</td>\n",
       "    </tr>\n",
       "    <tr>\n",
       "      <th id=\"T_aa4c7_level1_row5\" class=\"row_heading level1 row5\" >B</th>\n",
       "      <td id=\"T_aa4c7_row5_col0\" class=\"data row5 col0\" >733</td>\n",
       "    </tr>\n",
       "    <tr>\n",
       "      <th id=\"T_aa4c7_level1_row6\" class=\"row_heading level1 row6\" >C</th>\n",
       "      <td id=\"T_aa4c7_row6_col0\" class=\"data row6 col0\" >788</td>\n",
       "    </tr>\n",
       "    <tr>\n",
       "      <th id=\"T_aa4c7_level1_row7\" class=\"row_heading level1 row7\" >D</th>\n",
       "      <td id=\"T_aa4c7_row7_col0\" class=\"data row7 col0\" >908</td>\n",
       "    </tr>\n",
       "    <tr>\n",
       "      <th id=\"T_aa4c7_level0_row8\" class=\"row_heading level0 row8\" rowspan=\"4\">(37.9, 45.2]</th>\n",
       "      <th id=\"T_aa4c7_level1_row8\" class=\"row_heading level1 row8\" >A</th>\n",
       "      <td id=\"T_aa4c7_row8_col0\" class=\"data row8 col0\" >623</td>\n",
       "    </tr>\n",
       "    <tr>\n",
       "      <th id=\"T_aa4c7_level1_row9\" class=\"row_heading level1 row9\" >B</th>\n",
       "      <td id=\"T_aa4c7_row9_col0\" class=\"data row9 col0\" >941</td>\n",
       "    </tr>\n",
       "    <tr>\n",
       "      <th id=\"T_aa4c7_level1_row10\" class=\"row_heading level1 row10\" >C</th>\n",
       "      <td id=\"T_aa4c7_row10_col0\" class=\"data row10 col0\" >964</td>\n",
       "    </tr>\n",
       "    <tr>\n",
       "      <th id=\"T_aa4c7_level1_row11\" class=\"row_heading level1 row11\" >D</th>\n",
       "      <td id=\"T_aa4c7_row11_col0\" class=\"data row11 col0\" >840</td>\n",
       "    </tr>\n",
       "    <tr>\n",
       "      <th id=\"T_aa4c7_level0_row12\" class=\"row_heading level0 row12\" rowspan=\"4\">(45.2, 70.5]</th>\n",
       "      <th id=\"T_aa4c7_level1_row12\" class=\"row_heading level1 row12\" >A</th>\n",
       "      <td id=\"T_aa4c7_row12_col0\" class=\"data row12 col0\" >1112</td>\n",
       "    </tr>\n",
       "    <tr>\n",
       "      <th id=\"T_aa4c7_level1_row13\" class=\"row_heading level1 row13\" >B</th>\n",
       "      <td id=\"T_aa4c7_row13_col0\" class=\"data row13 col0\" >899</td>\n",
       "    </tr>\n",
       "    <tr>\n",
       "      <th id=\"T_aa4c7_level1_row14\" class=\"row_heading level1 row14\" >C</th>\n",
       "      <td id=\"T_aa4c7_row14_col0\" class=\"data row14 col0\" >724</td>\n",
       "    </tr>\n",
       "    <tr>\n",
       "      <th id=\"T_aa4c7_level1_row15\" class=\"row_heading level1 row15\" >D</th>\n",
       "      <td id=\"T_aa4c7_row15_col0\" class=\"data row15 col0\" >573</td>\n",
       "    </tr>\n",
       "  </tbody>\n",
       "</table>\n"
      ],
      "text/plain": [
       "<pandas.io.formats.style.Styler at 0x23dc193bc40>"
      ]
     },
     "execution_count": 55,
     "metadata": {},
     "output_type": "execute_result"
    }
   ],
   "source": [
    "df['gripforce_category'] = pd.qcut(df['gripForce'], 4)\n",
    "df.groupby(['gripforce_category', 'class'])['class'].count().to_frame().style.background_gradient(cmap='summer_r')"
   ]
  },
  {
   "cell_type": "code",
   "execution_count": 56,
   "id": "9688dc49",
   "metadata": {},
   "outputs": [],
   "source": [
    "df['gripforce_category'] = 0\n",
    "df.loc[df['gripForce'] <= 120.0, 'gripforce_category'] = 0\n",
    "df.loc[(df['gripForce'] > 120.0) & (df['gripForce'] <= 130.0), 'gripforce_category'] = 1\n",
    "df.loc[(df['gripForce'] > 130.0) & (df['gripForce'] <= 141.0), 'gripforce_category'] = 2\n",
    "df.loc[df['gripForce'] > 141.0, 'gripforce_category'] = 3"
   ]
  },
  {
   "cell_type": "markdown",
   "id": "4553b6bd",
   "metadata": {},
   "source": [
    "### Новый признак категории sit and bend forward_cm"
   ]
  },
  {
   "cell_type": "code",
   "execution_count": 57,
   "id": "d7070542",
   "metadata": {},
   "outputs": [
    {
     "data": {
      "text/html": [
       "<style type=\"text/css\">\n",
       "#T_f0ee0_row0_col0 {\n",
       "  background-color: #ffff66;\n",
       "  color: #000000;\n",
       "}\n",
       "#T_f0ee0_row1_col0 {\n",
       "  background-color: #deee66;\n",
       "  color: #000000;\n",
       "}\n",
       "#T_f0ee0_row2_col0 {\n",
       "  background-color: #7bbd66;\n",
       "  color: #000000;\n",
       "}\n",
       "#T_f0ee0_row3_col0 {\n",
       "  background-color: #008066;\n",
       "  color: #f1f1f1;\n",
       "}\n",
       "#T_f0ee0_row4_col0 {\n",
       "  background-color: #cce666;\n",
       "  color: #000000;\n",
       "}\n",
       "#T_f0ee0_row5_col0 {\n",
       "  background-color: #6bb566;\n",
       "  color: #f1f1f1;\n",
       "}\n",
       "#T_f0ee0_row6_col0 {\n",
       "  background-color: #77bb66;\n",
       "  color: #f1f1f1;\n",
       "}\n",
       "#T_f0ee0_row7_col0 {\n",
       "  background-color: #add666;\n",
       "  color: #000000;\n",
       "}\n",
       "#T_f0ee0_row8_col0 {\n",
       "  background-color: #72b866;\n",
       "  color: #f1f1f1;\n",
       "}\n",
       "#T_f0ee0_row9_col0 {\n",
       "  background-color: #76bb66;\n",
       "  color: #f1f1f1;\n",
       "}\n",
       "#T_f0ee0_row10_col0 {\n",
       "  background-color: #aad466;\n",
       "  color: #000000;\n",
       "}\n",
       "#T_f0ee0_row11_col0 {\n",
       "  background-color: #cee666;\n",
       "  color: #000000;\n",
       "}\n",
       "#T_f0ee0_row12_col0 {\n",
       "  background-color: #1f8f66;\n",
       "  color: #f1f1f1;\n",
       "}\n",
       "#T_f0ee0_row13_col0 {\n",
       "  background-color: #9dce66;\n",
       "  color: #000000;\n",
       "}\n",
       "#T_f0ee0_row14_col0 {\n",
       "  background-color: #c0e066;\n",
       "  color: #000000;\n",
       "}\n",
       "#T_f0ee0_row15_col0 {\n",
       "  background-color: #e1f066;\n",
       "  color: #000000;\n",
       "}\n",
       "</style>\n",
       "<table id=\"T_f0ee0\">\n",
       "  <thead>\n",
       "    <tr>\n",
       "      <th class=\"blank\" >&nbsp;</th>\n",
       "      <th class=\"blank level0\" >&nbsp;</th>\n",
       "      <th id=\"T_f0ee0_level0_col0\" class=\"col_heading level0 col0\" >class</th>\n",
       "    </tr>\n",
       "    <tr>\n",
       "      <th class=\"index_name level0\" >sit_bend_category</th>\n",
       "      <th class=\"index_name level1\" >class</th>\n",
       "      <th class=\"blank col0\" >&nbsp;</th>\n",
       "    </tr>\n",
       "  </thead>\n",
       "  <tbody>\n",
       "    <tr>\n",
       "      <th id=\"T_f0ee0_level0_row0\" class=\"row_heading level0 row0\" rowspan=\"4\">(-25.001, 10.9]</th>\n",
       "      <th id=\"T_f0ee0_level1_row0\" class=\"row_heading level1 row0\" >A</th>\n",
       "      <td id=\"T_f0ee0_row0_col0\" class=\"data row0 col0\" >0</td>\n",
       "    </tr>\n",
       "    <tr>\n",
       "      <th id=\"T_f0ee0_level1_row1\" class=\"row_heading level1 row1\" >B</th>\n",
       "      <td id=\"T_f0ee0_row1_col0\" class=\"data row1 col0\" >266</td>\n",
       "    </tr>\n",
       "    <tr>\n",
       "      <th id=\"T_f0ee0_level1_row2\" class=\"row_heading level1 row2\" >C</th>\n",
       "      <td id=\"T_f0ee0_row2_col0\" class=\"data row2 col0\" >1061</td>\n",
       "    </tr>\n",
       "    <tr>\n",
       "      <th id=\"T_f0ee0_level1_row3\" class=\"row_heading level1 row3\" >D</th>\n",
       "      <td id=\"T_f0ee0_row3_col0\" class=\"data row3 col0\" >2051</td>\n",
       "    </tr>\n",
       "    <tr>\n",
       "      <th id=\"T_f0ee0_level0_row4\" class=\"row_heading level0 row4\" rowspan=\"4\">(10.9, 16.2]</th>\n",
       "      <th id=\"T_f0ee0_level1_row4\" class=\"row_heading level1 row4\" >A</th>\n",
       "      <td id=\"T_f0ee0_row4_col0\" class=\"data row4 col0\" >412</td>\n",
       "    </tr>\n",
       "    <tr>\n",
       "      <th id=\"T_f0ee0_level1_row5\" class=\"row_heading level1 row5\" >B</th>\n",
       "      <td id=\"T_f0ee0_row5_col0\" class=\"data row5 col0\" >1190</td>\n",
       "    </tr>\n",
       "    <tr>\n",
       "      <th id=\"T_f0ee0_level1_row6\" class=\"row_heading level1 row6\" >C</th>\n",
       "      <td id=\"T_f0ee0_row6_col0\" class=\"data row6 col0\" >1094</td>\n",
       "    </tr>\n",
       "    <tr>\n",
       "      <th id=\"T_f0ee0_level1_row7\" class=\"row_heading level1 row7\" >D</th>\n",
       "      <td id=\"T_f0ee0_row7_col0\" class=\"data row7 col0\" >661</td>\n",
       "    </tr>\n",
       "    <tr>\n",
       "      <th id=\"T_f0ee0_level0_row8\" class=\"row_heading level0 row8\" rowspan=\"4\">(16.2, 20.7]</th>\n",
       "      <th id=\"T_f0ee0_level1_row8\" class=\"row_heading level1 row8\" >A</th>\n",
       "      <td id=\"T_f0ee0_row8_col0\" class=\"data row8 col0\" >1135</td>\n",
       "    </tr>\n",
       "    <tr>\n",
       "      <th id=\"T_f0ee0_level1_row9\" class=\"row_heading level1 row9\" >B</th>\n",
       "      <td id=\"T_f0ee0_row9_col0\" class=\"data row9 col0\" >1098</td>\n",
       "    </tr>\n",
       "    <tr>\n",
       "      <th id=\"T_f0ee0_level1_row10\" class=\"row_heading level1 row10\" >C</th>\n",
       "      <td id=\"T_f0ee0_row10_col0\" class=\"data row10 col0\" >686</td>\n",
       "    </tr>\n",
       "    <tr>\n",
       "      <th id=\"T_f0ee0_level1_row11\" class=\"row_heading level1 row11\" >D</th>\n",
       "      <td id=\"T_f0ee0_row11_col0\" class=\"data row11 col0\" >393</td>\n",
       "    </tr>\n",
       "    <tr>\n",
       "      <th id=\"T_f0ee0_level0_row12\" class=\"row_heading level0 row12\" rowspan=\"4\">(20.7, 213.0]</th>\n",
       "      <th id=\"T_f0ee0_level1_row12\" class=\"row_heading level1 row12\" >A</th>\n",
       "      <td id=\"T_f0ee0_row12_col0\" class=\"data row12 col0\" >1801</td>\n",
       "    </tr>\n",
       "    <tr>\n",
       "      <th id=\"T_f0ee0_level1_row13\" class=\"row_heading level1 row13\" >B</th>\n",
       "      <td id=\"T_f0ee0_row13_col0\" class=\"data row13 col0\" >793</td>\n",
       "    </tr>\n",
       "    <tr>\n",
       "      <th id=\"T_f0ee0_level1_row14\" class=\"row_heading level1 row14\" >C</th>\n",
       "      <td id=\"T_f0ee0_row14_col0\" class=\"data row14 col0\" >508</td>\n",
       "    </tr>\n",
       "    <tr>\n",
       "      <th id=\"T_f0ee0_level1_row15\" class=\"row_heading level1 row15\" >D</th>\n",
       "      <td id=\"T_f0ee0_row15_col0\" class=\"data row15 col0\" >244</td>\n",
       "    </tr>\n",
       "  </tbody>\n",
       "</table>\n"
      ],
      "text/plain": [
       "<pandas.io.formats.style.Styler at 0x23dc18fc490>"
      ]
     },
     "execution_count": 57,
     "metadata": {},
     "output_type": "execute_result"
    }
   ],
   "source": [
    "df['sit_bend_category'] = pd.qcut(df['sit and bend forward_cm'], 4)\n",
    "df.groupby(['sit_bend_category', 'class'])['class'].count().to_frame().style.background_gradient(cmap='summer_r')"
   ]
  },
  {
   "cell_type": "code",
   "execution_count": 58,
   "id": "3fce6a2e",
   "metadata": {},
   "outputs": [],
   "source": [
    "df['sit_bend_category'] = 0\n",
    "df.loc[df['sit and bend forward_cm'] <= 120.0, 'sit_bend_category'] = 0\n",
    "df.loc[(df['sit and bend forward_cm'] > 120.0) & (df['sit and bend forward_cm'] <= 130.0), 'sit_bend_category'] = 1\n",
    "df.loc[(df['sit and bend forward_cm'] > 130.0) & (df['sit and bend forward_cm'] <= 141.0), 'sit_bend_category'] = 2\n",
    "df.loc[df['sit and bend forward_cm'] > 141.0, 'sit_bend_category'] = 3"
   ]
  },
  {
   "cell_type": "markdown",
   "id": "60f15d72",
   "metadata": {},
   "source": [
    "### Новый признак категории sit-ups counts"
   ]
  },
  {
   "cell_type": "code",
   "execution_count": 59,
   "id": "7138699c",
   "metadata": {},
   "outputs": [
    {
     "data": {
      "text/html": [
       "<style type=\"text/css\">\n",
       "#T_16ca9_row0_col0 {\n",
       "  background-color: #ffff66;\n",
       "  color: #000000;\n",
       "}\n",
       "#T_16ca9_row1_col0 {\n",
       "  background-color: #b9dc66;\n",
       "  color: #000000;\n",
       "}\n",
       "#T_16ca9_row2_col0 {\n",
       "  background-color: #83c166;\n",
       "  color: #000000;\n",
       "}\n",
       "#T_16ca9_row3_col0 {\n",
       "  background-color: #008066;\n",
       "  color: #f1f1f1;\n",
       "}\n",
       "#T_16ca9_row4_col0 {\n",
       "  background-color: #9ece66;\n",
       "  color: #000000;\n",
       "}\n",
       "#T_16ca9_row5_col0 {\n",
       "  background-color: #8ec666;\n",
       "  color: #000000;\n",
       "}\n",
       "#T_16ca9_row6_col0 {\n",
       "  background-color: #8ac466;\n",
       "  color: #000000;\n",
       "}\n",
       "#T_16ca9_row7_col0 {\n",
       "  background-color: #8bc566;\n",
       "  color: #000000;\n",
       "}\n",
       "#T_16ca9_row8_col0 {\n",
       "  background-color: #85c266;\n",
       "  color: #000000;\n",
       "}\n",
       "#T_16ca9_row9_col0 {\n",
       "  background-color: #7bbd66;\n",
       "  color: #000000;\n",
       "}\n",
       "#T_16ca9_row10_col0 {\n",
       "  background-color: #80c066;\n",
       "  color: #000000;\n",
       "}\n",
       "#T_16ca9_row11_col0 {\n",
       "  background-color: #c5e266;\n",
       "  color: #000000;\n",
       "}\n",
       "#T_16ca9_row12_col0 {\n",
       "  background-color: #1f8f66;\n",
       "  color: #f1f1f1;\n",
       "}\n",
       "#T_16ca9_row13_col0 {\n",
       "  background-color: #7fbf66;\n",
       "  color: #000000;\n",
       "}\n",
       "#T_16ca9_row14_col0 {\n",
       "  background-color: #b3d966;\n",
       "  color: #000000;\n",
       "}\n",
       "#T_16ca9_row15_col0 {\n",
       "  background-color: #f1f866;\n",
       "  color: #000000;\n",
       "}\n",
       "</style>\n",
       "<table id=\"T_16ca9\">\n",
       "  <thead>\n",
       "    <tr>\n",
       "      <th class=\"blank\" >&nbsp;</th>\n",
       "      <th class=\"blank level0\" >&nbsp;</th>\n",
       "      <th id=\"T_16ca9_level0_col0\" class=\"col_heading level0 col0\" >class</th>\n",
       "    </tr>\n",
       "    <tr>\n",
       "      <th class=\"index_name level0\" >sit_ups_category</th>\n",
       "      <th class=\"index_name level1\" >class</th>\n",
       "      <th class=\"blank col0\" >&nbsp;</th>\n",
       "    </tr>\n",
       "  </thead>\n",
       "  <tbody>\n",
       "    <tr>\n",
       "      <th id=\"T_16ca9_level0_row0\" class=\"row_heading level0 row0\" rowspan=\"4\">(-0.001, 30.0]</th>\n",
       "      <th id=\"T_16ca9_level1_row0\" class=\"row_heading level1 row0\" >A</th>\n",
       "      <td id=\"T_16ca9_row0_col0\" class=\"data row0 col0\" >190</td>\n",
       "    </tr>\n",
       "    <tr>\n",
       "      <th id=\"T_16ca9_level1_row1\" class=\"row_heading level1 row1\" >B</th>\n",
       "      <td id=\"T_16ca9_row1_col0\" class=\"data row1 col0\" >601</td>\n",
       "    </tr>\n",
       "    <tr>\n",
       "      <th id=\"T_16ca9_level1_row2\" class=\"row_heading level1 row2\" >C</th>\n",
       "      <td id=\"T_16ca9_row2_col0\" class=\"data row2 col0\" >913</td>\n",
       "    </tr>\n",
       "    <tr>\n",
       "      <th id=\"T_16ca9_level1_row3\" class=\"row_heading level1 row3\" >D</th>\n",
       "      <td id=\"T_16ca9_row3_col0\" class=\"data row3 col0\" >1681</td>\n",
       "    </tr>\n",
       "    <tr>\n",
       "      <th id=\"T_16ca9_level0_row4\" class=\"row_heading level0 row4\" rowspan=\"4\">(30.0, 41.0]</th>\n",
       "      <th id=\"T_16ca9_level1_row4\" class=\"row_heading level1 row4\" >A</th>\n",
       "      <td id=\"T_16ca9_row4_col0\" class=\"data row4 col0\" >757</td>\n",
       "    </tr>\n",
       "    <tr>\n",
       "      <th id=\"T_16ca9_level1_row5\" class=\"row_heading level1 row5\" >B</th>\n",
       "      <td id=\"T_16ca9_row5_col0\" class=\"data row5 col0\" >849</td>\n",
       "    </tr>\n",
       "    <tr>\n",
       "      <th id=\"T_16ca9_level1_row6\" class=\"row_heading level1 row6\" >C</th>\n",
       "      <td id=\"T_16ca9_row6_col0\" class=\"data row6 col0\" >873</td>\n",
       "    </tr>\n",
       "    <tr>\n",
       "      <th id=\"T_16ca9_level1_row7\" class=\"row_heading level1 row7\" >D</th>\n",
       "      <td id=\"T_16ca9_row7_col0\" class=\"data row7 col0\" >866</td>\n",
       "    </tr>\n",
       "    <tr>\n",
       "      <th id=\"T_16ca9_level0_row8\" class=\"row_heading level0 row8\" rowspan=\"4\">(41.0, 50.0]</th>\n",
       "      <th id=\"T_16ca9_level1_row8\" class=\"row_heading level1 row8\" >A</th>\n",
       "      <td id=\"T_16ca9_row8_col0\" class=\"data row8 col0\" >903</td>\n",
       "    </tr>\n",
       "    <tr>\n",
       "      <th id=\"T_16ca9_level1_row9\" class=\"row_heading level1 row9\" >B</th>\n",
       "      <td id=\"T_16ca9_row9_col0\" class=\"data row9 col0\" >960</td>\n",
       "    </tr>\n",
       "    <tr>\n",
       "      <th id=\"T_16ca9_level1_row10\" class=\"row_heading level1 row10\" >C</th>\n",
       "      <td id=\"T_16ca9_row10_col0\" class=\"data row10 col0\" >930</td>\n",
       "    </tr>\n",
       "    <tr>\n",
       "      <th id=\"T_16ca9_level1_row11\" class=\"row_heading level1 row11\" >D</th>\n",
       "      <td id=\"T_16ca9_row11_col0\" class=\"data row11 col0\" >528</td>\n",
       "    </tr>\n",
       "    <tr>\n",
       "      <th id=\"T_16ca9_level0_row12\" class=\"row_heading level0 row12\" rowspan=\"4\">(50.0, 80.0]</th>\n",
       "      <th id=\"T_16ca9_level1_row12\" class=\"row_heading level1 row12\" >A</th>\n",
       "      <td id=\"T_16ca9_row12_col0\" class=\"data row12 col0\" >1498</td>\n",
       "    </tr>\n",
       "    <tr>\n",
       "      <th id=\"T_16ca9_level1_row13\" class=\"row_heading level1 row13\" >B</th>\n",
       "      <td id=\"T_16ca9_row13_col0\" class=\"data row13 col0\" >937</td>\n",
       "    </tr>\n",
       "    <tr>\n",
       "      <th id=\"T_16ca9_level1_row14\" class=\"row_heading level1 row14\" >C</th>\n",
       "      <td id=\"T_16ca9_row14_col0\" class=\"data row14 col0\" >633</td>\n",
       "    </tr>\n",
       "    <tr>\n",
       "      <th id=\"T_16ca9_level1_row15\" class=\"row_heading level1 row15\" >D</th>\n",
       "      <td id=\"T_16ca9_row15_col0\" class=\"data row15 col0\" >274</td>\n",
       "    </tr>\n",
       "  </tbody>\n",
       "</table>\n"
      ],
      "text/plain": [
       "<pandas.io.formats.style.Styler at 0x23dc193a790>"
      ]
     },
     "execution_count": 59,
     "metadata": {},
     "output_type": "execute_result"
    }
   ],
   "source": [
    "df['sit_ups_category'] = pd.qcut(df['sit-ups counts'], 4)\n",
    "df.groupby(['sit_ups_category', 'class'])['class'].count().to_frame().style.background_gradient(cmap='summer_r')"
   ]
  },
  {
   "cell_type": "code",
   "execution_count": 60,
   "id": "17169b91",
   "metadata": {},
   "outputs": [],
   "source": [
    "df['sit_ups_category'] = 0\n",
    "df.loc[df['sit-ups counts'] <= 30.0, 'sit_ups_category'] = 0\n",
    "df.loc[(df['sit-ups counts'] > 30.0) & (df['sit-ups counts'] <= 41.0), 'sit_ups_category'] = 1\n",
    "df.loc[(df['sit-ups counts'] > 41.0) & (df['sit-ups counts'] <= 50.0), 'sit_ups_category'] = 2\n",
    "df.loc[df['sit-ups counts'] > 50.0, 'sit_ups_category'] = 3"
   ]
  },
  {
   "cell_type": "markdown",
   "id": "fc97a6ac",
   "metadata": {},
   "source": [
    "### Новый признак категории broad jump_cm"
   ]
  },
  {
   "cell_type": "code",
   "execution_count": 61,
   "id": "2403e9b4",
   "metadata": {},
   "outputs": [
    {
     "data": {
      "text/html": [
       "<style type=\"text/css\">\n",
       "#T_97932_row0_col0 {\n",
       "  background-color: #e7f366;\n",
       "  color: #000000;\n",
       "}\n",
       "#T_97932_row1_col0 {\n",
       "  background-color: #9cce66;\n",
       "  color: #000000;\n",
       "}\n",
       "#T_97932_row2_col0 {\n",
       "  background-color: #62b066;\n",
       "  color: #f1f1f1;\n",
       "}\n",
       "#T_97932_row3_col0 {\n",
       "  background-color: #008066;\n",
       "  color: #f1f1f1;\n",
       "}\n",
       "#T_97932_row4_col0 {\n",
       "  background-color: #48a366;\n",
       "  color: #f1f1f1;\n",
       "}\n",
       "#T_97932_row5_col0 {\n",
       "  background-color: #86c266;\n",
       "  color: #000000;\n",
       "}\n",
       "#T_97932_row6_col0 {\n",
       "  background-color: #99cc66;\n",
       "  color: #000000;\n",
       "}\n",
       "#T_97932_row7_col0 {\n",
       "  background-color: #7cbe66;\n",
       "  color: #000000;\n",
       "}\n",
       "#T_97932_row8_col0 {\n",
       "  background-color: #bbdd66;\n",
       "  color: #000000;\n",
       "}\n",
       "#T_97932_row9_col0 {\n",
       "  background-color: #6ab466;\n",
       "  color: #f1f1f1;\n",
       "}\n",
       "#T_97932_row10_col0, #T_97932_row13_col0 {\n",
       "  background-color: #5faf66;\n",
       "  color: #f1f1f1;\n",
       "}\n",
       "#T_97932_row11_col0 {\n",
       "  background-color: #6fb766;\n",
       "  color: #f1f1f1;\n",
       "}\n",
       "#T_97932_row12_col0 {\n",
       "  background-color: #018066;\n",
       "  color: #f1f1f1;\n",
       "}\n",
       "#T_97932_row14_col0 {\n",
       "  background-color: #90c866;\n",
       "  color: #000000;\n",
       "}\n",
       "#T_97932_row15_col0 {\n",
       "  background-color: #ffff66;\n",
       "  color: #000000;\n",
       "}\n",
       "</style>\n",
       "<table id=\"T_97932\">\n",
       "  <thead>\n",
       "    <tr>\n",
       "      <th class=\"blank\" >&nbsp;</th>\n",
       "      <th class=\"blank level0\" >&nbsp;</th>\n",
       "      <th id=\"T_97932_level0_col0\" class=\"col_heading level0 col0\" >class</th>\n",
       "    </tr>\n",
       "    <tr>\n",
       "      <th class=\"index_name level0\" >jump_broad_category</th>\n",
       "      <th class=\"index_name level1\" >class</th>\n",
       "      <th class=\"blank col0\" >&nbsp;</th>\n",
       "    </tr>\n",
       "  </thead>\n",
       "  <tbody>\n",
       "    <tr>\n",
       "      <th id=\"T_97932_level0_row0\" class=\"row_heading level0 row0\" rowspan=\"4\">(-0.001, 162.0]</th>\n",
       "      <th id=\"T_97932_level1_row0\" class=\"row_heading level1 row0\" >A</th>\n",
       "      <td id=\"T_97932_row0_col0\" class=\"data row0 col0\" >461</td>\n",
       "    </tr>\n",
       "    <tr>\n",
       "      <th id=\"T_97932_level1_row1\" class=\"row_heading level1 row1\" >B</th>\n",
       "      <td id=\"T_97932_row1_col0\" class=\"data row1 col0\" >722</td>\n",
       "    </tr>\n",
       "    <tr>\n",
       "      <th id=\"T_97932_level1_row2\" class=\"row_heading level1 row2\" >C</th>\n",
       "      <td id=\"T_97932_row2_col0\" class=\"data row2 col0\" >922</td>\n",
       "    </tr>\n",
       "    <tr>\n",
       "      <th id=\"T_97932_level1_row3\" class=\"row_heading level1 row3\" >D</th>\n",
       "      <td id=\"T_97932_row3_col0\" class=\"data row3 col0\" >1265</td>\n",
       "    </tr>\n",
       "    <tr>\n",
       "      <th id=\"T_97932_level0_row4\" class=\"row_heading level0 row4\" rowspan=\"4\">(162.0, 193.0]</th>\n",
       "      <th id=\"T_97932_level1_row4\" class=\"row_heading level1 row4\" >A</th>\n",
       "      <td id=\"T_97932_row4_col0\" class=\"data row4 col0\" >1013</td>\n",
       "    </tr>\n",
       "    <tr>\n",
       "      <th id=\"T_97932_level1_row5\" class=\"row_heading level1 row5\" >B</th>\n",
       "      <td id=\"T_97932_row5_col0\" class=\"data row5 col0\" >798</td>\n",
       "    </tr>\n",
       "    <tr>\n",
       "      <th id=\"T_97932_level1_row6\" class=\"row_heading level1 row6\" >C</th>\n",
       "      <td id=\"T_97932_row6_col0\" class=\"data row6 col0\" >730</td>\n",
       "    </tr>\n",
       "    <tr>\n",
       "      <th id=\"T_97932_level1_row7\" class=\"row_heading level1 row7\" >D</th>\n",
       "      <td id=\"T_97932_row7_col0\" class=\"data row7 col0\" >832</td>\n",
       "    </tr>\n",
       "    <tr>\n",
       "      <th id=\"T_97932_level0_row8\" class=\"row_heading level0 row8\" rowspan=\"4\">(193.0, 221.0]</th>\n",
       "      <th id=\"T_97932_level1_row8\" class=\"row_heading level1 row8\" >A</th>\n",
       "      <td id=\"T_97932_row8_col0\" class=\"data row8 col0\" >613</td>\n",
       "    </tr>\n",
       "    <tr>\n",
       "      <th id=\"T_97932_level1_row9\" class=\"row_heading level1 row9\" >B</th>\n",
       "      <td id=\"T_97932_row9_col0\" class=\"data row9 col0\" >893</td>\n",
       "    </tr>\n",
       "    <tr>\n",
       "      <th id=\"T_97932_level1_row10\" class=\"row_heading level1 row10\" >C</th>\n",
       "      <td id=\"T_97932_row10_col0\" class=\"data row10 col0\" >934</td>\n",
       "    </tr>\n",
       "    <tr>\n",
       "      <th id=\"T_97932_level1_row11\" class=\"row_heading level1 row11\" >D</th>\n",
       "      <td id=\"T_97932_row11_col0\" class=\"data row11 col0\" >878</td>\n",
       "    </tr>\n",
       "    <tr>\n",
       "      <th id=\"T_97932_level0_row12\" class=\"row_heading level0 row12\" rowspan=\"4\">(221.0, 303.0]</th>\n",
       "      <th id=\"T_97932_level1_row12\" class=\"row_heading level1 row12\" >A</th>\n",
       "      <td id=\"T_97932_row12_col0\" class=\"data row12 col0\" >1261</td>\n",
       "    </tr>\n",
       "    <tr>\n",
       "      <th id=\"T_97932_level1_row13\" class=\"row_heading level1 row13\" >B</th>\n",
       "      <td id=\"T_97932_row13_col0\" class=\"data row13 col0\" >934</td>\n",
       "    </tr>\n",
       "    <tr>\n",
       "      <th id=\"T_97932_level1_row14\" class=\"row_heading level1 row14\" >C</th>\n",
       "      <td id=\"T_97932_row14_col0\" class=\"data row14 col0\" >763</td>\n",
       "    </tr>\n",
       "    <tr>\n",
       "      <th id=\"T_97932_level1_row15\" class=\"row_heading level1 row15\" >D</th>\n",
       "      <td id=\"T_97932_row15_col0\" class=\"data row15 col0\" >374</td>\n",
       "    </tr>\n",
       "  </tbody>\n",
       "</table>\n"
      ],
      "text/plain": [
       "<pandas.io.formats.style.Styler at 0x23dc1948640>"
      ]
     },
     "execution_count": 61,
     "metadata": {},
     "output_type": "execute_result"
    }
   ],
   "source": [
    "df['jump_broad_category'] = pd.qcut(df['broad jump_cm'], 4)\n",
    "df.groupby(['jump_broad_category', 'class'])['class'].count().to_frame().style.background_gradient(cmap='summer_r')"
   ]
  },
  {
   "cell_type": "code",
   "execution_count": 62,
   "id": "495bcb5b",
   "metadata": {},
   "outputs": [],
   "source": [
    "df['jump_broad_category'] = 0\n",
    "df.loc[df['broad jump_cm'] <= 162.0, 'jump_broad_category'] = 0\n",
    "df.loc[(df['broad jump_cm'] > 162.0) & (df['broad jump_cm'] <= 193.0), 'jump_broad_category'] = 1\n",
    "df.loc[(df['broad jump_cm'] > 193.0) & (df['broad jump_cm'] <= 221.0), 'jump_broad_category'] = 2\n",
    "df.loc[df['broad jump_cm'] > 221.0, 'jump_broad_category'] = 3"
   ]
  },
  {
   "cell_type": "markdown",
   "id": "d5a07710",
   "metadata": {},
   "source": [
    "### Закодируем категориальные признаки\n",
    "\n",
    "Закодируем катогориальные признаки **age_category**, **height_category**, **weight_category**, **bodyfat_category**, **dialistic_category**, **gripforce_category**, **sit_bend_category**, **jump_broad_category**.\n",
    "\n",
    "Для кодирования признаков воспользуемся OneHotEncoder из библиотеки sklearn. Напишем функцию, которая поможет преобразовывать категориальные признаки:"
   ]
  },
  {
   "cell_type": "code",
   "execution_count": 63,
   "id": "9b89da85",
   "metadata": {},
   "outputs": [],
   "source": [
    "from sklearn.preprocessing import OneHotEncoder\n",
    "\n",
    "def encode_categorial(name):\n",
    "    encoder = OneHotEncoder(handle_unknown='ignore')\n",
    "    \n",
    "    # Кодирование признака.\n",
    "    encoded_df = pd.DataFrame(encoder.fit_transform(df[[name]]).toarray())\n",
    "    \n",
    "    # Список названий столбцов.\n",
    "    column_names = create_column_names(encoded_df, name)\n",
    "    \n",
    "    # Переименование столбцов.\n",
    "    encoded_df.columns = column_names\n",
    "    \n",
    "    return encoded_df\n",
    "    \n",
    "def create_column_names(encoded_df, prefix):\n",
    "    column_names = []\n",
    "    \n",
    "    for i in range(0, len(encoded_df.columns)):\n",
    "        column_names.append(prefix + \"_\" + str(i))\n",
    "        \n",
    "    return column_names    "
   ]
  },
  {
   "cell_type": "code",
   "execution_count": 64,
   "id": "9e233914",
   "metadata": {},
   "outputs": [
    {
     "data": {
      "text/html": [
       "<div>\n",
       "<style scoped>\n",
       "    .dataframe tbody tr th:only-of-type {\n",
       "        vertical-align: middle;\n",
       "    }\n",
       "\n",
       "    .dataframe tbody tr th {\n",
       "        vertical-align: top;\n",
       "    }\n",
       "\n",
       "    .dataframe thead th {\n",
       "        text-align: right;\n",
       "    }\n",
       "</style>\n",
       "<table border=\"1\" class=\"dataframe\">\n",
       "  <thead>\n",
       "    <tr style=\"text-align: right;\">\n",
       "      <th></th>\n",
       "      <th>age</th>\n",
       "      <th>gender</th>\n",
       "      <th>height_cm</th>\n",
       "      <th>weight_kg</th>\n",
       "      <th>body fat_%</th>\n",
       "      <th>diastolic</th>\n",
       "      <th>systolic</th>\n",
       "      <th>gripForce</th>\n",
       "      <th>sit and bend forward_cm</th>\n",
       "      <th>sit-ups counts</th>\n",
       "      <th>...</th>\n",
       "      <th>dialistic_category_1</th>\n",
       "      <th>dialistic_category_2</th>\n",
       "      <th>dialistic_category_3</th>\n",
       "      <th>gripforce_category_0</th>\n",
       "      <th>sit_bend_category_0</th>\n",
       "      <th>sit_bend_category_1</th>\n",
       "      <th>jump_broad_category_0</th>\n",
       "      <th>jump_broad_category_1</th>\n",
       "      <th>jump_broad_category_2</th>\n",
       "      <th>jump_broad_category_3</th>\n",
       "    </tr>\n",
       "  </thead>\n",
       "  <tbody>\n",
       "    <tr>\n",
       "      <th>0</th>\n",
       "      <td>27.0</td>\n",
       "      <td>M</td>\n",
       "      <td>172.3</td>\n",
       "      <td>75.24</td>\n",
       "      <td>21.3</td>\n",
       "      <td>80.0</td>\n",
       "      <td>130.0</td>\n",
       "      <td>54.9</td>\n",
       "      <td>18.4</td>\n",
       "      <td>60.0</td>\n",
       "      <td>...</td>\n",
       "      <td>0.0</td>\n",
       "      <td>1.0</td>\n",
       "      <td>0.0</td>\n",
       "      <td>1.0</td>\n",
       "      <td>1.0</td>\n",
       "      <td>0.0</td>\n",
       "      <td>0.0</td>\n",
       "      <td>0.0</td>\n",
       "      <td>1.0</td>\n",
       "      <td>0.0</td>\n",
       "    </tr>\n",
       "    <tr>\n",
       "      <th>1</th>\n",
       "      <td>25.0</td>\n",
       "      <td>M</td>\n",
       "      <td>165.0</td>\n",
       "      <td>55.80</td>\n",
       "      <td>15.7</td>\n",
       "      <td>77.0</td>\n",
       "      <td>126.0</td>\n",
       "      <td>36.4</td>\n",
       "      <td>16.3</td>\n",
       "      <td>53.0</td>\n",
       "      <td>...</td>\n",
       "      <td>1.0</td>\n",
       "      <td>0.0</td>\n",
       "      <td>0.0</td>\n",
       "      <td>1.0</td>\n",
       "      <td>1.0</td>\n",
       "      <td>0.0</td>\n",
       "      <td>0.0</td>\n",
       "      <td>0.0</td>\n",
       "      <td>0.0</td>\n",
       "      <td>1.0</td>\n",
       "    </tr>\n",
       "    <tr>\n",
       "      <th>2</th>\n",
       "      <td>31.0</td>\n",
       "      <td>M</td>\n",
       "      <td>179.6</td>\n",
       "      <td>78.00</td>\n",
       "      <td>20.1</td>\n",
       "      <td>92.0</td>\n",
       "      <td>152.0</td>\n",
       "      <td>44.8</td>\n",
       "      <td>12.0</td>\n",
       "      <td>49.0</td>\n",
       "      <td>...</td>\n",
       "      <td>0.0</td>\n",
       "      <td>0.0</td>\n",
       "      <td>1.0</td>\n",
       "      <td>1.0</td>\n",
       "      <td>1.0</td>\n",
       "      <td>0.0</td>\n",
       "      <td>0.0</td>\n",
       "      <td>1.0</td>\n",
       "      <td>0.0</td>\n",
       "      <td>0.0</td>\n",
       "    </tr>\n",
       "    <tr>\n",
       "      <th>3</th>\n",
       "      <td>32.0</td>\n",
       "      <td>M</td>\n",
       "      <td>174.5</td>\n",
       "      <td>71.10</td>\n",
       "      <td>18.4</td>\n",
       "      <td>76.0</td>\n",
       "      <td>147.0</td>\n",
       "      <td>41.4</td>\n",
       "      <td>15.2</td>\n",
       "      <td>53.0</td>\n",
       "      <td>...</td>\n",
       "      <td>1.0</td>\n",
       "      <td>0.0</td>\n",
       "      <td>0.0</td>\n",
       "      <td>1.0</td>\n",
       "      <td>1.0</td>\n",
       "      <td>0.0</td>\n",
       "      <td>0.0</td>\n",
       "      <td>0.0</td>\n",
       "      <td>1.0</td>\n",
       "      <td>0.0</td>\n",
       "    </tr>\n",
       "    <tr>\n",
       "      <th>4</th>\n",
       "      <td>28.0</td>\n",
       "      <td>M</td>\n",
       "      <td>173.8</td>\n",
       "      <td>67.70</td>\n",
       "      <td>17.1</td>\n",
       "      <td>70.0</td>\n",
       "      <td>127.0</td>\n",
       "      <td>43.5</td>\n",
       "      <td>27.1</td>\n",
       "      <td>45.0</td>\n",
       "      <td>...</td>\n",
       "      <td>0.0</td>\n",
       "      <td>0.0</td>\n",
       "      <td>0.0</td>\n",
       "      <td>1.0</td>\n",
       "      <td>1.0</td>\n",
       "      <td>0.0</td>\n",
       "      <td>0.0</td>\n",
       "      <td>0.0</td>\n",
       "      <td>1.0</td>\n",
       "      <td>0.0</td>\n",
       "    </tr>\n",
       "    <tr>\n",
       "      <th>...</th>\n",
       "      <td>...</td>\n",
       "      <td>...</td>\n",
       "      <td>...</td>\n",
       "      <td>...</td>\n",
       "      <td>...</td>\n",
       "      <td>...</td>\n",
       "      <td>...</td>\n",
       "      <td>...</td>\n",
       "      <td>...</td>\n",
       "      <td>...</td>\n",
       "      <td>...</td>\n",
       "      <td>...</td>\n",
       "      <td>...</td>\n",
       "      <td>...</td>\n",
       "      <td>...</td>\n",
       "      <td>...</td>\n",
       "      <td>...</td>\n",
       "      <td>...</td>\n",
       "      <td>...</td>\n",
       "      <td>...</td>\n",
       "      <td>...</td>\n",
       "    </tr>\n",
       "    <tr>\n",
       "      <th>13388</th>\n",
       "      <td>25.0</td>\n",
       "      <td>M</td>\n",
       "      <td>172.1</td>\n",
       "      <td>71.80</td>\n",
       "      <td>16.2</td>\n",
       "      <td>74.0</td>\n",
       "      <td>141.0</td>\n",
       "      <td>35.8</td>\n",
       "      <td>17.4</td>\n",
       "      <td>47.0</td>\n",
       "      <td>...</td>\n",
       "      <td>1.0</td>\n",
       "      <td>0.0</td>\n",
       "      <td>0.0</td>\n",
       "      <td>1.0</td>\n",
       "      <td>1.0</td>\n",
       "      <td>0.0</td>\n",
       "      <td>0.0</td>\n",
       "      <td>0.0</td>\n",
       "      <td>1.0</td>\n",
       "      <td>0.0</td>\n",
       "    </tr>\n",
       "    <tr>\n",
       "      <th>13389</th>\n",
       "      <td>21.0</td>\n",
       "      <td>M</td>\n",
       "      <td>179.7</td>\n",
       "      <td>63.90</td>\n",
       "      <td>12.1</td>\n",
       "      <td>74.0</td>\n",
       "      <td>128.0</td>\n",
       "      <td>33.0</td>\n",
       "      <td>1.1</td>\n",
       "      <td>48.0</td>\n",
       "      <td>...</td>\n",
       "      <td>1.0</td>\n",
       "      <td>0.0</td>\n",
       "      <td>0.0</td>\n",
       "      <td>1.0</td>\n",
       "      <td>1.0</td>\n",
       "      <td>0.0</td>\n",
       "      <td>0.0</td>\n",
       "      <td>1.0</td>\n",
       "      <td>0.0</td>\n",
       "      <td>0.0</td>\n",
       "    </tr>\n",
       "    <tr>\n",
       "      <th>13390</th>\n",
       "      <td>39.0</td>\n",
       "      <td>M</td>\n",
       "      <td>177.2</td>\n",
       "      <td>80.50</td>\n",
       "      <td>20.1</td>\n",
       "      <td>78.0</td>\n",
       "      <td>132.0</td>\n",
       "      <td>63.5</td>\n",
       "      <td>16.4</td>\n",
       "      <td>45.0</td>\n",
       "      <td>...</td>\n",
       "      <td>1.0</td>\n",
       "      <td>0.0</td>\n",
       "      <td>0.0</td>\n",
       "      <td>1.0</td>\n",
       "      <td>1.0</td>\n",
       "      <td>0.0</td>\n",
       "      <td>0.0</td>\n",
       "      <td>0.0</td>\n",
       "      <td>0.0</td>\n",
       "      <td>1.0</td>\n",
       "    </tr>\n",
       "    <tr>\n",
       "      <th>13391</th>\n",
       "      <td>64.0</td>\n",
       "      <td>F</td>\n",
       "      <td>146.1</td>\n",
       "      <td>57.70</td>\n",
       "      <td>40.4</td>\n",
       "      <td>68.0</td>\n",
       "      <td>121.0</td>\n",
       "      <td>19.3</td>\n",
       "      <td>9.2</td>\n",
       "      <td>0.0</td>\n",
       "      <td>...</td>\n",
       "      <td>0.0</td>\n",
       "      <td>0.0</td>\n",
       "      <td>0.0</td>\n",
       "      <td>1.0</td>\n",
       "      <td>1.0</td>\n",
       "      <td>0.0</td>\n",
       "      <td>1.0</td>\n",
       "      <td>0.0</td>\n",
       "      <td>0.0</td>\n",
       "      <td>0.0</td>\n",
       "    </tr>\n",
       "    <tr>\n",
       "      <th>13392</th>\n",
       "      <td>34.0</td>\n",
       "      <td>M</td>\n",
       "      <td>164.0</td>\n",
       "      <td>66.10</td>\n",
       "      <td>19.5</td>\n",
       "      <td>82.0</td>\n",
       "      <td>150.0</td>\n",
       "      <td>35.9</td>\n",
       "      <td>7.1</td>\n",
       "      <td>51.0</td>\n",
       "      <td>...</td>\n",
       "      <td>0.0</td>\n",
       "      <td>1.0</td>\n",
       "      <td>0.0</td>\n",
       "      <td>1.0</td>\n",
       "      <td>1.0</td>\n",
       "      <td>0.0</td>\n",
       "      <td>0.0</td>\n",
       "      <td>1.0</td>\n",
       "      <td>0.0</td>\n",
       "      <td>0.0</td>\n",
       "    </tr>\n",
       "  </tbody>\n",
       "</table>\n",
       "<p>13393 rows × 45 columns</p>\n",
       "</div>"
      ],
      "text/plain": [
       "        age gender  height_cm  weight_kg  body fat_%  diastolic  systolic  \\\n",
       "0      27.0      M      172.3      75.24        21.3       80.0     130.0   \n",
       "1      25.0      M      165.0      55.80        15.7       77.0     126.0   \n",
       "2      31.0      M      179.6      78.00        20.1       92.0     152.0   \n",
       "3      32.0      M      174.5      71.10        18.4       76.0     147.0   \n",
       "4      28.0      M      173.8      67.70        17.1       70.0     127.0   \n",
       "...     ...    ...        ...        ...         ...        ...       ...   \n",
       "13388  25.0      M      172.1      71.80        16.2       74.0     141.0   \n",
       "13389  21.0      M      179.7      63.90        12.1       74.0     128.0   \n",
       "13390  39.0      M      177.2      80.50        20.1       78.0     132.0   \n",
       "13391  64.0      F      146.1      57.70        40.4       68.0     121.0   \n",
       "13392  34.0      M      164.0      66.10        19.5       82.0     150.0   \n",
       "\n",
       "       gripForce  sit and bend forward_cm  sit-ups counts  ...  \\\n",
       "0           54.9                     18.4            60.0  ...   \n",
       "1           36.4                     16.3            53.0  ...   \n",
       "2           44.8                     12.0            49.0  ...   \n",
       "3           41.4                     15.2            53.0  ...   \n",
       "4           43.5                     27.1            45.0  ...   \n",
       "...          ...                      ...             ...  ...   \n",
       "13388       35.8                     17.4            47.0  ...   \n",
       "13389       33.0                      1.1            48.0  ...   \n",
       "13390       63.5                     16.4            45.0  ...   \n",
       "13391       19.3                      9.2             0.0  ...   \n",
       "13392       35.9                      7.1            51.0  ...   \n",
       "\n",
       "       dialistic_category_1 dialistic_category_2  dialistic_category_3  \\\n",
       "0                       0.0                  1.0                   0.0   \n",
       "1                       1.0                  0.0                   0.0   \n",
       "2                       0.0                  0.0                   1.0   \n",
       "3                       1.0                  0.0                   0.0   \n",
       "4                       0.0                  0.0                   0.0   \n",
       "...                     ...                  ...                   ...   \n",
       "13388                   1.0                  0.0                   0.0   \n",
       "13389                   1.0                  0.0                   0.0   \n",
       "13390                   1.0                  0.0                   0.0   \n",
       "13391                   0.0                  0.0                   0.0   \n",
       "13392                   0.0                  1.0                   0.0   \n",
       "\n",
       "       gripforce_category_0  sit_bend_category_0  sit_bend_category_1  \\\n",
       "0                       1.0                  1.0                  0.0   \n",
       "1                       1.0                  1.0                  0.0   \n",
       "2                       1.0                  1.0                  0.0   \n",
       "3                       1.0                  1.0                  0.0   \n",
       "4                       1.0                  1.0                  0.0   \n",
       "...                     ...                  ...                  ...   \n",
       "13388                   1.0                  1.0                  0.0   \n",
       "13389                   1.0                  1.0                  0.0   \n",
       "13390                   1.0                  1.0                  0.0   \n",
       "13391                   1.0                  1.0                  0.0   \n",
       "13392                   1.0                  1.0                  0.0   \n",
       "\n",
       "       jump_broad_category_0  jump_broad_category_1  jump_broad_category_2  \\\n",
       "0                        0.0                    0.0                    1.0   \n",
       "1                        0.0                    0.0                    0.0   \n",
       "2                        0.0                    1.0                    0.0   \n",
       "3                        0.0                    0.0                    1.0   \n",
       "4                        0.0                    0.0                    1.0   \n",
       "...                      ...                    ...                    ...   \n",
       "13388                    0.0                    0.0                    1.0   \n",
       "13389                    0.0                    1.0                    0.0   \n",
       "13390                    0.0                    0.0                    0.0   \n",
       "13391                    1.0                    0.0                    0.0   \n",
       "13392                    0.0                    1.0                    0.0   \n",
       "\n",
       "       jump_broad_category_3  \n",
       "0                        0.0  \n",
       "1                        1.0  \n",
       "2                        0.0  \n",
       "3                        0.0  \n",
       "4                        0.0  \n",
       "...                      ...  \n",
       "13388                    0.0  \n",
       "13389                    0.0  \n",
       "13390                    1.0  \n",
       "13391                    0.0  \n",
       "13392                    0.0  \n",
       "\n",
       "[13393 rows x 45 columns]"
      ]
     },
     "execution_count": 64,
     "metadata": {},
     "output_type": "execute_result"
    }
   ],
   "source": [
    "# Список категориальных признаков.\n",
    "categorial = ['age_category', 'height_category', 'bodyfat_category', 'dialistic_category', 'gripforce_category', \n",
    "              'sit_bend_category', 'jump_broad_category']\n",
    "\n",
    "# Кодируем катогориальные признаки.\n",
    "encoded_categorial = [encode_categorial(categorial[i]) for i in range(len(categorial))] \n",
    "\n",
    "# Добавляем к исходному датафрейму закодированные значения.\n",
    "for i in range(len(encoded_categorial)):\n",
    "    df = df.join(encoded_categorial[i])\n",
    "    \n",
    "df    "
   ]
  },
  {
   "cell_type": "code",
   "execution_count": 65,
   "id": "b55f6b1a",
   "metadata": {},
   "outputs": [
    {
     "data": {
      "text/html": [
       "<div>\n",
       "<style scoped>\n",
       "    .dataframe tbody tr th:only-of-type {\n",
       "        vertical-align: middle;\n",
       "    }\n",
       "\n",
       "    .dataframe tbody tr th {\n",
       "        vertical-align: top;\n",
       "    }\n",
       "\n",
       "    .dataframe thead th {\n",
       "        text-align: right;\n",
       "    }\n",
       "</style>\n",
       "<table border=\"1\" class=\"dataframe\">\n",
       "  <thead>\n",
       "    <tr style=\"text-align: right;\">\n",
       "      <th></th>\n",
       "      <th>gender</th>\n",
       "      <th>class</th>\n",
       "      <th>weight_category</th>\n",
       "      <th>systolic_category</th>\n",
       "      <th>sit_ups_category</th>\n",
       "      <th>age_category_0</th>\n",
       "      <th>age_category_1</th>\n",
       "      <th>age_category_2</th>\n",
       "      <th>age_category_3</th>\n",
       "      <th>height_category_0</th>\n",
       "      <th>...</th>\n",
       "      <th>dialistic_category_1</th>\n",
       "      <th>dialistic_category_2</th>\n",
       "      <th>dialistic_category_3</th>\n",
       "      <th>gripforce_category_0</th>\n",
       "      <th>sit_bend_category_0</th>\n",
       "      <th>sit_bend_category_1</th>\n",
       "      <th>jump_broad_category_0</th>\n",
       "      <th>jump_broad_category_1</th>\n",
       "      <th>jump_broad_category_2</th>\n",
       "      <th>jump_broad_category_3</th>\n",
       "    </tr>\n",
       "  </thead>\n",
       "  <tbody>\n",
       "    <tr>\n",
       "      <th>0</th>\n",
       "      <td>M</td>\n",
       "      <td>C</td>\n",
       "      <td>0</td>\n",
       "      <td>1</td>\n",
       "      <td>3</td>\n",
       "      <td>0.0</td>\n",
       "      <td>1.0</td>\n",
       "      <td>0.0</td>\n",
       "      <td>0.0</td>\n",
       "      <td>0.0</td>\n",
       "      <td>...</td>\n",
       "      <td>0.0</td>\n",
       "      <td>1.0</td>\n",
       "      <td>0.0</td>\n",
       "      <td>1.0</td>\n",
       "      <td>1.0</td>\n",
       "      <td>0.0</td>\n",
       "      <td>0.0</td>\n",
       "      <td>0.0</td>\n",
       "      <td>1.0</td>\n",
       "      <td>0.0</td>\n",
       "    </tr>\n",
       "    <tr>\n",
       "      <th>1</th>\n",
       "      <td>M</td>\n",
       "      <td>A</td>\n",
       "      <td>0</td>\n",
       "      <td>1</td>\n",
       "      <td>3</td>\n",
       "      <td>1.0</td>\n",
       "      <td>0.0</td>\n",
       "      <td>0.0</td>\n",
       "      <td>0.0</td>\n",
       "      <td>0.0</td>\n",
       "      <td>...</td>\n",
       "      <td>1.0</td>\n",
       "      <td>0.0</td>\n",
       "      <td>0.0</td>\n",
       "      <td>1.0</td>\n",
       "      <td>1.0</td>\n",
       "      <td>0.0</td>\n",
       "      <td>0.0</td>\n",
       "      <td>0.0</td>\n",
       "      <td>0.0</td>\n",
       "      <td>1.0</td>\n",
       "    </tr>\n",
       "    <tr>\n",
       "      <th>2</th>\n",
       "      <td>M</td>\n",
       "      <td>C</td>\n",
       "      <td>0</td>\n",
       "      <td>3</td>\n",
       "      <td>2</td>\n",
       "      <td>0.0</td>\n",
       "      <td>1.0</td>\n",
       "      <td>0.0</td>\n",
       "      <td>0.0</td>\n",
       "      <td>0.0</td>\n",
       "      <td>...</td>\n",
       "      <td>0.0</td>\n",
       "      <td>0.0</td>\n",
       "      <td>1.0</td>\n",
       "      <td>1.0</td>\n",
       "      <td>1.0</td>\n",
       "      <td>0.0</td>\n",
       "      <td>0.0</td>\n",
       "      <td>1.0</td>\n",
       "      <td>0.0</td>\n",
       "      <td>0.0</td>\n",
       "    </tr>\n",
       "    <tr>\n",
       "      <th>3</th>\n",
       "      <td>M</td>\n",
       "      <td>B</td>\n",
       "      <td>0</td>\n",
       "      <td>3</td>\n",
       "      <td>3</td>\n",
       "      <td>0.0</td>\n",
       "      <td>1.0</td>\n",
       "      <td>0.0</td>\n",
       "      <td>0.0</td>\n",
       "      <td>0.0</td>\n",
       "      <td>...</td>\n",
       "      <td>1.0</td>\n",
       "      <td>0.0</td>\n",
       "      <td>0.0</td>\n",
       "      <td>1.0</td>\n",
       "      <td>1.0</td>\n",
       "      <td>0.0</td>\n",
       "      <td>0.0</td>\n",
       "      <td>0.0</td>\n",
       "      <td>1.0</td>\n",
       "      <td>0.0</td>\n",
       "    </tr>\n",
       "    <tr>\n",
       "      <th>4</th>\n",
       "      <td>M</td>\n",
       "      <td>B</td>\n",
       "      <td>0</td>\n",
       "      <td>1</td>\n",
       "      <td>2</td>\n",
       "      <td>0.0</td>\n",
       "      <td>1.0</td>\n",
       "      <td>0.0</td>\n",
       "      <td>0.0</td>\n",
       "      <td>0.0</td>\n",
       "      <td>...</td>\n",
       "      <td>0.0</td>\n",
       "      <td>0.0</td>\n",
       "      <td>0.0</td>\n",
       "      <td>1.0</td>\n",
       "      <td>1.0</td>\n",
       "      <td>0.0</td>\n",
       "      <td>0.0</td>\n",
       "      <td>0.0</td>\n",
       "      <td>1.0</td>\n",
       "      <td>0.0</td>\n",
       "    </tr>\n",
       "    <tr>\n",
       "      <th>...</th>\n",
       "      <td>...</td>\n",
       "      <td>...</td>\n",
       "      <td>...</td>\n",
       "      <td>...</td>\n",
       "      <td>...</td>\n",
       "      <td>...</td>\n",
       "      <td>...</td>\n",
       "      <td>...</td>\n",
       "      <td>...</td>\n",
       "      <td>...</td>\n",
       "      <td>...</td>\n",
       "      <td>...</td>\n",
       "      <td>...</td>\n",
       "      <td>...</td>\n",
       "      <td>...</td>\n",
       "      <td>...</td>\n",
       "      <td>...</td>\n",
       "      <td>...</td>\n",
       "      <td>...</td>\n",
       "      <td>...</td>\n",
       "      <td>...</td>\n",
       "    </tr>\n",
       "    <tr>\n",
       "      <th>13388</th>\n",
       "      <td>M</td>\n",
       "      <td>C</td>\n",
       "      <td>0</td>\n",
       "      <td>2</td>\n",
       "      <td>2</td>\n",
       "      <td>1.0</td>\n",
       "      <td>0.0</td>\n",
       "      <td>0.0</td>\n",
       "      <td>0.0</td>\n",
       "      <td>0.0</td>\n",
       "      <td>...</td>\n",
       "      <td>1.0</td>\n",
       "      <td>0.0</td>\n",
       "      <td>0.0</td>\n",
       "      <td>1.0</td>\n",
       "      <td>1.0</td>\n",
       "      <td>0.0</td>\n",
       "      <td>0.0</td>\n",
       "      <td>0.0</td>\n",
       "      <td>1.0</td>\n",
       "      <td>0.0</td>\n",
       "    </tr>\n",
       "    <tr>\n",
       "      <th>13389</th>\n",
       "      <td>M</td>\n",
       "      <td>D</td>\n",
       "      <td>0</td>\n",
       "      <td>1</td>\n",
       "      <td>2</td>\n",
       "      <td>1.0</td>\n",
       "      <td>0.0</td>\n",
       "      <td>0.0</td>\n",
       "      <td>0.0</td>\n",
       "      <td>0.0</td>\n",
       "      <td>...</td>\n",
       "      <td>1.0</td>\n",
       "      <td>0.0</td>\n",
       "      <td>0.0</td>\n",
       "      <td>1.0</td>\n",
       "      <td>1.0</td>\n",
       "      <td>0.0</td>\n",
       "      <td>0.0</td>\n",
       "      <td>1.0</td>\n",
       "      <td>0.0</td>\n",
       "      <td>0.0</td>\n",
       "    </tr>\n",
       "    <tr>\n",
       "      <th>13390</th>\n",
       "      <td>M</td>\n",
       "      <td>A</td>\n",
       "      <td>0</td>\n",
       "      <td>2</td>\n",
       "      <td>2</td>\n",
       "      <td>0.0</td>\n",
       "      <td>0.0</td>\n",
       "      <td>1.0</td>\n",
       "      <td>0.0</td>\n",
       "      <td>0.0</td>\n",
       "      <td>...</td>\n",
       "      <td>1.0</td>\n",
       "      <td>0.0</td>\n",
       "      <td>0.0</td>\n",
       "      <td>1.0</td>\n",
       "      <td>1.0</td>\n",
       "      <td>0.0</td>\n",
       "      <td>0.0</td>\n",
       "      <td>0.0</td>\n",
       "      <td>0.0</td>\n",
       "      <td>1.0</td>\n",
       "    </tr>\n",
       "    <tr>\n",
       "      <th>13391</th>\n",
       "      <td>F</td>\n",
       "      <td>D</td>\n",
       "      <td>0</td>\n",
       "      <td>1</td>\n",
       "      <td>0</td>\n",
       "      <td>0.0</td>\n",
       "      <td>0.0</td>\n",
       "      <td>0.0</td>\n",
       "      <td>1.0</td>\n",
       "      <td>1.0</td>\n",
       "      <td>...</td>\n",
       "      <td>0.0</td>\n",
       "      <td>0.0</td>\n",
       "      <td>0.0</td>\n",
       "      <td>1.0</td>\n",
       "      <td>1.0</td>\n",
       "      <td>0.0</td>\n",
       "      <td>1.0</td>\n",
       "      <td>0.0</td>\n",
       "      <td>0.0</td>\n",
       "      <td>0.0</td>\n",
       "    </tr>\n",
       "    <tr>\n",
       "      <th>13392</th>\n",
       "      <td>M</td>\n",
       "      <td>C</td>\n",
       "      <td>0</td>\n",
       "      <td>3</td>\n",
       "      <td>3</td>\n",
       "      <td>0.0</td>\n",
       "      <td>0.0</td>\n",
       "      <td>1.0</td>\n",
       "      <td>0.0</td>\n",
       "      <td>0.0</td>\n",
       "      <td>...</td>\n",
       "      <td>0.0</td>\n",
       "      <td>1.0</td>\n",
       "      <td>0.0</td>\n",
       "      <td>1.0</td>\n",
       "      <td>1.0</td>\n",
       "      <td>0.0</td>\n",
       "      <td>0.0</td>\n",
       "      <td>1.0</td>\n",
       "      <td>0.0</td>\n",
       "      <td>0.0</td>\n",
       "    </tr>\n",
       "  </tbody>\n",
       "</table>\n",
       "<p>13393 rows × 28 columns</p>\n",
       "</div>"
      ],
      "text/plain": [
       "      gender class  weight_category  systolic_category  sit_ups_category  \\\n",
       "0          M     C                0                  1                 3   \n",
       "1          M     A                0                  1                 3   \n",
       "2          M     C                0                  3                 2   \n",
       "3          M     B                0                  3                 3   \n",
       "4          M     B                0                  1                 2   \n",
       "...      ...   ...              ...                ...               ...   \n",
       "13388      M     C                0                  2                 2   \n",
       "13389      M     D                0                  1                 2   \n",
       "13390      M     A                0                  2                 2   \n",
       "13391      F     D                0                  1                 0   \n",
       "13392      M     C                0                  3                 3   \n",
       "\n",
       "       age_category_0  age_category_1  age_category_2  age_category_3  \\\n",
       "0                 0.0             1.0             0.0             0.0   \n",
       "1                 1.0             0.0             0.0             0.0   \n",
       "2                 0.0             1.0             0.0             0.0   \n",
       "3                 0.0             1.0             0.0             0.0   \n",
       "4                 0.0             1.0             0.0             0.0   \n",
       "...               ...             ...             ...             ...   \n",
       "13388             1.0             0.0             0.0             0.0   \n",
       "13389             1.0             0.0             0.0             0.0   \n",
       "13390             0.0             0.0             1.0             0.0   \n",
       "13391             0.0             0.0             0.0             1.0   \n",
       "13392             0.0             0.0             1.0             0.0   \n",
       "\n",
       "       height_category_0  ...  dialistic_category_1  dialistic_category_2  \\\n",
       "0                    0.0  ...                   0.0                   1.0   \n",
       "1                    0.0  ...                   1.0                   0.0   \n",
       "2                    0.0  ...                   0.0                   0.0   \n",
       "3                    0.0  ...                   1.0                   0.0   \n",
       "4                    0.0  ...                   0.0                   0.0   \n",
       "...                  ...  ...                   ...                   ...   \n",
       "13388                0.0  ...                   1.0                   0.0   \n",
       "13389                0.0  ...                   1.0                   0.0   \n",
       "13390                0.0  ...                   1.0                   0.0   \n",
       "13391                1.0  ...                   0.0                   0.0   \n",
       "13392                0.0  ...                   0.0                   1.0   \n",
       "\n",
       "       dialistic_category_3  gripforce_category_0  sit_bend_category_0  \\\n",
       "0                       0.0                   1.0                  1.0   \n",
       "1                       0.0                   1.0                  1.0   \n",
       "2                       1.0                   1.0                  1.0   \n",
       "3                       0.0                   1.0                  1.0   \n",
       "4                       0.0                   1.0                  1.0   \n",
       "...                     ...                   ...                  ...   \n",
       "13388                   0.0                   1.0                  1.0   \n",
       "13389                   0.0                   1.0                  1.0   \n",
       "13390                   0.0                   1.0                  1.0   \n",
       "13391                   0.0                   1.0                  1.0   \n",
       "13392                   0.0                   1.0                  1.0   \n",
       "\n",
       "       sit_bend_category_1  jump_broad_category_0  jump_broad_category_1  \\\n",
       "0                      0.0                    0.0                    0.0   \n",
       "1                      0.0                    0.0                    0.0   \n",
       "2                      0.0                    0.0                    1.0   \n",
       "3                      0.0                    0.0                    0.0   \n",
       "4                      0.0                    0.0                    0.0   \n",
       "...                    ...                    ...                    ...   \n",
       "13388                  0.0                    0.0                    0.0   \n",
       "13389                  0.0                    0.0                    1.0   \n",
       "13390                  0.0                    0.0                    0.0   \n",
       "13391                  0.0                    1.0                    0.0   \n",
       "13392                  0.0                    0.0                    1.0   \n",
       "\n",
       "       jump_broad_category_2  jump_broad_category_3  \n",
       "0                        1.0                    0.0  \n",
       "1                        0.0                    1.0  \n",
       "2                        0.0                    0.0  \n",
       "3                        1.0                    0.0  \n",
       "4                        1.0                    0.0  \n",
       "...                      ...                    ...  \n",
       "13388                    1.0                    0.0  \n",
       "13389                    0.0                    0.0  \n",
       "13390                    0.0                    1.0  \n",
       "13391                    0.0                    0.0  \n",
       "13392                    0.0                    0.0  \n",
       "\n",
       "[13393 rows x 28 columns]"
      ]
     },
     "execution_count": 65,
     "metadata": {},
     "output_type": "execute_result"
    }
   ],
   "source": [
    "# Удаляем количественные признаки, которые преобразовали в категориальные.\n",
    "df.drop(['age', 'height_cm', 'weight_kg', 'body fat_%', 'diastolic', 'systolic', 'gripForce', \n",
    "         'sit and bend forward_cm', 'sit-ups counts', 'broad jump_cm'], axis = 1, inplace = True)\n",
    "\n",
    "# Удаляем категориальные признаки, которые закодировали.\n",
    "df.drop(categorial, axis = 1, inplace = True)\n",
    "\n",
    "df"
   ]
  },
  {
   "cell_type": "code",
   "execution_count": 66,
   "id": "867cb15e",
   "metadata": {},
   "outputs": [],
   "source": [
    "df['gender'].replace(['F', 'M'], [0, 1], inplace = True)\n",
    "df['class'].replace(['A', 'B', 'C', 'D'], [0, 1, 2, 3], inplace = True)"
   ]
  },
  {
   "cell_type": "code",
   "execution_count": null,
   "id": "70d5d27b",
   "metadata": {},
   "outputs": [],
   "source": []
  }
 ],
 "metadata": {
  "kernelspec": {
   "display_name": "Python 3 (ipykernel)",
   "language": "python",
   "name": "python3"
  },
  "language_info": {
   "codemirror_mode": {
    "name": "ipython",
    "version": 3
   },
   "file_extension": ".py",
   "mimetype": "text/x-python",
   "name": "python",
   "nbconvert_exporter": "python",
   "pygments_lexer": "ipython3",
   "version": "3.8.5"
  }
 },
 "nbformat": 4,
 "nbformat_minor": 5
}
