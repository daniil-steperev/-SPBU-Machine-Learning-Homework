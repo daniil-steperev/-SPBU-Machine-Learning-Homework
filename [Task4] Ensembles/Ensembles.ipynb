{
 "cells": [
  {
   "cell_type": "markdown",
   "id": "ec561bc8",
   "metadata": {},
   "source": [
    "## Задача 4 Ансамбли\n",
    "\n",
    "**Автор**: Степырев Даниил Федорович\n",
    "\n",
    "**Группа**: 22.М05\n",
    "\n",
    "**Выполненные задачи**:\n",
    "- [✓] Найти данные размера хотя бы 10000, на которых можно решить задачу классификации или регрессии.\n",
    "- [✓] Выполнить разведочный анализ (**EDA**). При необходимости выполнить полезные преобразования данных.\n",
    "- [✓] Самостоятельно реализуйте алгоритмы **Bagging** и **AdaBoost**, которые позволят обучить ансамбли каких-то простых моделей, например деревьев принятия решений.\n",
    "- [✓] Обучите ансамбли для каких-то простых моделей, используя свои две реализации, а также реализации из **sklearn** (**Bagging**, **Random Forest**, **AdaBoost**, **Gradient Tree Boosting**, **Histogram-Based Gradient Boosting**).\n",
    "- [✓] При обучении использовать **подбор гиперпараметров**, **кросс-валидацию**.\n",
    "- [✓] Сравнить качество моделей: замерить скорость обучения, вычислить различные метрики качества, построить матрицы ошибок.\n",
    "- [✓] * (**+2 балла**) Также добавить в сравнение модели из библиотек **XGBoost**, **LightGBM** и **CatBoost**.\n",
    "- [✓] * (**+3 балла**) Для подбора гиперпараметров использовать фреймворк **Optuna**.\n",
    "\n",
    "### Данные, на которых решается задача\n",
    "\n",
    "В задаче используется датасет, содержащий информацию о задержках самолётов. Размер датасета --- 539382.\n",
    "\n",
    "Описание датасета:\n",
    "\n",
    "- **Flight** --- номер полёта;\n",
    "\n",
    "- **Time** --- планируемое время вылета;\n",
    "\n",
    "- **Length** --- продолжительность задержки;\n",
    "\n",
    "- **Airline** --- компания-перевозчик;\n",
    "\n",
    "- **AirportFrom** --- аэропорт, откуда самолёт вылетает;\n",
    "\n",
    "- **AirportTo** --- аэропорт назначения;\n",
    "\n",
    "- **DayOfWeek** --- день недели, в который произовдился вылет;\n",
    "\n",
    "- **Class** --- класс перелёта.\n",
    "\n",
    "Целевой признак --- **class**.\n",
    "\n",
    "### Считывание данных\n",
    "\n",
    "Подключаем использумые библиотеки:"
   ]
  },
  {
   "cell_type": "code",
   "execution_count": 1,
   "id": "396140ab",
   "metadata": {},
   "outputs": [],
   "source": [
    "import numpy as np \n",
    "import pandas as pd\n",
    "import matplotlib.pyplot as plt\n",
    "%matplotlib inline\n",
    "import seaborn as sns\n",
    "\n",
    "# устанавливаем точность чисел с плавающей точкой\n",
    "%precision %.4f\n",
    "\n",
    "import warnings\n",
    "warnings.filterwarnings('ignore')  # отключаем предупреждения"
   ]
  },
  {
   "cell_type": "markdown",
   "id": "d7d8fe01",
   "metadata": {},
   "source": [
    "Считыванием обучающую выборку:"
   ]
  },
  {
   "cell_type": "code",
   "execution_count": 2,
   "id": "151af384",
   "metadata": {},
   "outputs": [
    {
     "data": {
      "text/html": [
       "<div>\n",
       "<style scoped>\n",
       "    .dataframe tbody tr th:only-of-type {\n",
       "        vertical-align: middle;\n",
       "    }\n",
       "\n",
       "    .dataframe tbody tr th {\n",
       "        vertical-align: top;\n",
       "    }\n",
       "\n",
       "    .dataframe thead th {\n",
       "        text-align: right;\n",
       "    }\n",
       "</style>\n",
       "<table border=\"1\" class=\"dataframe\">\n",
       "  <thead>\n",
       "    <tr style=\"text-align: right;\">\n",
       "      <th></th>\n",
       "      <th>Flight</th>\n",
       "      <th>Time</th>\n",
       "      <th>Length</th>\n",
       "      <th>Airline</th>\n",
       "      <th>AirportFrom</th>\n",
       "      <th>AirportTo</th>\n",
       "      <th>DayOfWeek</th>\n",
       "      <th>Class</th>\n",
       "    </tr>\n",
       "  </thead>\n",
       "  <tbody>\n",
       "    <tr>\n",
       "      <th>0</th>\n",
       "      <td>2313.0</td>\n",
       "      <td>1296.0</td>\n",
       "      <td>141.0</td>\n",
       "      <td>DL</td>\n",
       "      <td>ATL</td>\n",
       "      <td>HOU</td>\n",
       "      <td>1</td>\n",
       "      <td>0</td>\n",
       "    </tr>\n",
       "    <tr>\n",
       "      <th>1</th>\n",
       "      <td>6948.0</td>\n",
       "      <td>360.0</td>\n",
       "      <td>146.0</td>\n",
       "      <td>OO</td>\n",
       "      <td>COS</td>\n",
       "      <td>ORD</td>\n",
       "      <td>4</td>\n",
       "      <td>0</td>\n",
       "    </tr>\n",
       "    <tr>\n",
       "      <th>2</th>\n",
       "      <td>1247.0</td>\n",
       "      <td>1170.0</td>\n",
       "      <td>143.0</td>\n",
       "      <td>B6</td>\n",
       "      <td>BOS</td>\n",
       "      <td>CLT</td>\n",
       "      <td>3</td>\n",
       "      <td>0</td>\n",
       "    </tr>\n",
       "    <tr>\n",
       "      <th>3</th>\n",
       "      <td>31.0</td>\n",
       "      <td>1410.0</td>\n",
       "      <td>344.0</td>\n",
       "      <td>US</td>\n",
       "      <td>OGG</td>\n",
       "      <td>PHX</td>\n",
       "      <td>6</td>\n",
       "      <td>0</td>\n",
       "    </tr>\n",
       "    <tr>\n",
       "      <th>4</th>\n",
       "      <td>563.0</td>\n",
       "      <td>692.0</td>\n",
       "      <td>98.0</td>\n",
       "      <td>FL</td>\n",
       "      <td>BMI</td>\n",
       "      <td>ATL</td>\n",
       "      <td>4</td>\n",
       "      <td>0</td>\n",
       "    </tr>\n",
       "  </tbody>\n",
       "</table>\n",
       "</div>"
      ],
      "text/plain": [
       "   Flight    Time  Length Airline AirportFrom AirportTo  DayOfWeek  Class\n",
       "0  2313.0  1296.0   141.0      DL         ATL       HOU          1      0\n",
       "1  6948.0   360.0   146.0      OO         COS       ORD          4      0\n",
       "2  1247.0  1170.0   143.0      B6         BOS       CLT          3      0\n",
       "3    31.0  1410.0   344.0      US         OGG       PHX          6      0\n",
       "4   563.0   692.0    98.0      FL         BMI       ATL          4      0"
      ]
     },
     "execution_count": 2,
     "metadata": {},
     "output_type": "execute_result"
    }
   ],
   "source": [
    "df = pd.read_csv('Dataset/airlines_delay.csv')\n",
    "df.head()"
   ]
  },
  {
   "cell_type": "markdown",
   "id": "7f9d7ccd",
   "metadata": {},
   "source": [
    "Общее количество пропущенных значений:"
   ]
  },
  {
   "cell_type": "code",
   "execution_count": 3,
   "id": "e81920e8",
   "metadata": {},
   "outputs": [
    {
     "data": {
      "text/plain": [
       "Flight         0\n",
       "Time           0\n",
       "Length         0\n",
       "Airline        0\n",
       "AirportFrom    0\n",
       "AirportTo      0\n",
       "DayOfWeek      0\n",
       "Class          0\n",
       "dtype: int64"
      ]
     },
     "execution_count": 3,
     "metadata": {},
     "output_type": "execute_result"
    }
   ],
   "source": [
    "df.isnull().sum()"
   ]
  },
  {
   "cell_type": "markdown",
   "id": "5578439f",
   "metadata": {},
   "source": [
    "## Разведочный анализ (EDA)\n",
    "\n",
    "Рассмотрим, сколько значений принимает целевой признак **class**:"
   ]
  },
  {
   "cell_type": "code",
   "execution_count": 4,
   "id": "72533701",
   "metadata": {},
   "outputs": [
    {
     "data": {
      "text/plain": [
       "0    299118\n",
       "1    240264\n",
       "Name: Class, dtype: int64"
      ]
     },
     "execution_count": 4,
     "metadata": {},
     "output_type": "execute_result"
    }
   ],
   "source": [
    "df['Class'].value_counts()"
   ]
  },
  {
   "cell_type": "markdown",
   "id": "667fb14b",
   "metadata": {},
   "source": [
    "Построим график:"
   ]
  },
  {
   "cell_type": "code",
   "execution_count": 5,
   "id": "ab295cc7",
   "metadata": {},
   "outputs": [
    {
     "data": {
      "image/png": "[encoded data removed]",
      "text/plain": [
       "<Figure size 640x480 with 1 Axes>"
      ]
     },
     "metadata": {},
     "output_type": "display_data"
    }
   ],
   "source": [
    "sns.countplot(x=\"Class\", data=df)\n",
    "plt.show()"
   ]
  },
  {
   "cell_type": "markdown",
   "id": "7e1a6124",
   "metadata": {},
   "source": [
    "Видим, что в датасете большее число задержек происходило для 0 класса полёта.\n",
    "\n",
    "Введём дополнительные функции для удобного отображения графиков:"
   ]
  },
  {
   "cell_type": "code",
   "execution_count": 6,
   "id": "296016d7",
   "metadata": {},
   "outputs": [],
   "source": [
    "def show_class_crosstab(x_param, x_param_name = \"\", figsize_number = 20):\n",
    "    pd.crosstab(df[x_param], df['Сlass']).plot(kind=\"bar\", figsize=(figsize_number, 6))\n",
    "    plt.xlabel(x_param_name)\n",
    "    plt.ylabel('Число задержек в классе')\n",
    "    plt.show()\n",
    "    \n",
    "def show_barplot(x_param_name):\n",
    "    plt.figure(figsize=(20,5))\n",
    "    plt.grid(axis=\"x\")\n",
    "    plt.xticks(rotation = 90)\n",
    "    plt.title('Принадлежность к классу относительно признака ' + x_param_name, fontsize = 20)\n",
    "    plt.xlabel(x_param_name, fontsize= 15)\n",
    "    plt.ylabel('Class', fontsize= 15)\n",
    "    sns.barplot(x = df[x_param_name], y = df['Class'])\n",
    "    plt.show()"
   ]
  },
  {
   "cell_type": "markdown",
   "id": "7dfdd884",
   "metadata": {},
   "source": [
    "### Количественный признак Flight\n",
    "\n",
    "Выясним, какие значения принимает признак **Flight** в датасете:"
   ]
  },
  {
   "cell_type": "code",
   "execution_count": 7,
   "id": "3a5a74ef",
   "metadata": {},
   "outputs": [
    {
     "data": {
      "text/plain": [
       "count    539382.000000\n",
       "mean       2427.927988\n",
       "std        2067.431700\n",
       "min           1.000000\n",
       "25%         712.000000\n",
       "50%        1809.000000\n",
       "75%        3745.000000\n",
       "max        7814.000000\n",
       "Name: Flight, dtype: float64"
      ]
     },
     "execution_count": 7,
     "metadata": {},
     "output_type": "execute_result"
    }
   ],
   "source": [
    "df['Flight'].describe()"
   ]
  },
  {
   "cell_type": "markdown",
   "id": "35a8594d",
   "metadata": {},
   "source": [
    "Видим, что в датасете этот признак принимает значения от 1 до 7814.\n",
    "\n",
    "Выясним число уникальных значений:"
   ]
  },
  {
   "cell_type": "code",
   "execution_count": 8,
   "id": "50f334b5",
   "metadata": {},
   "outputs": [
    {
     "data": {
      "text/plain": [
       "6585"
      ]
     },
     "execution_count": 8,
     "metadata": {},
     "output_type": "execute_result"
    }
   ],
   "source": [
    "df['Flight'].unique().size"
   ]
  },
  {
   "cell_type": "markdown",
   "id": "4240570b",
   "metadata": {},
   "source": [
    "Видим, что признак **Flight** принимает больше число уникальных значений. Запомним это.\n",
    "\n",
    "### Количественный признак Time\n",
    "\n",
    "Выясним, какие значения принимает признак **Time** в датасете:"
   ]
  },
  {
   "cell_type": "code",
   "execution_count": 9,
   "id": "745fdf28",
   "metadata": {},
   "outputs": [
    {
     "data": {
      "text/plain": [
       "count    539382.000000\n",
       "mean        802.728161\n",
       "std         278.045546\n",
       "min          10.000000\n",
       "25%         565.000000\n",
       "50%         795.000000\n",
       "75%        1035.000000\n",
       "max        1439.000000\n",
       "Name: Time, dtype: float64"
      ]
     },
     "execution_count": 9,
     "metadata": {},
     "output_type": "execute_result"
    }
   ],
   "source": [
    "df['Time'].describe()"
   ]
  },
  {
   "cell_type": "markdown",
   "id": "42202214",
   "metadata": {},
   "source": [
    "Видим, что самый ранний вылет с задержкой производился в значение 10, а самый поздний в 1439. Среднее значения время вылета с задержкой --- 803.\n",
    "\n",
    "Посмотрим, какое среднее время вылета с задержкой для полётов разных классов:"
   ]
  },
  {
   "cell_type": "code",
   "execution_count": 10,
   "id": "2eed25a0",
   "metadata": {},
   "outputs": [
    {
     "data": {
      "text/plain": [
       "Class\n",
       "0    765.235138\n",
       "1    849.405308\n",
       "Name: Time, dtype: float64"
      ]
     },
     "execution_count": 10,
     "metadata": {},
     "output_type": "execute_result"
    }
   ],
   "source": [
    "df.groupby('Class').mean()[\"Time\"]"
   ]
  },
  {
   "cell_type": "code",
   "execution_count": 11,
   "id": "cda73b7e",
   "metadata": {},
   "outputs": [
    {
     "data": {
      "text/plain": [
       "<Axes: xlabel='Class'>"
      ]
     },
     "execution_count": 11,
     "metadata": {},
     "output_type": "execute_result"
    },
    {
     "data": {
      "image/png": "[encoded data removed]",
      "text/plain": [
       "<Figure size 640x480 with 1 Axes>"
      ]
     },
     "metadata": {},
     "output_type": "display_data"
    }
   ],
   "source": [
    "df.groupby('Class').mean()[\"Time\"].plot.bar()"
   ]
  },
  {
   "cell_type": "markdown",
   "id": "2f50ed81",
   "metadata": {},
   "source": [
    "Видим, что для 0 класса среднее время вылета с задержкой составляло 765, а для класса 1 --- 849.\n",
    "\n",
    "\n",
    "### Количественный признак Length\n",
    "\n",
    "Выясним, какие значения принимает признак **Length** в датасете:"
   ]
  },
  {
   "cell_type": "code",
   "execution_count": 12,
   "id": "237d06c0",
   "metadata": {},
   "outputs": [
    {
     "data": {
      "text/plain": [
       "count    539382.000000\n",
       "mean        132.202104\n",
       "std          70.117045\n",
       "min           0.000000\n",
       "25%          81.000000\n",
       "50%         115.000000\n",
       "75%         162.000000\n",
       "max         655.000000\n",
       "Name: Length, dtype: float64"
      ]
     },
     "execution_count": 12,
     "metadata": {},
     "output_type": "execute_result"
    }
   ],
   "source": [
    "df['Length'].describe()"
   ]
  },
  {
   "cell_type": "markdown",
   "id": "d2acab0d",
   "metadata": {},
   "source": [
    "Видим, что минимальное время задержки составляло 0 минут, а максимальное значени --- 655 минут. Среднее значение задержки вылета --- 132 минуты.\n",
    "\n",
    "Посмотрим, какое среднее время задержки вылета для полётов разных классов:"
   ]
  },
  {
   "cell_type": "code",
   "execution_count": 13,
   "id": "73796f6a",
   "metadata": {},
   "outputs": [
    {
     "data": {
      "text/plain": [
       "Class\n",
       "0    129.657760\n",
       "1    135.369697\n",
       "Name: Length, dtype: float64"
      ]
     },
     "execution_count": 13,
     "metadata": {},
     "output_type": "execute_result"
    }
   ],
   "source": [
    "df.groupby('Class').mean()[\"Length\"]"
   ]
  },
  {
   "cell_type": "code",
   "execution_count": 14,
   "id": "5fbb3914",
   "metadata": {},
   "outputs": [
    {
     "data": {
      "text/plain": [
       "<Axes: xlabel='Class'>"
      ]
     },
     "execution_count": 14,
     "metadata": {},
     "output_type": "execute_result"
    },
    {
     "data": {
      "image/png": "[encoded data removed]",
      "text/plain": [
       "<Figure size 640x480 with 1 Axes>"
      ]
     },
     "metadata": {},
     "output_type": "display_data"
    }
   ],
   "source": [
    "df.groupby('Class').mean()[\"Length\"].plot.bar()"
   ]
  },
  {
   "cell_type": "markdown",
   "id": "cf82fc38",
   "metadata": {},
   "source": [
    "Видим, что для 0 класса это значение составляет 130 минут, а для 1 класса --- 135 минут.\n",
    "\n",
    "### Категориальный признак Airline\n",
    "\n",
    "Выясним, какие значения принимает признак **Airline** в датасете:"
   ]
  },
  {
   "cell_type": "code",
   "execution_count": 15,
   "id": "9023bdbb",
   "metadata": {},
   "outputs": [
    {
     "data": {
      "text/plain": [
       "count     539382\n",
       "unique        18\n",
       "top           WN\n",
       "freq       94097\n",
       "Name: Airline, dtype: object"
      ]
     },
     "execution_count": 15,
     "metadata": {},
     "output_type": "execute_result"
    }
   ],
   "source": [
    "df['Airline'].describe()"
   ]
  },
  {
   "cell_type": "markdown",
   "id": "da1359e8",
   "metadata": {},
   "source": [
    "Видим, что в датасете значение признака **Airline** принимает 18 уникальных значений.\n",
    "\n",
    "Построим график:"
   ]
  },
  {
   "cell_type": "code",
   "execution_count": 16,
   "id": "eb635f53",
   "metadata": {},
   "outputs": [
    {
     "data": {
      "image/png": "[encoded data removed]",
      "text/plain": [
       "<Figure size 640x480 with 1 Axes>"
      ]
     },
     "metadata": {},
     "output_type": "display_data"
    }
   ],
   "source": [
    "sns.countplot(x=\"Airline\", data=df)\n",
    "plt.show()"
   ]
  },
  {
   "cell_type": "markdown",
   "id": "8001f1c3",
   "metadata": {},
   "source": [
    "Видим, что в большего всего перелётов компании WN, а меньше всего --- компании HA.\n",
    "\n",
    "Построим график принадлежности к классу относительно компании:"
   ]
  },
  {
   "cell_type": "code",
   "execution_count": 17,
   "id": "602882b9",
   "metadata": {},
   "outputs": [
    {
     "data": {
      "image/png": "[encoded data removed]",
      "text/plain": [
       "<Figure size 2000x500 with 1 Axes>"
      ]
     },
     "metadata": {},
     "output_type": "display_data"
    }
   ],
   "source": [
    "show_barplot(\"Airline\")"
   ]
  },
  {
   "cell_type": "markdown",
   "id": "ca1129bb",
   "metadata": {},
   "source": [
    "Посмотрим, к каким классам относятся различные компании:"
   ]
  },
  {
   "cell_type": "code",
   "execution_count": 18,
   "id": "92851837",
   "metadata": {},
   "outputs": [
    {
     "data": {
      "text/plain": [
       "Airline\n",
       "9E    0.397660\n",
       "AA    0.388470\n",
       "AS    0.339290\n",
       "B6    0.467038\n",
       "CO    0.566199\n",
       "DL    0.450476\n",
       "EV    0.402208\n",
       "F9    0.449040\n",
       "FL    0.301292\n",
       "HA    0.320186\n",
       "MQ    0.348104\n",
       "OH    0.277276\n",
       "OO    0.452899\n",
       "UA    0.323907\n",
       "US    0.335971\n",
       "WN    0.697759\n",
       "XE    0.378944\n",
       "YV    0.242914\n",
       "Name: Class, dtype: float64"
      ]
     },
     "execution_count": 18,
     "metadata": {},
     "output_type": "execute_result"
    }
   ],
   "source": [
    "df.groupby('Airline').mean()[\"Class\"]"
   ]
  },
  {
   "cell_type": "code",
   "execution_count": 19,
   "id": "161e1107",
   "metadata": {},
   "outputs": [
    {
     "data": {
      "text/plain": [
       "<Axes: xlabel='Airline'>"
      ]
     },
     "execution_count": 19,
     "metadata": {},
     "output_type": "execute_result"
    },
    {
     "data": {
      "image/png": "[encoded data removed]",
      "text/plain": [
       "<Figure size 640x480 with 1 Axes>"
      ]
     },
     "metadata": {},
     "output_type": "display_data"
    }
   ],
   "source": [
    "df.groupby('Airline').mean()[\"Class\"].plot.bar()"
   ]
  },
  {
   "cell_type": "markdown",
   "id": "157e8444",
   "metadata": {},
   "source": [
    "### Категориальный признак AirportFrom\n",
    "\n",
    "Выясним, какие значения принимает признак **AirportFrom** в датасете:"
   ]
  },
  {
   "cell_type": "code",
   "execution_count": 20,
   "id": "0078fad7",
   "metadata": {},
   "outputs": [
    {
     "data": {
      "text/plain": [
       "count     539382\n",
       "unique       293\n",
       "top          ATL\n",
       "freq       34449\n",
       "Name: AirportFrom, dtype: object"
      ]
     },
     "execution_count": 20,
     "metadata": {},
     "output_type": "execute_result"
    }
   ],
   "source": [
    "df['AirportFrom'].describe()"
   ]
  },
  {
   "cell_type": "markdown",
   "id": "6f41361e",
   "metadata": {},
   "source": [
    "Видим, что признак **AirportFrom** принимает большое число уникальных значений. Чаще всего в качестве аэропорта вылета встречается ATL.\n",
    "\n",
    "### Категориальный признак AirportTo\n",
    "\n",
    "Выясним, какие значения принимает признак **AirportTo** в датасете:"
   ]
  },
  {
   "cell_type": "code",
   "execution_count": 21,
   "id": "f1ae6ea3",
   "metadata": {},
   "outputs": [
    {
     "data": {
      "text/plain": [
       "count     539382\n",
       "unique       293\n",
       "top          ATL\n",
       "freq       34440\n",
       "Name: AirportTo, dtype: object"
      ]
     },
     "execution_count": 21,
     "metadata": {},
     "output_type": "execute_result"
    }
   ],
   "source": [
    "df['AirportTo'].describe()"
   ]
  },
  {
   "cell_type": "markdown",
   "id": "4ef790df",
   "metadata": {},
   "source": [
    "Видим, что признак **AirportFrom** принимает большое число уникальных значений. Чаще всего в качестве аэропорта прилёта встречается ATL.\n",
    "\n",
    "### Категориальный признак DayOfWeek\n",
    "\n",
    "Выясним, какие значения принимает признак **DayOfWeek** в датасете:"
   ]
  },
  {
   "cell_type": "code",
   "execution_count": 22,
   "id": "e3cf1ddd",
   "metadata": {},
   "outputs": [
    {
     "data": {
      "text/plain": [
       "count    539382.000000\n",
       "mean          3.929666\n",
       "std           1.914666\n",
       "min           1.000000\n",
       "25%           2.000000\n",
       "50%           4.000000\n",
       "75%           5.000000\n",
       "max           7.000000\n",
       "Name: DayOfWeek, dtype: float64"
      ]
     },
     "execution_count": 22,
     "metadata": {},
     "output_type": "execute_result"
    }
   ],
   "source": [
    "df['DayOfWeek'].describe()"
   ]
  },
  {
   "cell_type": "markdown",
   "id": "7117d522",
   "metadata": {},
   "source": [
    "Видим, что признак **DayOfWeek** принимает значения от 1 до 7. Чаще всего задержки авиаперелётов происходили в 4 день.\n",
    "\n",
    "Построим график:"
   ]
  },
  {
   "cell_type": "code",
   "execution_count": 23,
   "id": "3763cb4e",
   "metadata": {},
   "outputs": [
    {
     "data": {
      "image/png": "[encoded data removed]",
      "text/plain": [
       "<Figure size 640x480 with 1 Axes>"
      ]
     },
     "metadata": {},
     "output_type": "display_data"
    }
   ],
   "source": [
    "sns.countplot(x=\"DayOfWeek\", data=df)\n",
    "plt.show()"
   ]
  },
  {
   "cell_type": "markdown",
   "id": "bbfd5bb2",
   "metadata": {},
   "source": [
    "Из графика также видно, что задержки авиаперелётов чаще происходили в третий и четвёртый день недели, а реже всего --- в шестой день.\n",
    "\n",
    "Выясним среднее значение классов для различных дней недели:"
   ]
  },
  {
   "cell_type": "code",
   "execution_count": 24,
   "id": "d09c80c5",
   "metadata": {},
   "outputs": [
    {
     "data": {
      "text/plain": [
       "DayOfWeek\n",
       "1    0.467644\n",
       "2    0.447337\n",
       "3    0.470818\n",
       "4    0.451025\n",
       "5    0.416613\n",
       "6    0.400553\n",
       "7    0.453541\n",
       "Name: Class, dtype: float64"
      ]
     },
     "execution_count": 24,
     "metadata": {},
     "output_type": "execute_result"
    }
   ],
   "source": [
    "df.groupby('DayOfWeek').mean()[\"Class\"]"
   ]
  },
  {
   "cell_type": "markdown",
   "id": "75da0330",
   "metadata": {},
   "source": [
    "Видим, что для всех дней недели преобладает 0 класс."
   ]
  },
  {
   "cell_type": "code",
   "execution_count": 25,
   "id": "c0438bf5",
   "metadata": {},
   "outputs": [
    {
     "data": {
      "text/plain": [
       "<Axes: xlabel='DayOfWeek'>"
      ]
     },
     "execution_count": 25,
     "metadata": {},
     "output_type": "execute_result"
    },
    {
     "data": {
      "image/png": "[encoded data removed]",
      "text/plain": [
       "<Figure size 640x480 with 1 Axes>"
      ]
     },
     "metadata": {},
     "output_type": "display_data"
    }
   ],
   "source": [
    "df.groupby('DayOfWeek').mean()[\"Class\"].plot.bar()"
   ]
  },
  {
   "cell_type": "markdown",
   "id": "5fd51455",
   "metadata": {},
   "source": [
    "## Выводы\n",
    "\n",
    "- **Flight** --- принимает значения от 1 до 7814. Признак имеет большое число уникальных значений;\n",
    "\n",
    "- **Time** --- cамый ранний вылет с задержкой производился в значение 10, а самый поздний в 1439. Среднее значения время вылета с задержкой --- 803. Для 0 класса среднее время вылета с задержкой составляло 765, а для класса 1 --- 849;\n",
    "\n",
    "- **Length** --- минимальное время задержки составляло 0 минут, а максимальное значени --- 655 минут. Среднее значение задержки вылета --- 132 минуты. Для 0 класса среднее значение задержки составляет 130 минут, а для 1 класса --- 135 минут;\n",
    "\n",
    "- **Airline** --- большего всего перелётов компании WN, а меньше всего --- компании HA;\n",
    "\n",
    "- **AirportFrom** --- чаще всего в качестве аэропорта вылета встречается ATL. Признак имеет большое число уникальных значений;\n",
    "\n",
    "- **AirportTo** --- чаще всего в качестве аэропорта вылета встречается ATL. Признак имеет большое число уникальных значений;\n",
    "\n",
    "- **DayOfWeek** --- день недели, в который произовдился вылет;\n",
    "\n",
    "- **Class** --- задержки авиаперелётов происходили чаще в третий и четвёртый день недели, а реже всего --- в шестой день."
   ]
  },
  {
   "cell_type": "markdown",
   "id": "57a9d43e",
   "metadata": {},
   "source": [
    "## Feature Engineering\n",
    "\n",
    "Преобразуем количественные признаки в категориальные:\n",
    "\n",
    "### Новый признак категории полёта"
   ]
  },
  {
   "cell_type": "code",
   "execution_count": 26,
   "id": "f6395e81",
   "metadata": {},
   "outputs": [
    {
     "data": {
      "text/html": [
       "<style type=\"text/css\">\n",
       "#T_6d6a8_row0_col0 {\n",
       "  background-color: #42a066;\n",
       "  color: #f1f1f1;\n",
       "}\n",
       "#T_6d6a8_row1_col0 {\n",
       "  background-color: #b9dc66;\n",
       "  color: #000000;\n",
       "}\n",
       "#T_6d6a8_row2_col0 {\n",
       "  background-color: #3f9f66;\n",
       "  color: #f1f1f1;\n",
       "}\n",
       "#T_6d6a8_row3_col0 {\n",
       "  background-color: #c2e066;\n",
       "  color: #000000;\n",
       "}\n",
       "#T_6d6a8_row4_col0 {\n",
       "  background-color: #6bb566;\n",
       "  color: #f1f1f1;\n",
       "}\n",
       "#T_6d6a8_row5_col0 {\n",
       "  background-color: #94ca66;\n",
       "  color: #000000;\n",
       "}\n",
       "#T_6d6a8_row6_col0 {\n",
       "  background-color: #67b366;\n",
       "  color: #f1f1f1;\n",
       "}\n",
       "#T_6d6a8_row7_col0 {\n",
       "  background-color: #97cb66;\n",
       "  color: #000000;\n",
       "}\n",
       "#T_6d6a8_row8_col0 {\n",
       "  background-color: #4da666;\n",
       "  color: #f1f1f1;\n",
       "}\n",
       "#T_6d6a8_row9_col0 {\n",
       "  background-color: #b2d866;\n",
       "  color: #000000;\n",
       "}\n",
       "#T_6d6a8_row10_col0 {\n",
       "  background-color: #138966;\n",
       "  color: #f1f1f1;\n",
       "}\n",
       "#T_6d6a8_row11_col0 {\n",
       "  background-color: #ebf566;\n",
       "  color: #000000;\n",
       "}\n",
       "#T_6d6a8_row12_col0 {\n",
       "  background-color: #078366;\n",
       "  color: #f1f1f1;\n",
       "}\n",
       "#T_6d6a8_row13_col0 {\n",
       "  background-color: #f7fb66;\n",
       "  color: #000000;\n",
       "}\n",
       "#T_6d6a8_row14_col0 {\n",
       "  background-color: #008066;\n",
       "  color: #f1f1f1;\n",
       "}\n",
       "#T_6d6a8_row15_col0 {\n",
       "  background-color: #ffff66;\n",
       "  color: #000000;\n",
       "}\n",
       "</style>\n",
       "<table id=\"T_6d6a8\">\n",
       "  <thead>\n",
       "    <tr>\n",
       "      <th class=\"blank\" >&nbsp;</th>\n",
       "      <th class=\"blank level0\" >&nbsp;</th>\n",
       "      <th id=\"T_6d6a8_level0_col0\" class=\"col_heading level0 col0\" >Class</th>\n",
       "    </tr>\n",
       "    <tr>\n",
       "      <th class=\"index_name level0\" >Flight_Category</th>\n",
       "      <th class=\"index_name level1\" >Class</th>\n",
       "      <th class=\"blank col0\" >&nbsp;</th>\n",
       "    </tr>\n",
       "  </thead>\n",
       "  <tbody>\n",
       "    <tr>\n",
       "      <th id=\"T_6d6a8_level0_row0\" class=\"row_heading level0 row0\" rowspan=\"2\">(0.999, 351.0]</th>\n",
       "      <th id=\"T_6d6a8_level1_row0\" class=\"row_heading level1 row0\" >0</th>\n",
       "      <td id=\"T_6d6a8_row0_col0\" class=\"data row0 col0\" >36838</td>\n",
       "    </tr>\n",
       "    <tr>\n",
       "      <th id=\"T_6d6a8_level1_row1\" class=\"row_heading level1 row1\" >1</th>\n",
       "      <td id=\"T_6d6a8_row1_col0\" class=\"data row1 col0\" >30759</td>\n",
       "    </tr>\n",
       "    <tr>\n",
       "      <th id=\"T_6d6a8_level0_row2\" class=\"row_heading level0 row2\" rowspan=\"2\">(351.0, 712.0]</th>\n",
       "      <th id=\"T_6d6a8_level1_row2\" class=\"row_heading level1 row2\" >0</th>\n",
       "      <td id=\"T_6d6a8_row2_col0\" class=\"data row2 col0\" >37010</td>\n",
       "    </tr>\n",
       "    <tr>\n",
       "      <th id=\"T_6d6a8_level1_row3\" class=\"row_heading level1 row3\" >1</th>\n",
       "      <td id=\"T_6d6a8_row3_col0\" class=\"data row3 col0\" >30311</td>\n",
       "    </tr>\n",
       "    <tr>\n",
       "      <th id=\"T_6d6a8_level0_row4\" class=\"row_heading level0 row4\" rowspan=\"2\">(712.0, 1201.0]</th>\n",
       "      <th id=\"T_6d6a8_level1_row4\" class=\"row_heading level1 row4\" >0</th>\n",
       "      <td id=\"T_6d6a8_row4_col0\" class=\"data row4 col0\" >34741</td>\n",
       "    </tr>\n",
       "    <tr>\n",
       "      <th id=\"T_6d6a8_level1_row5\" class=\"row_heading level1 row5\" >1</th>\n",
       "      <td id=\"T_6d6a8_row5_col0\" class=\"data row5 col0\" >32647</td>\n",
       "    </tr>\n",
       "    <tr>\n",
       "      <th id=\"T_6d6a8_level0_row6\" class=\"row_heading level0 row6\" rowspan=\"2\">(1201.0, 1809.0]</th>\n",
       "      <th id=\"T_6d6a8_level1_row6\" class=\"row_heading level1 row6\" >0</th>\n",
       "      <td id=\"T_6d6a8_row6_col0\" class=\"data row6 col0\" >34942</td>\n",
       "    </tr>\n",
       "    <tr>\n",
       "      <th id=\"T_6d6a8_level1_row7\" class=\"row_heading level1 row7\" >1</th>\n",
       "      <td id=\"T_6d6a8_row7_col0\" class=\"data row7 col0\" >32489</td>\n",
       "    </tr>\n",
       "    <tr>\n",
       "      <th id=\"T_6d6a8_level0_row8\" class=\"row_heading level0 row8\" rowspan=\"2\">(1809.0, 2608.0]</th>\n",
       "      <th id=\"T_6d6a8_level1_row8\" class=\"row_heading level1 row8\" >0</th>\n",
       "      <td id=\"T_6d6a8_row8_col0\" class=\"data row8 col0\" >36289</td>\n",
       "    </tr>\n",
       "    <tr>\n",
       "      <th id=\"T_6d6a8_level1_row9\" class=\"row_heading level1 row9\" >1</th>\n",
       "      <td id=\"T_6d6a8_row9_col0\" class=\"data row9 col0\" >31105</td>\n",
       "    </tr>\n",
       "    <tr>\n",
       "      <th id=\"T_6d6a8_level0_row10\" class=\"row_heading level0 row10\" rowspan=\"2\">(2608.0, 3745.0]</th>\n",
       "      <th id=\"T_6d6a8_level1_row10\" class=\"row_heading level1 row10\" >0</th>\n",
       "      <td id=\"T_6d6a8_row10_col0\" class=\"data row10 col0\" >39228</td>\n",
       "    </tr>\n",
       "    <tr>\n",
       "      <th id=\"T_6d6a8_level1_row11\" class=\"row_heading level1 row11\" >1</th>\n",
       "      <td id=\"T_6d6a8_row11_col0\" class=\"data row11 col0\" >28208</td>\n",
       "    </tr>\n",
       "    <tr>\n",
       "      <th id=\"T_6d6a8_level0_row12\" class=\"row_heading level0 row12\" rowspan=\"2\">(3745.0, 5440.0]</th>\n",
       "      <th id=\"T_6d6a8_level1_row12\" class=\"row_heading level1 row12\" >0</th>\n",
       "      <td id=\"T_6d6a8_row12_col0\" class=\"data row12 col0\" >39839</td>\n",
       "    </tr>\n",
       "    <tr>\n",
       "      <th id=\"T_6d6a8_level1_row13\" class=\"row_heading level1 row13\" >1</th>\n",
       "      <td id=\"T_6d6a8_row13_col0\" class=\"data row13 col0\" >27593</td>\n",
       "    </tr>\n",
       "    <tr>\n",
       "      <th id=\"T_6d6a8_level0_row14\" class=\"row_heading level0 row14\" rowspan=\"2\">(5440.0, 7814.0]</th>\n",
       "      <th id=\"T_6d6a8_level1_row14\" class=\"row_heading level1 row14\" >0</th>\n",
       "      <td id=\"T_6d6a8_row14_col0\" class=\"data row14 col0\" >40231</td>\n",
       "    </tr>\n",
       "    <tr>\n",
       "      <th id=\"T_6d6a8_level1_row15\" class=\"row_heading level1 row15\" >1</th>\n",
       "      <td id=\"T_6d6a8_row15_col0\" class=\"data row15 col0\" >27152</td>\n",
       "    </tr>\n",
       "  </tbody>\n",
       "</table>\n"
      ],
      "text/plain": [
       "<pandas.io.formats.style.Styler at 0x136b4fc4880>"
      ]
     },
     "execution_count": 26,
     "metadata": {},
     "output_type": "execute_result"
    }
   ],
   "source": [
    "df['Flight_Category'] = pd.qcut(df['Flight'], 8)\n",
    "df.groupby(['Flight_Category', 'Class'])['Class'].count().to_frame().style.background_gradient(cmap='summer_r')"
   ]
  },
  {
   "cell_type": "code",
   "execution_count": 27,
   "id": "404ca77c",
   "metadata": {},
   "outputs": [],
   "source": [
    "df['Flight_Category'] = 0\n",
    "df.loc[df['Flight'] <= 351.0, 'Flight_Category'] = 0\n",
    "df.loc[(df['Flight'] > 351.0) & (df['Flight'] <= 712.0), 'Flight_Category'] = 1\n",
    "df.loc[(df['Flight'] > 712.0) & (df['Flight'] <= 1201.0), 'Flight_Category'] = 2\n",
    "df.loc[(df['Flight'] > 1201.0) & (df['Flight'] <= 1809.0), 'Flight_Category'] = 3\n",
    "df.loc[(df['Flight'] > 1809.0) & (df['Flight'] <= 2608.0), 'Flight_Category'] = 4\n",
    "df.loc[(df['Flight'] > 2608.0) & (df['Flight'] <= 3745.0), 'Flight_Category'] = 5\n",
    "df.loc[(df['Flight'] > 3745.0) & (df['Flight'] <= 5440.0), 'Flight_Category'] = 6\n",
    "df.loc[(df['Flight'] > 5440.0), 'Flight_Category'] = 7"
   ]
  },
  {
   "cell_type": "markdown",
   "id": "a8b13ed6",
   "metadata": {},
   "source": [
    "### Новый признак категории времени вылета"
   ]
  },
  {
   "cell_type": "code",
   "execution_count": 28,
   "id": "cc616e00",
   "metadata": {},
   "outputs": [
    {
     "data": {
      "text/html": [
       "<style type=\"text/css\">\n",
       "#T_58a33_row0_col0 {\n",
       "  background-color: #008066;\n",
       "  color: #f1f1f1;\n",
       "}\n",
       "#T_58a33_row1_col0 {\n",
       "  background-color: #ffff66;\n",
       "  color: #000000;\n",
       "}\n",
       "#T_58a33_row2_col0 {\n",
       "  background-color: #399c66;\n",
       "  color: #f1f1f1;\n",
       "}\n",
       "#T_58a33_row3_col0 {\n",
       "  background-color: #d6eb66;\n",
       "  color: #000000;\n",
       "}\n",
       "#T_58a33_row4_col0 {\n",
       "  background-color: #5bad66;\n",
       "  color: #f1f1f1;\n",
       "}\n",
       "#T_58a33_row5_col0 {\n",
       "  background-color: #abd566;\n",
       "  color: #000000;\n",
       "}\n",
       "#T_58a33_row6_col0 {\n",
       "  background-color: #75ba66;\n",
       "  color: #f1f1f1;\n",
       "}\n",
       "#T_58a33_row7_col0, #T_58a33_row12_col0 {\n",
       "  background-color: #98cc66;\n",
       "  color: #000000;\n",
       "}\n",
       "#T_58a33_row8_col0 {\n",
       "  background-color: #7fbf66;\n",
       "  color: #000000;\n",
       "}\n",
       "#T_58a33_row9_col0 {\n",
       "  background-color: #80c066;\n",
       "  color: #000000;\n",
       "}\n",
       "#T_58a33_row10_col0 {\n",
       "  background-color: #8cc666;\n",
       "  color: #000000;\n",
       "}\n",
       "#T_58a33_row11_col0 {\n",
       "  background-color: #7abc66;\n",
       "  color: #000000;\n",
       "}\n",
       "#T_58a33_row13_col0 {\n",
       "  background-color: #77bb66;\n",
       "  color: #f1f1f1;\n",
       "}\n",
       "#T_58a33_row14_col0 {\n",
       "  background-color: #8bc566;\n",
       "  color: #000000;\n",
       "}\n",
       "#T_58a33_row15_col0 {\n",
       "  background-color: #8ac466;\n",
       "  color: #000000;\n",
       "}\n",
       "</style>\n",
       "<table id=\"T_58a33\">\n",
       "  <thead>\n",
       "    <tr>\n",
       "      <th class=\"blank\" >&nbsp;</th>\n",
       "      <th class=\"blank level0\" >&nbsp;</th>\n",
       "      <th id=\"T_58a33_level0_col0\" class=\"col_heading level0 col0\" >Class</th>\n",
       "    </tr>\n",
       "    <tr>\n",
       "      <th class=\"index_name level0\" >Time_Category</th>\n",
       "      <th class=\"index_name level1\" >Class</th>\n",
       "      <th class=\"blank col0\" >&nbsp;</th>\n",
       "    </tr>\n",
       "  </thead>\n",
       "  <tbody>\n",
       "    <tr>\n",
       "      <th id=\"T_58a33_level0_row0\" class=\"row_heading level0 row0\" rowspan=\"2\">(9.999, 450.0]</th>\n",
       "      <th id=\"T_58a33_level1_row0\" class=\"row_heading level1 row0\" >0</th>\n",
       "      <td id=\"T_58a33_row0_col0\" class=\"data row0 col0\" >50155</td>\n",
       "    </tr>\n",
       "    <tr>\n",
       "      <th id=\"T_58a33_level1_row1\" class=\"row_heading level1 row1\" >1</th>\n",
       "      <td id=\"T_58a33_row1_col0\" class=\"data row1 col0\" >18519</td>\n",
       "    </tr>\n",
       "    <tr>\n",
       "      <th id=\"T_58a33_level0_row2\" class=\"row_heading level0 row2\" rowspan=\"2\">(450.0, 565.0]</th>\n",
       "      <th id=\"T_58a33_level1_row2\" class=\"row_heading level1 row2\" >0</th>\n",
       "      <td id=\"T_58a33_row2_col0\" class=\"data row2 col0\" >43032</td>\n",
       "    </tr>\n",
       "    <tr>\n",
       "      <th id=\"T_58a33_level1_row3\" class=\"row_heading level1 row3\" >1</th>\n",
       "      <td id=\"T_58a33_row3_col0\" class=\"data row3 col0\" >23588</td>\n",
       "    </tr>\n",
       "    <tr>\n",
       "      <th id=\"T_58a33_level0_row4\" class=\"row_heading level0 row4\" rowspan=\"2\">(565.0, 680.0]</th>\n",
       "      <th id=\"T_58a33_level1_row4\" class=\"row_heading level1 row4\" >0</th>\n",
       "      <td id=\"T_58a33_row4_col0\" class=\"data row4 col0\" >38841</td>\n",
       "    </tr>\n",
       "    <tr>\n",
       "      <th id=\"T_58a33_level1_row5\" class=\"row_heading level1 row5\" >1</th>\n",
       "      <td id=\"T_58a33_row5_col0\" class=\"data row5 col0\" >29006</td>\n",
       "    </tr>\n",
       "    <tr>\n",
       "      <th id=\"T_58a33_level0_row6\" class=\"row_heading level0 row6\" rowspan=\"2\">(680.0, 795.0]</th>\n",
       "      <th id=\"T_58a33_level1_row6\" class=\"row_heading level1 row6\" >0</th>\n",
       "      <td id=\"T_58a33_row6_col0\" class=\"data row6 col0\" >35691</td>\n",
       "    </tr>\n",
       "    <tr>\n",
       "      <th id=\"T_58a33_level1_row7\" class=\"row_heading level1 row7\" >1</th>\n",
       "      <td id=\"T_58a33_row7_col0\" class=\"data row7 col0\" >31348</td>\n",
       "    </tr>\n",
       "    <tr>\n",
       "      <th id=\"T_58a33_level0_row8\" class=\"row_heading level0 row8\" rowspan=\"2\">(795.0, 915.0]</th>\n",
       "      <th id=\"T_58a33_level1_row8\" class=\"row_heading level1 row8\" >0</th>\n",
       "      <td id=\"T_58a33_row8_col0\" class=\"data row8 col0\" >34448</td>\n",
       "    </tr>\n",
       "    <tr>\n",
       "      <th id=\"T_58a33_level1_row9\" class=\"row_heading level1 row9\" >1</th>\n",
       "      <td id=\"T_58a33_row9_col0\" class=\"data row9 col0\" >34302</td>\n",
       "    </tr>\n",
       "    <tr>\n",
       "      <th id=\"T_58a33_level0_row10\" class=\"row_heading level0 row10\" rowspan=\"2\">(915.0, 1035.0]</th>\n",
       "      <th id=\"T_58a33_level1_row10\" class=\"row_heading level1 row10\" >0</th>\n",
       "      <td id=\"T_58a33_row10_col0\" class=\"data row10 col0\" >32778</td>\n",
       "    </tr>\n",
       "    <tr>\n",
       "      <th id=\"T_58a33_level1_row11\" class=\"row_heading level1 row11\" >1</th>\n",
       "      <td id=\"T_58a33_row11_col0\" class=\"data row11 col0\" >35025</td>\n",
       "    </tr>\n",
       "    <tr>\n",
       "      <th id=\"T_58a33_level0_row12\" class=\"row_heading level0 row12\" rowspan=\"2\">(1035.0, 1155.0]</th>\n",
       "      <th id=\"T_58a33_level1_row12\" class=\"row_heading level1 row12\" >0</th>\n",
       "      <td id=\"T_58a33_row12_col0\" class=\"data row12 col0\" >31293</td>\n",
       "    </tr>\n",
       "    <tr>\n",
       "      <th id=\"T_58a33_level1_row13\" class=\"row_heading level1 row13\" >1</th>\n",
       "      <td id=\"T_58a33_row13_col0\" class=\"data row13 col0\" >35430</td>\n",
       "    </tr>\n",
       "    <tr>\n",
       "      <th id=\"T_58a33_level0_row14\" class=\"row_heading level0 row14\" rowspan=\"2\">(1155.0, 1439.0]</th>\n",
       "      <th id=\"T_58a33_level1_row14\" class=\"row_heading level1 row14\" >0</th>\n",
       "      <td id=\"T_58a33_row14_col0\" class=\"data row14 col0\" >32880</td>\n",
       "    </tr>\n",
       "    <tr>\n",
       "      <th id=\"T_58a33_level1_row15\" class=\"row_heading level1 row15\" >1</th>\n",
       "      <td id=\"T_58a33_row15_col0\" class=\"data row15 col0\" >33046</td>\n",
       "    </tr>\n",
       "  </tbody>\n",
       "</table>\n"
      ],
      "text/plain": [
       "<pandas.io.formats.style.Styler at 0x136b509f670>"
      ]
     },
     "execution_count": 28,
     "metadata": {},
     "output_type": "execute_result"
    }
   ],
   "source": [
    "df['Time_Category'] = pd.qcut(df['Time'], 8)\n",
    "df.groupby(['Time_Category', 'Class'])['Class'].count().to_frame().style.background_gradient(cmap='summer_r')"
   ]
  },
  {
   "cell_type": "code",
   "execution_count": 29,
   "id": "0c885213",
   "metadata": {},
   "outputs": [],
   "source": [
    "df['Time_Category'] = 0\n",
    "df.loc[df['Time'] <= 450.0, 'Time_Category'] = 0\n",
    "df.loc[(df['Time'] > 450.0) & (df['Time'] <= 565.0), 'Time_Category'] = 1\n",
    "df.loc[(df['Time'] > 565.0) & (df['Time'] <= 680.0), 'Time_Category'] = 2\n",
    "df.loc[(df['Time'] > 680.0) & (df['Time'] <= 795.0), 'Time_Category'] = 3\n",
    "df.loc[(df['Time'] > 795.0) & (df['Time'] <= 915.0), 'Time_Category'] = 4\n",
    "df.loc[(df['Time'] > 915.0) & (df['Time'] <= 1035.0), 'Time_Category'] = 5\n",
    "df.loc[(df['Time'] > 1035.0) & (df['Time'] <= 1155.0), 'Time_Category'] = 6\n",
    "df.loc[df['Time'] > 1155.0, 'Time_Category'] = 7"
   ]
  },
  {
   "cell_type": "markdown",
   "id": "8ab6de08",
   "metadata": {},
   "source": [
    "### Новый признак категории времени задержки"
   ]
  },
  {
   "cell_type": "code",
   "execution_count": 30,
   "id": "a7ab9d7e",
   "metadata": {},
   "outputs": [
    {
     "data": {
      "text/html": [
       "<style type=\"text/css\">\n",
       "#T_54b99_row0_col0, #T_54b99_row4_col0 {\n",
       "  background-color: #008066;\n",
       "  color: #f1f1f1;\n",
       "}\n",
       "#T_54b99_row1_col0 {\n",
       "  background-color: #ffff66;\n",
       "  color: #000000;\n",
       "}\n",
       "#T_54b99_row2_col0 {\n",
       "  background-color: #379b66;\n",
       "  color: #f1f1f1;\n",
       "}\n",
       "#T_54b99_row3_col0 {\n",
       "  background-color: #cee666;\n",
       "  color: #000000;\n",
       "}\n",
       "#T_54b99_row5_col0 {\n",
       "  background-color: #f0f866;\n",
       "  color: #000000;\n",
       "}\n",
       "#T_54b99_row6_col0 {\n",
       "  background-color: #0a8466;\n",
       "  color: #f1f1f1;\n",
       "}\n",
       "#T_54b99_row7_col0 {\n",
       "  background-color: #f2f866;\n",
       "  color: #000000;\n",
       "}\n",
       "#T_54b99_row8_col0 {\n",
       "  background-color: #1e8e66;\n",
       "  color: #f1f1f1;\n",
       "}\n",
       "#T_54b99_row9_col0 {\n",
       "  background-color: #fefe66;\n",
       "  color: #000000;\n",
       "}\n",
       "#T_54b99_row10_col0 {\n",
       "  background-color: #2f9766;\n",
       "  color: #f1f1f1;\n",
       "}\n",
       "#T_54b99_row11_col0 {\n",
       "  background-color: #f7fb66;\n",
       "  color: #000000;\n",
       "}\n",
       "#T_54b99_row12_col0 {\n",
       "  background-color: #5dae66;\n",
       "  color: #f1f1f1;\n",
       "}\n",
       "#T_54b99_row13_col0 {\n",
       "  background-color: #c7e366;\n",
       "  color: #000000;\n",
       "}\n",
       "#T_54b99_row14_col0 {\n",
       "  background-color: #89c466;\n",
       "  color: #000000;\n",
       "}\n",
       "#T_54b99_row15_col0 {\n",
       "  background-color: #86c266;\n",
       "  color: #000000;\n",
       "}\n",
       "</style>\n",
       "<table id=\"T_54b99\">\n",
       "  <thead>\n",
       "    <tr>\n",
       "      <th class=\"blank\" >&nbsp;</th>\n",
       "      <th class=\"blank level0\" >&nbsp;</th>\n",
       "      <th id=\"T_54b99_level0_col0\" class=\"col_heading level0 col0\" >Class</th>\n",
       "    </tr>\n",
       "    <tr>\n",
       "      <th class=\"index_name level0\" >Length_Category</th>\n",
       "      <th class=\"index_name level1\" >Class</th>\n",
       "      <th class=\"blank col0\" >&nbsp;</th>\n",
       "    </tr>\n",
       "  </thead>\n",
       "  <tbody>\n",
       "    <tr>\n",
       "      <th id=\"T_54b99_level0_row0\" class=\"row_heading level0 row0\" rowspan=\"2\">(-0.001, 67.0]</th>\n",
       "      <th id=\"T_54b99_level1_row0\" class=\"row_heading level1 row0\" >0</th>\n",
       "      <td id=\"T_54b99_row0_col0\" class=\"data row0 col0\" >39358</td>\n",
       "    </tr>\n",
       "    <tr>\n",
       "      <th id=\"T_54b99_level1_row1\" class=\"row_heading level1 row1\" >1</th>\n",
       "      <td id=\"T_54b99_row1_col0\" class=\"data row1 col0\" >28634</td>\n",
       "    </tr>\n",
       "    <tr>\n",
       "      <th id=\"T_54b99_level0_row2\" class=\"row_heading level0 row2\" rowspan=\"2\">(67.0, 81.0]</th>\n",
       "      <th id=\"T_54b99_level1_row2\" class=\"row_heading level1 row2\" >0</th>\n",
       "      <td id=\"T_54b99_row2_col0\" class=\"data row2 col0\" >37022</td>\n",
       "    </tr>\n",
       "    <tr>\n",
       "      <th id=\"T_54b99_level1_row3\" class=\"row_heading level1 row3\" >1</th>\n",
       "      <td id=\"T_54b99_row3_col0\" class=\"data row3 col0\" >30715</td>\n",
       "    </tr>\n",
       "    <tr>\n",
       "      <th id=\"T_54b99_level0_row4\" class=\"row_heading level0 row4\" rowspan=\"2\">(81.0, 97.0]</th>\n",
       "      <th id=\"T_54b99_level1_row4\" class=\"row_heading level1 row4\" >0</th>\n",
       "      <td id=\"T_54b99_row4_col0\" class=\"data row4 col0\" >39324</td>\n",
       "    </tr>\n",
       "    <tr>\n",
       "      <th id=\"T_54b99_level1_row5\" class=\"row_heading level1 row5\" >1</th>\n",
       "      <td id=\"T_54b99_row5_col0\" class=\"data row5 col0\" >29280</td>\n",
       "    </tr>\n",
       "    <tr>\n",
       "      <th id=\"T_54b99_level0_row6\" class=\"row_heading level0 row6\" rowspan=\"2\">(97.0, 115.0]</th>\n",
       "      <th id=\"T_54b99_level1_row6\" class=\"row_heading level1 row6\" >0</th>\n",
       "      <td id=\"T_54b99_row6_col0\" class=\"data row6 col0\" >38933</td>\n",
       "    </tr>\n",
       "    <tr>\n",
       "      <th id=\"T_54b99_level1_row7\" class=\"row_heading level1 row7\" >1</th>\n",
       "      <td id=\"T_54b99_row7_col0\" class=\"data row7 col0\" >29180</td>\n",
       "    </tr>\n",
       "    <tr>\n",
       "      <th id=\"T_54b99_level0_row8\" class=\"row_heading level0 row8\" rowspan=\"2\">(115.0, 135.0]</th>\n",
       "      <th id=\"T_54b99_level1_row8\" class=\"row_heading level1 row8\" >0</th>\n",
       "      <td id=\"T_54b99_row8_col0\" class=\"data row8 col0\" >38078</td>\n",
       "    </tr>\n",
       "    <tr>\n",
       "      <th id=\"T_54b99_level1_row9\" class=\"row_heading level1 row9\" >1</th>\n",
       "      <td id=\"T_54b99_row9_col0\" class=\"data row9 col0\" >28700</td>\n",
       "    </tr>\n",
       "    <tr>\n",
       "      <th id=\"T_54b99_level0_row10\" class=\"row_heading level0 row10\" rowspan=\"2\">(135.0, 162.0]</th>\n",
       "      <th id=\"T_54b99_level1_row10\" class=\"row_heading level1 row10\" >0</th>\n",
       "      <td id=\"T_54b99_row10_col0\" class=\"data row10 col0\" >37368</td>\n",
       "    </tr>\n",
       "    <tr>\n",
       "      <th id=\"T_54b99_level1_row11\" class=\"row_heading level1 row11\" >1</th>\n",
       "      <td id=\"T_54b99_row11_col0\" class=\"data row11 col0\" >28996</td>\n",
       "    </tr>\n",
       "    <tr>\n",
       "      <th id=\"T_54b99_level0_row12\" class=\"row_heading level0 row12\" rowspan=\"2\">(162.0, 208.0]</th>\n",
       "      <th id=\"T_54b99_level1_row12\" class=\"row_heading level1 row12\" >0</th>\n",
       "      <td id=\"T_54b99_row12_col0\" class=\"data row12 col0\" >35427</td>\n",
       "    </tr>\n",
       "    <tr>\n",
       "      <th id=\"T_54b99_level1_row13\" class=\"row_heading level1 row13\" >1</th>\n",
       "      <td id=\"T_54b99_row13_col0\" class=\"data row13 col0\" >31018</td>\n",
       "    </tr>\n",
       "    <tr>\n",
       "      <th id=\"T_54b99_level0_row14\" class=\"row_heading level0 row14\" rowspan=\"2\">(208.0, 655.0]</th>\n",
       "      <th id=\"T_54b99_level1_row14\" class=\"row_heading level1 row14\" >0</th>\n",
       "      <td id=\"T_54b99_row14_col0\" class=\"data row14 col0\" >33608</td>\n",
       "    </tr>\n",
       "    <tr>\n",
       "      <th id=\"T_54b99_level1_row15\" class=\"row_heading level1 row15\" >1</th>\n",
       "      <td id=\"T_54b99_row15_col0\" class=\"data row15 col0\" >33741</td>\n",
       "    </tr>\n",
       "  </tbody>\n",
       "</table>\n"
      ],
      "text/plain": [
       "<pandas.io.formats.style.Styler at 0x136b4e9e7c0>"
      ]
     },
     "execution_count": 30,
     "metadata": {},
     "output_type": "execute_result"
    }
   ],
   "source": [
    "df['Length_Category'] = pd.qcut(df['Length'], 8)\n",
    "df.groupby(['Length_Category', 'Class'])['Class'].count().to_frame().style.background_gradient(cmap='summer_r')"
   ]
  },
  {
   "cell_type": "code",
   "execution_count": 31,
   "id": "946791e1",
   "metadata": {},
   "outputs": [],
   "source": [
    "df['Length_Category'] = 0\n",
    "df.loc[df['Length'] <= 67.0, 'Length_Category'] = 0\n",
    "df.loc[(df['Length'] > 67.0) & (df['Length'] <= 81.0), 'Length_Category'] = 1\n",
    "df.loc[(df['Length'] > 81.0) & (df['Length'] <= 97.0), 'Length_Category'] = 2\n",
    "df.loc[(df['Length'] > 97.0) & (df['Length'] <= 115.0), 'Length_Category'] = 3\n",
    "df.loc[(df['Length'] > 115.0) & (df['Length'] <= 135.0), 'Length_Category'] = 4\n",
    "df.loc[(df['Length'] > 135.0) & (df['Length'] <= 162.0), 'Length_Category'] = 5\n",
    "df.loc[(df['Length'] > 162.0) & (df['Length'] <= 208.0), 'Length_Category'] = 6\n",
    "df.loc[df['Length'] > 208.0, 'Length_Category'] = 7"
   ]
  },
  {
   "cell_type": "code",
   "execution_count": 32,
   "id": "0fe794cd",
   "metadata": {},
   "outputs": [
    {
     "data": {
      "text/html": [
       "<div>\n",
       "<style scoped>\n",
       "    .dataframe tbody tr th:only-of-type {\n",
       "        vertical-align: middle;\n",
       "    }\n",
       "\n",
       "    .dataframe tbody tr th {\n",
       "        vertical-align: top;\n",
       "    }\n",
       "\n",
       "    .dataframe thead th {\n",
       "        text-align: right;\n",
       "    }\n",
       "</style>\n",
       "<table border=\"1\" class=\"dataframe\">\n",
       "  <thead>\n",
       "    <tr style=\"text-align: right;\">\n",
       "      <th></th>\n",
       "      <th>Airline</th>\n",
       "      <th>AirportFrom</th>\n",
       "      <th>AirportTo</th>\n",
       "      <th>DayOfWeek</th>\n",
       "      <th>Class</th>\n",
       "      <th>Flight_Category</th>\n",
       "      <th>Time_Category</th>\n",
       "      <th>Length_Category</th>\n",
       "    </tr>\n",
       "  </thead>\n",
       "  <tbody>\n",
       "    <tr>\n",
       "      <th>0</th>\n",
       "      <td>DL</td>\n",
       "      <td>ATL</td>\n",
       "      <td>HOU</td>\n",
       "      <td>1</td>\n",
       "      <td>0</td>\n",
       "      <td>4</td>\n",
       "      <td>7</td>\n",
       "      <td>5</td>\n",
       "    </tr>\n",
       "    <tr>\n",
       "      <th>1</th>\n",
       "      <td>OO</td>\n",
       "      <td>COS</td>\n",
       "      <td>ORD</td>\n",
       "      <td>4</td>\n",
       "      <td>0</td>\n",
       "      <td>7</td>\n",
       "      <td>0</td>\n",
       "      <td>5</td>\n",
       "    </tr>\n",
       "    <tr>\n",
       "      <th>2</th>\n",
       "      <td>B6</td>\n",
       "      <td>BOS</td>\n",
       "      <td>CLT</td>\n",
       "      <td>3</td>\n",
       "      <td>0</td>\n",
       "      <td>3</td>\n",
       "      <td>7</td>\n",
       "      <td>5</td>\n",
       "    </tr>\n",
       "    <tr>\n",
       "      <th>3</th>\n",
       "      <td>US</td>\n",
       "      <td>OGG</td>\n",
       "      <td>PHX</td>\n",
       "      <td>6</td>\n",
       "      <td>0</td>\n",
       "      <td>0</td>\n",
       "      <td>7</td>\n",
       "      <td>7</td>\n",
       "    </tr>\n",
       "    <tr>\n",
       "      <th>4</th>\n",
       "      <td>FL</td>\n",
       "      <td>BMI</td>\n",
       "      <td>ATL</td>\n",
       "      <td>4</td>\n",
       "      <td>0</td>\n",
       "      <td>1</td>\n",
       "      <td>3</td>\n",
       "      <td>3</td>\n",
       "    </tr>\n",
       "    <tr>\n",
       "      <th>...</th>\n",
       "      <td>...</td>\n",
       "      <td>...</td>\n",
       "      <td>...</td>\n",
       "      <td>...</td>\n",
       "      <td>...</td>\n",
       "      <td>...</td>\n",
       "      <td>...</td>\n",
       "      <td>...</td>\n",
       "    </tr>\n",
       "    <tr>\n",
       "      <th>539377</th>\n",
       "      <td>OO</td>\n",
       "      <td>GEG</td>\n",
       "      <td>SEA</td>\n",
       "      <td>5</td>\n",
       "      <td>1</td>\n",
       "      <td>7</td>\n",
       "      <td>1</td>\n",
       "      <td>1</td>\n",
       "    </tr>\n",
       "    <tr>\n",
       "      <th>539378</th>\n",
       "      <td>WN</td>\n",
       "      <td>LAS</td>\n",
       "      <td>DEN</td>\n",
       "      <td>4</td>\n",
       "      <td>1</td>\n",
       "      <td>3</td>\n",
       "      <td>1</td>\n",
       "      <td>3</td>\n",
       "    </tr>\n",
       "    <tr>\n",
       "      <th>539379</th>\n",
       "      <td>EV</td>\n",
       "      <td>CAE</td>\n",
       "      <td>ATL</td>\n",
       "      <td>2</td>\n",
       "      <td>1</td>\n",
       "      <td>6</td>\n",
       "      <td>4</td>\n",
       "      <td>1</td>\n",
       "    </tr>\n",
       "    <tr>\n",
       "      <th>539380</th>\n",
       "      <td>WN</td>\n",
       "      <td>BWI</td>\n",
       "      <td>BUF</td>\n",
       "      <td>4</td>\n",
       "      <td>1</td>\n",
       "      <td>1</td>\n",
       "      <td>3</td>\n",
       "      <td>0</td>\n",
       "    </tr>\n",
       "    <tr>\n",
       "      <th>539381</th>\n",
       "      <td>OO</td>\n",
       "      <td>CPR</td>\n",
       "      <td>DEN</td>\n",
       "      <td>2</td>\n",
       "      <td>1</td>\n",
       "      <td>7</td>\n",
       "      <td>3</td>\n",
       "      <td>0</td>\n",
       "    </tr>\n",
       "  </tbody>\n",
       "</table>\n",
       "<p>539382 rows × 8 columns</p>\n",
       "</div>"
      ],
      "text/plain": [
       "       Airline AirportFrom AirportTo  DayOfWeek  Class  Flight_Category  \\\n",
       "0           DL         ATL       HOU          1      0                4   \n",
       "1           OO         COS       ORD          4      0                7   \n",
       "2           B6         BOS       CLT          3      0                3   \n",
       "3           US         OGG       PHX          6      0                0   \n",
       "4           FL         BMI       ATL          4      0                1   \n",
       "...        ...         ...       ...        ...    ...              ...   \n",
       "539377      OO         GEG       SEA          5      1                7   \n",
       "539378      WN         LAS       DEN          4      1                3   \n",
       "539379      EV         CAE       ATL          2      1                6   \n",
       "539380      WN         BWI       BUF          4      1                1   \n",
       "539381      OO         CPR       DEN          2      1                7   \n",
       "\n",
       "        Time_Category  Length_Category  \n",
       "0                   7                5  \n",
       "1                   0                5  \n",
       "2                   7                5  \n",
       "3                   7                7  \n",
       "4                   3                3  \n",
       "...               ...              ...  \n",
       "539377              1                1  \n",
       "539378              1                3  \n",
       "539379              4                1  \n",
       "539380              3                0  \n",
       "539381              3                0  \n",
       "\n",
       "[539382 rows x 8 columns]"
      ]
     },
     "execution_count": 32,
     "metadata": {},
     "output_type": "execute_result"
    }
   ],
   "source": [
    "# Удаляем количественные признаки, которые преобразовали в категориальные.\n",
    "df.drop(['Flight', 'Time', 'Length'], axis = 1, inplace = True)\n",
    "\n",
    "df"
   ]
  },
  {
   "cell_type": "code",
   "execution_count": 33,
   "id": "7311a380",
   "metadata": {},
   "outputs": [
    {
     "data": {
      "text/html": [
       "<div>\n",
       "<style scoped>\n",
       "    .dataframe tbody tr th:only-of-type {\n",
       "        vertical-align: middle;\n",
       "    }\n",
       "\n",
       "    .dataframe tbody tr th {\n",
       "        vertical-align: top;\n",
       "    }\n",
       "\n",
       "    .dataframe thead th {\n",
       "        text-align: right;\n",
       "    }\n",
       "</style>\n",
       "<table border=\"1\" class=\"dataframe\">\n",
       "  <thead>\n",
       "    <tr style=\"text-align: right;\">\n",
       "      <th></th>\n",
       "      <th>Airline</th>\n",
       "      <th>AirportFrom</th>\n",
       "      <th>AirportTo</th>\n",
       "      <th>DayOfWeek</th>\n",
       "      <th>Class</th>\n",
       "      <th>Flight_Category</th>\n",
       "      <th>Time_Category</th>\n",
       "      <th>Length_Category</th>\n",
       "    </tr>\n",
       "  </thead>\n",
       "  <tbody>\n",
       "    <tr>\n",
       "      <th>0</th>\n",
       "      <td>0</td>\n",
       "      <td>0</td>\n",
       "      <td>0</td>\n",
       "      <td>1</td>\n",
       "      <td>0</td>\n",
       "      <td>4</td>\n",
       "      <td>7</td>\n",
       "      <td>5</td>\n",
       "    </tr>\n",
       "    <tr>\n",
       "      <th>1</th>\n",
       "      <td>1</td>\n",
       "      <td>1</td>\n",
       "      <td>1</td>\n",
       "      <td>4</td>\n",
       "      <td>0</td>\n",
       "      <td>7</td>\n",
       "      <td>0</td>\n",
       "      <td>5</td>\n",
       "    </tr>\n",
       "    <tr>\n",
       "      <th>2</th>\n",
       "      <td>2</td>\n",
       "      <td>2</td>\n",
       "      <td>2</td>\n",
       "      <td>3</td>\n",
       "      <td>0</td>\n",
       "      <td>3</td>\n",
       "      <td>7</td>\n",
       "      <td>5</td>\n",
       "    </tr>\n",
       "    <tr>\n",
       "      <th>3</th>\n",
       "      <td>3</td>\n",
       "      <td>3</td>\n",
       "      <td>3</td>\n",
       "      <td>6</td>\n",
       "      <td>0</td>\n",
       "      <td>0</td>\n",
       "      <td>7</td>\n",
       "      <td>7</td>\n",
       "    </tr>\n",
       "    <tr>\n",
       "      <th>4</th>\n",
       "      <td>4</td>\n",
       "      <td>4</td>\n",
       "      <td>4</td>\n",
       "      <td>4</td>\n",
       "      <td>0</td>\n",
       "      <td>1</td>\n",
       "      <td>3</td>\n",
       "      <td>3</td>\n",
       "    </tr>\n",
       "    <tr>\n",
       "      <th>...</th>\n",
       "      <td>...</td>\n",
       "      <td>...</td>\n",
       "      <td>...</td>\n",
       "      <td>...</td>\n",
       "      <td>...</td>\n",
       "      <td>...</td>\n",
       "      <td>...</td>\n",
       "      <td>...</td>\n",
       "    </tr>\n",
       "    <tr>\n",
       "      <th>539377</th>\n",
       "      <td>1</td>\n",
       "      <td>96</td>\n",
       "      <td>51</td>\n",
       "      <td>5</td>\n",
       "      <td>1</td>\n",
       "      <td>7</td>\n",
       "      <td>1</td>\n",
       "      <td>1</td>\n",
       "    </tr>\n",
       "    <tr>\n",
       "      <th>539378</th>\n",
       "      <td>5</td>\n",
       "      <td>49</td>\n",
       "      <td>12</td>\n",
       "      <td>4</td>\n",
       "      <td>1</td>\n",
       "      <td>3</td>\n",
       "      <td>1</td>\n",
       "      <td>3</td>\n",
       "    </tr>\n",
       "    <tr>\n",
       "      <th>539379</th>\n",
       "      <td>9</td>\n",
       "      <td>74</td>\n",
       "      <td>4</td>\n",
       "      <td>2</td>\n",
       "      <td>1</td>\n",
       "      <td>6</td>\n",
       "      <td>4</td>\n",
       "      <td>1</td>\n",
       "    </tr>\n",
       "    <tr>\n",
       "      <th>539380</th>\n",
       "      <td>5</td>\n",
       "      <td>8</td>\n",
       "      <td>33</td>\n",
       "      <td>4</td>\n",
       "      <td>1</td>\n",
       "      <td>1</td>\n",
       "      <td>3</td>\n",
       "      <td>0</td>\n",
       "    </tr>\n",
       "    <tr>\n",
       "      <th>539381</th>\n",
       "      <td>1</td>\n",
       "      <td>55</td>\n",
       "      <td>12</td>\n",
       "      <td>2</td>\n",
       "      <td>1</td>\n",
       "      <td>7</td>\n",
       "      <td>3</td>\n",
       "      <td>0</td>\n",
       "    </tr>\n",
       "  </tbody>\n",
       "</table>\n",
       "<p>539382 rows × 8 columns</p>\n",
       "</div>"
      ],
      "text/plain": [
       "        Airline  AirportFrom  AirportTo  DayOfWeek  Class  Flight_Category  \\\n",
       "0             0            0          0          1      0                4   \n",
       "1             1            1          1          4      0                7   \n",
       "2             2            2          2          3      0                3   \n",
       "3             3            3          3          6      0                0   \n",
       "4             4            4          4          4      0                1   \n",
       "...         ...          ...        ...        ...    ...              ...   \n",
       "539377        1           96         51          5      1                7   \n",
       "539378        5           49         12          4      1                3   \n",
       "539379        9           74          4          2      1                6   \n",
       "539380        5            8         33          4      1                1   \n",
       "539381        1           55         12          2      1                7   \n",
       "\n",
       "        Time_Category  Length_Category  \n",
       "0                   7                5  \n",
       "1                   0                5  \n",
       "2                   7                5  \n",
       "3                   7                7  \n",
       "4                   3                3  \n",
       "...               ...              ...  \n",
       "539377              1                1  \n",
       "539378              1                3  \n",
       "539379              4                1  \n",
       "539380              3                0  \n",
       "539381              3                0  \n",
       "\n",
       "[539382 rows x 8 columns]"
      ]
     },
     "execution_count": 33,
     "metadata": {},
     "output_type": "execute_result"
    }
   ],
   "source": [
    "unique_airline = pd.unique(df[\"Airline\"])\n",
    "df['Airline'].replace(unique_airline, range(0, len(unique_airline)), inplace = True)\n",
    "\n",
    "unique_airport_from = pd.unique(df[\"AirportFrom\"])\n",
    "df['AirportFrom'].replace(unique_airport_from, range(0, len(unique_airport_from)), inplace = True)\n",
    "\n",
    "unique_airport_to = pd.unique(df[\"AirportTo\"])\n",
    "df['AirportTo'].replace(unique_airport_to, range(0, len(unique_airport_to)), inplace = True)\n",
    "df"
   ]
  },
  {
   "cell_type": "code",
   "execution_count": 34,
   "id": "2c662b6c",
   "metadata": {},
   "outputs": [
    {
     "data": {
      "text/plain": [
       "<Axes: >"
      ]
     },
     "execution_count": 34,
     "metadata": {},
     "output_type": "execute_result"
    },
    {
     "data": {
      "image/png": "[encoded data removed]",
      "text/plain": [
       "<Figure size 640x480 with 2 Axes>"
      ]
     },
     "metadata": {},
     "output_type": "display_data"
    }
   ],
   "source": [
    "sns.heatmap(df.corr(), center=0, annot=True, fmt='.1f', cmap=\"RdYlGn\")"
   ]
  },
  {
   "cell_type": "markdown",
   "id": "dfdd6824",
   "metadata": {},
   "source": [
    "## Самостоятельная реализация алгоритмов ансамблей\n",
    "\n",
    "### Bagging\n",
    "\n",
    "Подготим класс ``BaggingDtClassifier``, реализующий алгоритм **Bagging**:"
   ]
  },
  {
   "cell_type": "code",
   "execution_count": 35,
   "id": "4588e978",
   "metadata": {},
   "outputs": [],
   "source": [
    "from sklearn.tree import DecisionTreeClassifier\n",
    "\n",
    "class BaggingDtClassifier:\n",
    "    def __init__(self, estimators_number = 15, samples_number = 1):\n",
    "        self.estimators_number = estimators_number\n",
    "        self.samples_number = samples_number\n",
    "\n",
    "    def fit(self, x, y):\n",
    "        self.estimators = []\n",
    "        \n",
    "        for i in range(self.estimators_number):\n",
    "            sample_index = np.random.choice(self.samples_number, size = len(x))\n",
    "            x_sample = x[sample_index]\n",
    "            y_sample = y[sample_index]\n",
    "            \n",
    "            estimator = DecisionTreeClassifier()\n",
    "            estimator.fit(x_sample, y_sample)\n",
    "\n",
    "            self.estimators.append(estimator)\n",
    "\n",
    "    def predict(self, x):\n",
    "        predicted = np.zeros(len(x))\n",
    "        for estimator in self.estimators:\n",
    "            predicted += estimator.predict(x)\n",
    "            \n",
    "        predicted /= self.estimators_number\n",
    "        return np.round(predicted)"
   ]
  },
  {
   "cell_type": "markdown",
   "id": "c5c4fe04",
   "metadata": {},
   "source": [
    "Подготим класс ``AdaBoostDtClassifier``, реализующий алгоритм **AdaBoost**:"
   ]
  },
  {
   "cell_type": "code",
   "execution_count": 36,
   "id": "39531bf3",
   "metadata": {},
   "outputs": [],
   "source": [
    "class AdaBoostDtClassifier:\n",
    "    def __init__(self, estimators_number = 50, learning_rate = 1):\n",
    "        self.estimators_number = estimators_number\n",
    "        self.learning_rate = learning_rate\n",
    "        \n",
    "        self.estimators = []\n",
    "        self.weights = np.zeros(estimators_number)\n",
    "\n",
    "    def fit(self, x, y):\n",
    "        w = np.ones(len(x))\n",
    "        w /= len(x)\n",
    "        \n",
    "        for i in range(self.estimators_number):\n",
    "            estimator = DecisionTreeClassifier()\n",
    "            estimator.fit(x, y, sample_weight = w)\n",
    "\n",
    "            error, incorrect = self.calculate_error(x, y, w, estimator)\n",
    "            \n",
    "            weight = self.calculate_weight(error, self.learning_rate)\n",
    "            self.weights[i] = weight\n",
    "\n",
    "            w *= np.exp(weight * incorrect * ((w > 0) | (weight < 0)))\n",
    "            w /= np.sum(w)\n",
    "\n",
    "            self.estimators.append(estimator)\n",
    "            \n",
    "    def calculate_error(self, x, y, w, estimator):\n",
    "        y_pred = estimator.predict(x)\n",
    "        \n",
    "        incorrect = y_pred != y\n",
    "        estimator_error = np.sum(w[incorrect])\n",
    "        \n",
    "        return (estimator_error, incorrect)\n",
    "    \n",
    "    def calculate_weight(self, error, learning_rate):\n",
    "        return 1 if error <= 0 else learning_rate * np.log((1 - error) / error)\n",
    "\n",
    "    def get_params(self, deep=True):\n",
    "        return {'n_estimators': self.estimators_number, 'learning_rate': self.learning_rate}\n",
    "\n",
    "    def predict(self, x):\n",
    "        y_pred = np.zeros(len(x))\n",
    "        for i, estimator in enumerate(self.estimators):\n",
    "            y_pred += self.weights[i] * estimator.predict(x)\n",
    "            \n",
    "        return np.sign(y_pred)"
   ]
  },
  {
   "cell_type": "markdown",
   "id": "27e4bef0",
   "metadata": {},
   "source": [
    "## Обучение ансамблей для моделей\n",
    "\n",
    "Подготовим данные:"
   ]
  },
  {
   "cell_type": "code",
   "execution_count": 37,
   "id": "5b08ca96",
   "metadata": {},
   "outputs": [],
   "source": [
    "from sklearn.model_selection import train_test_split\n",
    "\n",
    "x = df.drop('Class', axis = 1).values\n",
    "y = df['Class'].values\n",
    "\n",
    "x_train, x_test, y_train, y_test = train_test_split(x, y, test_size = 0.4, random_state = 42)\n",
    "\n",
    "n_trials = 25"
   ]
  },
  {
   "cell_type": "markdown",
   "id": "f74a6871",
   "metadata": {},
   "source": [
    "Для подбора гиперпараметров используем фреймворк **Optuna**.\n",
    "\n",
    "### Обучение собственной реализации Bagging"
   ]
  },
  {
   "cell_type": "code",
   "execution_count": 38,
   "id": "12f81232",
   "metadata": {},
   "outputs": [
    {
     "name": "stdout",
     "output_type": "stream",
     "text": [
      "Best parameters: {'Estimators number': 18, 'Samples number': 7}\n",
      "Best accuracy: 0.5633710771113264\n",
      "Model accuracy: 0.5440573248112425\n",
      "Model time: 0.8946378231048584\n"
     ]
    }
   ],
   "source": [
    "from sklearn.metrics import accuracy_score\n",
    "import time\n",
    "import optuna\n",
    "optuna.logging.set_verbosity(optuna.logging.WARNING)\n",
    "\n",
    "def objective(trial):\n",
    "    estimators_number = trial.suggest_int('Estimators number', 1, 25)\n",
    "    samples_number = trial.suggest_int('Samples number', 1, 20)\n",
    "    \n",
    "    model = BaggingDtClassifier(estimators_number, samples_number)\n",
    "    model.fit(x_train, y_train)\n",
    "    y_pred = model.predict(x_test)\n",
    "\n",
    "    return accuracy_score(y_test, y_pred)\n",
    "\n",
    "study = optuna.create_study(direction='maximize')\n",
    "study.optimize(objective, n_trials = n_trials)\n",
    "\n",
    "print(f'Best parameters: {study.best_trial.params}')\n",
    "print(f'Best accuracy: {study.best_value}')\n",
    "\n",
    "estimators_number_best = study.best_trial.params['Estimators number']\n",
    "samples_number_best = study.best_trial.params['Samples number']\n",
    "\n",
    "model = BaggingDtClassifier(estimators_number_best, samples_number_best)\n",
    "\n",
    "start = time.time()\n",
    "model.fit(x_train, y_train)\n",
    "end = time.time()\n",
    "\n",
    "bagging_pred = model.predict(x_test)\n",
    "bagging_accuracy = accuracy_score(y_test, bagging_pred)\n",
    "bagging_time = end - start\n",
    "\n",
    "print(f'Model accuracy: {bagging_accuracy}')\n",
    "print(f'Model time: {bagging_time}')"
   ]
  },
  {
   "cell_type": "markdown",
   "id": "d66f87b6",
   "metadata": {},
   "source": [
    "### Обучение собственной реализации AdaBoost"
   ]
  },
  {
   "cell_type": "code",
   "execution_count": 39,
   "id": "2ffd88fc",
   "metadata": {},
   "outputs": [
    {
     "name": "stdout",
     "output_type": "stream",
     "text": [
      "Best parameters: {'Estimators number': 1, 'Learning rate': 10}\n",
      "Best accuracy: 0.6057528748151821\n",
      "Model accuracy: 0.6054006201536015\n",
      "Model time: 0.9778754711151123\n"
     ]
    }
   ],
   "source": [
    "def objective(trial):\n",
    "    estimators_number = trial.suggest_int('Estimators number', 1, 25)\n",
    "    learning_rate = trial.suggest_int('Learning rate', 1, 10)\n",
    "    \n",
    "    model = AdaBoostDtClassifier(estimators_number, learning_rate / 10)\n",
    "    model.fit(x_train, y_train)\n",
    "    y_pred = model.predict(x_test)\n",
    "\n",
    "    return accuracy_score(y_test, y_pred)\n",
    "\n",
    "study = optuna.create_study(direction='maximize')\n",
    "study.optimize(objective, n_trials = n_trials)\n",
    "\n",
    "print(f'Best parameters: {study.best_trial.params}')\n",
    "print(f'Best accuracy: {study.best_value}')\n",
    "\n",
    "estimators_number_best = study.best_trial.params['Estimators number']\n",
    "learning_rate_best = study.best_trial.params['Learning rate']\n",
    "\n",
    "model = AdaBoostDtClassifier(estimators_number_best, learning_rate_best)\n",
    "\n",
    "start = time.time()\n",
    "model.fit(x_train, y_train)\n",
    "end = time.time()\n",
    "\n",
    "adaboost_pred = model.predict(x_test)\n",
    "adaboost_accuracy = accuracy_score(y_test, adaboost_pred)\n",
    "adaboost_time = end - start\n",
    "\n",
    "print(f'Model accuracy: {adaboost_accuracy}')\n",
    "print(f'Model time: {adaboost_time}')"
   ]
  },
  {
   "cell_type": "markdown",
   "id": "9c793437",
   "metadata": {},
   "source": [
    "### Обучение sklearn реализации Bagging"
   ]
  },
  {
   "cell_type": "code",
   "execution_count": 40,
   "id": "54a717d0",
   "metadata": {},
   "outputs": [
    {
     "name": "stdout",
     "output_type": "stream",
     "text": [
      "Best parameters: {'Estimators number': 22, 'Samples number': 16, 'Features number': 6}\n",
      "Best accuracy: 0.6617474612172253\n",
      "Model accuracy: 0.6570337376537059\n",
      "Model time: 4.007788419723511\n"
     ]
    }
   ],
   "source": [
    "from sklearn.ensemble import BaggingClassifier\n",
    "\n",
    "def objective(trial):\n",
    "    estimators_number = trial.suggest_int('Estimators number', 1, 25)\n",
    "    samples_number = trial.suggest_int('Samples number', 1, 20)\n",
    "    features_number = trial.suggest_int('Features number', 2, 10)\n",
    "    model = BaggingClassifier(\n",
    "        n_estimators = estimators_number,\n",
    "        max_samples = samples_number / 20,\n",
    "        max_features = features_number / 10,\n",
    "        base_estimator = DecisionTreeClassifier())\n",
    "    \n",
    "    model.fit(x_train, y_train)\n",
    "    y_pred = model.predict(x_test)\n",
    "\n",
    "    return accuracy_score(y_test, y_pred)\n",
    "\n",
    "study = optuna.create_study(direction = 'maximize')\n",
    "study.optimize(objective, n_trials = n_trials)\n",
    "\n",
    "print(f'Best parameters: {study.best_trial.params}')\n",
    "print(f'Best accuracy: {study.best_value}')\n",
    "\n",
    "estimators_number_best = study.best_trial.params['Estimators number']\n",
    "samples_number_best = study.best_trial.params['Samples number']\n",
    "features_number_best = study.best_trial.params['Features number']\n",
    "\n",
    "model = BaggingClassifier(\n",
    "    n_estimators = estimators_number_best,\n",
    "    max_samples = samples_number_best / 20,\n",
    "    max_features = features_number_best / 12,\n",
    "    base_estimator = DecisionTreeClassifier())\n",
    "\n",
    "start = time.time()\n",
    "model.fit(x_train, y_train)\n",
    "end = time.time()\n",
    "\n",
    "sklearn_bagging_pred = model.predict(x_test)\n",
    "sklearn_bagging_accuracy = accuracy_score(y_test, sklearn_bagging_pred)\n",
    "sklearn_bagging_time = end - start\n",
    "\n",
    "print(f'Model accuracy: {sklearn_bagging_accuracy}')\n",
    "print(f'Model time: {sklearn_bagging_time}')"
   ]
  },
  {
   "cell_type": "markdown",
   "id": "1a5f7c6a",
   "metadata": {},
   "source": [
    "### Обучение sklearn реализации AdaBoost"
   ]
  },
  {
   "cell_type": "code",
   "execution_count": 41,
   "id": "d0d60fa4",
   "metadata": {},
   "outputs": [
    {
     "name": "stdout",
     "output_type": "stream",
     "text": [
      "Best parameters: {'Estimators number': 3, 'Learning rate': 1}\n",
      "Best accuracy: 0.6086033566161305\n",
      "Model accuracy: 0.6054006201536015\n",
      "Model time: 3.4949445724487305\n"
     ]
    }
   ],
   "source": [
    "from sklearn.ensemble import AdaBoostClassifier\n",
    "\n",
    "def objective(trial):\n",
    "    estimators_number = trial.suggest_int('Estimators number', 1, 10)\n",
    "    learning_rate = trial.suggest_int('Learning rate', 1, 5)\n",
    "    \n",
    "    model = AdaBoostClassifier(\n",
    "        n_estimators = estimators_number,\n",
    "        learning_rate = learning_rate / 10,\n",
    "        base_estimator = DecisionTreeClassifier())\n",
    "    model.fit(x_train, y_train)\n",
    "    y_pred = model.predict(x_test)\n",
    "\n",
    "    return accuracy_score(y_test, y_pred)\n",
    "\n",
    "study = optuna.create_study(direction = 'maximize')\n",
    "study.optimize(objective, n_trials = n_trials)\n",
    "\n",
    "print(f'Best parameters: {study.best_trial.params}')\n",
    "print(f'Best accuracy: {study.best_value}')\n",
    "\n",
    "estimators_number_best = study.best_trial.params['Estimators number']\n",
    "learning_rate_best = study.best_trial.params['Learning rate']\n",
    "\n",
    "model = AdaBoostClassifier(\n",
    "    n_estimators = estimators_number_best,\n",
    "    learning_rate = learning_rate_best / 10,\n",
    "    base_estimator = DecisionTreeClassifier())\n",
    "\n",
    "start = time.time()\n",
    "model.fit(x_train, y_train)\n",
    "end = time.time()\n",
    "\n",
    "sklearn_adaboost_pred = model.predict(x_test)\n",
    "sklearn_adaboost_accuracy = accuracy_score(y_test, adaboost_pred)\n",
    "sklearn_adaboost_time = end - start\n",
    "\n",
    "print(f'Model accuracy: {sklearn_adaboost_accuracy}')\n",
    "print(f'Model time: {sklearn_adaboost_time}')"
   ]
  },
  {
   "cell_type": "markdown",
   "id": "95859071",
   "metadata": {},
   "source": [
    "### Обучение sklearn реализации Random Forest"
   ]
  },
  {
   "cell_type": "code",
   "execution_count": 42,
   "id": "1b908f38",
   "metadata": {},
   "outputs": [
    {
     "name": "stdout",
     "output_type": "stream",
     "text": [
      "Best parameters: {'Estimators number': 6, 'Samples number': 11, 'Features number': 8}\n",
      "Best accuracy: 0.6353469013177105\n",
      "Model accuracy: 0.6353469013177105\n",
      "Model time: 0.7320864200592041\n"
     ]
    }
   ],
   "source": [
    "from sklearn.ensemble import RandomForestClassifier\n",
    "\n",
    "def objective(trial):\n",
    "    estimators_number = trial.suggest_int('Estimators number', 1, 100)\n",
    "    samples_number = trial.suggest_int('Samples number', 1, 20)\n",
    "    features_number = trial.suggest_int('Features number', 2, 10)\n",
    "    rf = RandomForestClassifier(\n",
    "        n_estimators = estimators_number,\n",
    "        max_samples = samples_number / 20,\n",
    "        max_features = features_number / 10,\n",
    "        max_depth = 4,\n",
    "        random_state = 42)\n",
    "    rf.fit(x_train, y_train)\n",
    "    y_pred = rf.predict(x_test)\n",
    "\n",
    "    return accuracy_score(y_test, y_pred)\n",
    "\n",
    "study = optuna.create_study(direction = 'maximize')\n",
    "study.optimize(objective, n_trials = n_trials)\n",
    "\n",
    "print(f'Best parameters: {study.best_trial.params}')\n",
    "print(f'Best accuracy: {study.best_value}')\n",
    "\n",
    "estimators_number_best = study.best_trial.params['Estimators number']\n",
    "samples_number_best = study.best_trial.params['Samples number']\n",
    "features_number_best = study.best_trial.params['Features number']\n",
    "\n",
    "model = RandomForestClassifier(\n",
    "    n_estimators = estimators_number_best,\n",
    "    max_samples = samples_number_best / 20,\n",
    "    max_features = features_number_best / 10,\n",
    "    max_depth = 4,\n",
    "    random_state = 42)\n",
    "\n",
    "start = time.time()\n",
    "model.fit(x_train, y_train)\n",
    "end = time.time()\n",
    "\n",
    "sklearn_rf_pred = model.predict(x_test)\n",
    "sklearn_rf_accuracy = accuracy_score(y_test, sklearn_rf_pred)\n",
    "sklearn_rf_time = end - start\n",
    "\n",
    "print(f'Model accuracy: {sklearn_rf_accuracy}')\n",
    "print(f'Model time: {sklearn_rf_time}')"
   ]
  },
  {
   "cell_type": "markdown",
   "id": "8c66f773",
   "metadata": {},
   "source": [
    "### Обучение sklearn реализации Gradient Tree Boosting"
   ]
  },
  {
   "cell_type": "code",
   "execution_count": 43,
   "id": "78836d60",
   "metadata": {},
   "outputs": [
    {
     "name": "stdout",
     "output_type": "stream",
     "text": [
      "Best parameters: {'Estimators number': 25, 'Depth': 10, 'Features number': 8}\n",
      "Best accuracy: 0.6598564098761083\n",
      "Model accuracy: 0.6598564098761083\n",
      "Model time: 14.411716938018799\n"
     ]
    }
   ],
   "source": [
    "from sklearn.ensemble import GradientBoostingClassifier\n",
    "\n",
    "def objective(trial):\n",
    "    estimators_number = trial.suggest_int('Estimators number', 1, 25)\n",
    "    depth = trial.suggest_int('Depth', 1, 10)\n",
    "    features_number = trial.suggest_int('Features number', 2, 10)\n",
    "    gb = GradientBoostingClassifier(\n",
    "        n_estimators = estimators_number,\n",
    "        max_depth = depth,\n",
    "        max_features = features_number / 10,\n",
    "        random_state = 42)\n",
    "    \n",
    "    gb.fit(x_train, y_train)\n",
    "    y_pred = gb.predict(x_test)\n",
    "\n",
    "    return accuracy_score(y_test, y_pred)\n",
    "\n",
    "study = optuna.create_study(direction = 'maximize')\n",
    "study.optimize(objective, n_trials = n_trials)\n",
    "\n",
    "print(f'Best parameters: {study.best_trial.params}')\n",
    "print(f'Best accuracy: {study.best_value}')\n",
    "\n",
    "estimators_number_best = study.best_trial.params['Estimators number']\n",
    "depth_best = study.best_trial.params['Depth']\n",
    "features_number_best = study.best_trial.params['Features number']\n",
    "\n",
    "model = GradientBoostingClassifier(\n",
    "    n_estimators = estimators_number_best,\n",
    "    max_depth = depth_best,\n",
    "    max_features = features_number_best / 10,\n",
    "    random_state = 42)\n",
    "\n",
    "start = time.time()\n",
    "model.fit(x_train, y_train)\n",
    "end = time.time()\n",
    "\n",
    "sklearn_gb_pred = model.predict(x_test)\n",
    "sklearn_gb_accuracy = accuracy_score(y_test, sklearn_gb_pred)\n",
    "sklearn_gb_time = end - start\n",
    "\n",
    "print(f'Model accuracy: {sklearn_gb_accuracy}')\n",
    "print(f'Model time: {sklearn_gb_time}')"
   ]
  },
  {
   "cell_type": "markdown",
   "id": "29ad3bc6",
   "metadata": {},
   "source": [
    "### Обучение sklearn реализации Histogram-Based Gradient Boosting"
   ]
  },
  {
   "cell_type": "code",
   "execution_count": 44,
   "id": "9c4321b4",
   "metadata": {},
   "outputs": [
    {
     "name": "stdout",
     "output_type": "stream",
     "text": [
      "Best parameters: {'Learning rate': 7, 'Iterations number': 15, 'Leaf nodes number': 24, 'Depth': 7}\n",
      "Best accuracy: 0.6531172220085004\n",
      "Model accuracy: 0.6531172220085004\n",
      "Model time: 0.3488175868988037\n"
     ]
    }
   ],
   "source": [
    "from sklearn.ensemble import HistGradientBoostingClassifier\n",
    "\n",
    "def objective(trial):\n",
    "    learning_rate = trial.suggest_int('Learning rate', 1, 10)\n",
    "    iterations_number = trial.suggest_int('Iterations number', 1, 15)\n",
    "    leaf_nodes_number = trial.suggest_int('Leaf nodes number', 2, 32)\n",
    "    depth = trial.suggest_int('Depth', 1, 10)\n",
    "    hgb = HistGradientBoostingClassifier(\n",
    "        learning_rate = learning_rate / 10,\n",
    "        max_iter = iterations_number,\n",
    "        max_depth = depth,\n",
    "        max_leaf_nodes = leaf_nodes_number,\n",
    "        random_state = 42)\n",
    "    \n",
    "    hgb.fit(x_train, y_train)\n",
    "    y_pred = hgb.predict(x_test)\n",
    "\n",
    "    return accuracy_score(y_test, y_pred)\n",
    "\n",
    "study = optuna.create_study(direction = 'maximize')\n",
    "study.optimize(objective, n_trials = n_trials)\n",
    "\n",
    "print(f'Best parameters: {study.best_trial.params}')\n",
    "print(f'Best accuracy: {study.best_value}')\n",
    "\n",
    "learning_rate_best = study.best_trial.params['Learning rate']\n",
    "iterations_number_best = study.best_trial.params['Iterations number']\n",
    "depth_best = study.best_trial.params['Depth']\n",
    "leaf_nodes_number_best = study.best_trial.params['Leaf nodes number']\n",
    "\n",
    "model = HistGradientBoostingClassifier(\n",
    "    learning_rate = learning_rate_best / 10,\n",
    "    max_iter = iterations_number_best,\n",
    "    max_depth = depth_best,\n",
    "    max_leaf_nodes = leaf_nodes_number_best,\n",
    "    random_state = 42)\n",
    "\n",
    "start = time.time()\n",
    "model.fit(x_train, y_train)\n",
    "end = time.time()\n",
    "\n",
    "sklearn_hgb_pred = model.predict(x_test)\n",
    "sklearn_hgb_accuracy = accuracy_score(y_test, sklearn_hgb_pred)\n",
    "sklearn_hgb_time = end - start\n",
    "\n",
    "print(f'Model accuracy: {sklearn_hgb_accuracy}')\n",
    "print(f'Model time: {sklearn_hgb_time}')"
   ]
  },
  {
   "cell_type": "markdown",
   "id": "f99c2f64",
   "metadata": {},
   "source": [
    "### Обучение XGBoost реализации XGBClassifier"
   ]
  },
  {
   "cell_type": "code",
   "execution_count": 45,
   "id": "602cc429",
   "metadata": {},
   "outputs": [
    {
     "name": "stdout",
     "output_type": "stream",
     "text": [
      "Best parameters: {'Estimators number': 25, 'Leaves number': 1, 'Depth': 10}\n",
      "Best accuracy: 0.6630823209874255\n",
      "Model accuracy: 0.6598564098761083\n",
      "Model time: 1.4649121761322021\n"
     ]
    }
   ],
   "source": [
    "from xgboost import XGBClassifier\n",
    "\n",
    "def objective(trial):\n",
    "    estimators_number = trial.suggest_int('Estimators number', 1, 25)\n",
    "    leaves_number = trial.suggest_int('Leaves number', 1, 20)\n",
    "    depth = trial.suggest_int('Depth', 1, 10)\n",
    "    xgb = XGBClassifier(\n",
    "        n_estimators = estimators_number,\n",
    "        max_leaves = leaves_number,\n",
    "        max_depth = depth,\n",
    "        random_state = 42)\n",
    "    \n",
    "    xgb.fit(x_train, y_train)\n",
    "    y_pred = xgb.predict(x_test)\n",
    "\n",
    "    return accuracy_score(y_test, y_pred)\n",
    "\n",
    "study = optuna.create_study(direction = 'maximize')\n",
    "study.optimize(objective, n_trials = n_trials)\n",
    "\n",
    "print(f'Best parameters: {study.best_trial.params}')\n",
    "print(f'Best accuracy: {study.best_value}')\n",
    "\n",
    "estimators_number_best = study.best_trial.params['Estimators number']\n",
    "leaves_number_best = study.best_trial.params['Leaves number']\n",
    "depth_best = study.best_trial.params['Depth']\n",
    "\n",
    "model = XGBClassifier(\n",
    "    n_estimators = estimators_number_best,\n",
    "    max_leaves = leaves_number_best,\n",
    "    max_depth = depth_best,\n",
    "    random_state = 42)\n",
    "\n",
    "start = time.time()\n",
    "model.fit(x_train, y_train)\n",
    "end = time.time()\n",
    "\n",
    "xgboost_pred = model.predict(x_test)\n",
    "xgboost_accuracy = accuracy_score(y_test, xgboost_pred)\n",
    "xgboost_time = end - start\n",
    "\n",
    "print(f'Model accuracy: {sklearn_gb_accuracy}')\n",
    "print(f'Model time: {xgboost_time}')"
   ]
  },
  {
   "cell_type": "markdown",
   "id": "1302b8ae",
   "metadata": {},
   "source": [
    "### Обучение LightGBM реализации LGBMClassifier"
   ]
  },
  {
   "cell_type": "code",
   "execution_count": 46,
   "id": "37913083",
   "metadata": {},
   "outputs": [
    {
     "name": "stdout",
     "output_type": "stream",
     "text": [
      "Best parameters: {'Estimators number': 25, 'Learning rate': 6, 'Depth': 8}\n",
      "Best accuracy: 0.6565934193267301\n",
      "Model accuracy: 0.6565934193267301\n",
      "Model time: 0.19122576713562012\n"
     ]
    }
   ],
   "source": [
    "from lightgbm import LGBMClassifier\n",
    "\n",
    "def objective(trial):\n",
    "    estimators_number = trial.suggest_int('Estimators number', 1, 25)\n",
    "    learning_rate = trial.suggest_int('Learning rate', 1, 10)\n",
    "    depth = trial.suggest_int('Depth', 1, 10)\n",
    "    xgb = LGBMClassifier(\n",
    "        n_estimators = estimators_number,\n",
    "        learning_rate = learning_rate / 10,\n",
    "        max_depth = depth,\n",
    "        random_state = 42)\n",
    "    \n",
    "    xgb.fit(x_train, y_train)\n",
    "    y_pred = xgb.predict(x_test)\n",
    "\n",
    "    return accuracy_score(y_test, y_pred)\n",
    "\n",
    "study = optuna.create_study(direction = 'maximize')\n",
    "study.optimize(objective, n_trials = n_trials)\n",
    "\n",
    "print(f'Best parameters: {study.best_trial.params}')\n",
    "print(f'Best accuracy: {study.best_value}')\n",
    "\n",
    "estimators_number_best = study.best_trial.params['Estimators number']\n",
    "learning_rate_best = study.best_trial.params['Learning rate']\n",
    "depth_best = study.best_trial.params['Depth']\n",
    "\n",
    "model = LGBMClassifier(\n",
    "    n_estimators = estimators_number_best,\n",
    "    learning_rate = learning_rate_best / 10,\n",
    "    max_depth = depth_best,\n",
    "    random_state = 42)\n",
    "\n",
    "start = time.time()\n",
    "model.fit(x_train, y_train)\n",
    "end = time.time()\n",
    "\n",
    "lightgbm_pred = model.predict(x_test)\n",
    "lightgbm_accuracy = accuracy_score(y_test, lightgbm_pred)\n",
    "lightgbm_time = end - start\n",
    "\n",
    "print(f'Model accuracy: {lightgbm_accuracy}')\n",
    "print(f'Model time: {lightgbm_time}')"
   ]
  },
  {
   "cell_type": "markdown",
   "id": "66cd6e47",
   "metadata": {},
   "source": [
    "### Обучение CatBoost реализации CatBoostClassifier"
   ]
  },
  {
   "cell_type": "code",
   "execution_count": 47,
   "id": "4c53d38d",
   "metadata": {},
   "outputs": [
    {
     "name": "stdout",
     "output_type": "stream",
     "text": [
      "Best parameters: {'Estimators number': 25, 'Learning rate': 8, 'Depth': 10}\n",
      "Best accuracy: 0.6554578615361084\n",
      "Model accuracy: 0.6554578615361084\n",
      "Model time: 1.8975682258605957\n"
     ]
    }
   ],
   "source": [
    "from catboost import CatBoostClassifier\n",
    "\n",
    "def objective(trial):\n",
    "    estimators_number = trial.suggest_int('Estimators number', 1, 25)\n",
    "    learning_rate = trial.suggest_int('Learning rate', 1, 10)\n",
    "    depth = trial.suggest_int('Depth', 1, 10)\n",
    "    xgb = CatBoostClassifier(\n",
    "        n_estimators = estimators_number,\n",
    "        learning_rate = learning_rate / 10,\n",
    "        max_depth = depth,\n",
    "        random_state = 42,\n",
    "        verbose = False)\n",
    "    \n",
    "    xgb.fit(x_train, y_train)\n",
    "    y_pred = xgb.predict(x_test)\n",
    "\n",
    "    return accuracy_score(y_test, y_pred)\n",
    "\n",
    "study = optuna.create_study(direction = 'maximize')\n",
    "study.optimize(objective, n_trials = n_trials)\n",
    "\n",
    "print(f'Best parameters: {study.best_trial.params}')\n",
    "print(f'Best accuracy: {study.best_value}')\n",
    "\n",
    "estimators_number_best = study.best_trial.params['Estimators number']\n",
    "learning_rate_best = study.best_trial.params['Learning rate']\n",
    "depth_best = study.best_trial.params['Depth']\n",
    "\n",
    "model = CatBoostClassifier(\n",
    "    n_estimators = estimators_number_best,\n",
    "    learning_rate = learning_rate_best / 10,\n",
    "    max_depth = depth_best,\n",
    "    random_state = 42,\n",
    "    verbose = False)\n",
    "\n",
    "start = time.time()\n",
    "model.fit(x_train, y_train)\n",
    "end = time.time()\n",
    "\n",
    "catboost_pred = model.predict(x_test)\n",
    "catboost_accuracy = accuracy_score(y_test, catboost_pred)\n",
    "catboost_time = end - start\n",
    "\n",
    "print(f'Model accuracy: {catboost_accuracy}')\n",
    "print(f'Model time: {catboost_time}')"
   ]
  },
  {
   "cell_type": "markdown",
   "id": "469df008",
   "metadata": {},
   "source": [
    "## Сравнение результатов обучения моделей"
   ]
  },
  {
   "cell_type": "code",
   "execution_count": 48,
   "id": "78144e5d",
   "metadata": {},
   "outputs": [
    {
     "data": {
      "text/html": [
       "<div>\n",
       "<style scoped>\n",
       "    .dataframe tbody tr th:only-of-type {\n",
       "        vertical-align: middle;\n",
       "    }\n",
       "\n",
       "    .dataframe tbody tr th {\n",
       "        vertical-align: top;\n",
       "    }\n",
       "\n",
       "    .dataframe thead th {\n",
       "        text-align: right;\n",
       "    }\n",
       "</style>\n",
       "<table border=\"1\" class=\"dataframe\">\n",
       "  <thead>\n",
       "    <tr style=\"text-align: right;\">\n",
       "      <th></th>\n",
       "      <th>Accuracy</th>\n",
       "      <th>Time</th>\n",
       "    </tr>\n",
       "  </thead>\n",
       "  <tbody>\n",
       "    <tr>\n",
       "      <th>My Bagging</th>\n",
       "      <td>0.544057</td>\n",
       "      <td>0.894638</td>\n",
       "    </tr>\n",
       "    <tr>\n",
       "      <th>Sklearn Bagging</th>\n",
       "      <td>0.657034</td>\n",
       "      <td>4.007788</td>\n",
       "    </tr>\n",
       "    <tr>\n",
       "      <th>My AdaBoost</th>\n",
       "      <td>0.605401</td>\n",
       "      <td>0.977875</td>\n",
       "    </tr>\n",
       "    <tr>\n",
       "      <th>Sklearn AdaBoost</th>\n",
       "      <td>0.605401</td>\n",
       "      <td>3.494945</td>\n",
       "    </tr>\n",
       "    <tr>\n",
       "      <th>Sklearn Random Forest</th>\n",
       "      <td>0.635347</td>\n",
       "      <td>0.732086</td>\n",
       "    </tr>\n",
       "    <tr>\n",
       "      <th>Sklearn Gradient Tree Boosting</th>\n",
       "      <td>0.659856</td>\n",
       "      <td>14.411717</td>\n",
       "    </tr>\n",
       "    <tr>\n",
       "      <th>Sklearn Histogram-Based Gradient Boosting</th>\n",
       "      <td>0.653117</td>\n",
       "      <td>0.348818</td>\n",
       "    </tr>\n",
       "    <tr>\n",
       "      <th>XGBoost</th>\n",
       "      <td>0.663082</td>\n",
       "      <td>1.464912</td>\n",
       "    </tr>\n",
       "    <tr>\n",
       "      <th>LightGBM</th>\n",
       "      <td>0.656593</td>\n",
       "      <td>0.191226</td>\n",
       "    </tr>\n",
       "    <tr>\n",
       "      <th>CatBoost</th>\n",
       "      <td>0.655458</td>\n",
       "      <td>1.897568</td>\n",
       "    </tr>\n",
       "  </tbody>\n",
       "</table>\n",
       "</div>"
      ],
      "text/plain": [
       "                                           Accuracy       Time\n",
       "My Bagging                                 0.544057   0.894638\n",
       "Sklearn Bagging                            0.657034   4.007788\n",
       "My AdaBoost                                0.605401   0.977875\n",
       "Sklearn AdaBoost                           0.605401   3.494945\n",
       "Sklearn Random Forest                      0.635347   0.732086\n",
       "Sklearn Gradient Tree Boosting             0.659856  14.411717\n",
       "Sklearn Histogram-Based Gradient Boosting  0.653117   0.348818\n",
       "XGBoost                                    0.663082   1.464912\n",
       "LightGBM                                   0.656593   0.191226\n",
       "CatBoost                                   0.655458   1.897568"
      ]
     },
     "execution_count": 48,
     "metadata": {},
     "output_type": "execute_result"
    }
   ],
   "source": [
    "result_dict = {\n",
    "    'Accuracy': [bagging_accuracy, sklearn_bagging_accuracy, adaboost_accuracy, sklearn_adaboost_accuracy,\n",
    "                 sklearn_rf_accuracy, sklearn_gb_accuracy, sklearn_hgb_accuracy, xgboost_accuracy,\n",
    "                 lightgbm_accuracy, catboost_accuracy],\n",
    "    'Time': [bagging_time, sklearn_bagging_time, adaboost_time, sklearn_adaboost_time, sklearn_rf_time,\n",
    "             sklearn_gb_time, sklearn_hgb_time, xgboost_time, lightgbm_time, catboost_time]\n",
    "}\n",
    "\n",
    "algorithms = [\n",
    "    'My Bagging', 'Sklearn Bagging', 'My AdaBoost', 'Sklearn AdaBoost', 'Sklearn Random Forest',\n",
    "    'Sklearn Gradient Tree Boosting', 'Sklearn Histogram-Based Gradient Boosting',\n",
    "    'XGBoost', 'LightGBM', 'CatBoost'\n",
    "]\n",
    "\n",
    "result = pd.DataFrame(result_dict, index = algorithms)\n",
    "result"
   ]
  },
  {
   "cell_type": "markdown",
   "id": "3c1373e6",
   "metadata": {},
   "source": [
    "**Выводы**:\n",
    "- Собственные реализации Bagging и AdaBoost менее точны, чем реализации библиотеки sklearn;\n",
    "- Собственные реализиции обучаются быстрее, чем реализации библиотеки sklearn;\n",
    "- Самым точным оказался алгоритм из библиотеки XGBoost;\n",
    "- Самым неточным оказалась собственная реализация алгоритм Bagging;\n",
    "- Самый быстро обучаемым оказался алгоритм из библиотеки LightGBM;\n",
    "- Самый долго обучаемый оказался алгоритм Gradient Tree Boosting из библиотеки skearn.\n",
    "\n",
    "Матрицы ошибок:"
   ]
  },
  {
   "cell_type": "code",
   "execution_count": 49,
   "id": "12ab0731",
   "metadata": {},
   "outputs": [
    {
     "data": {
      "image/png": "[encoded data removed]",
      "text/plain": [
       "<Figure size 2400x1200 with 20 Axes>"
      ]
     },
     "metadata": {},
     "output_type": "display_data"
    }
   ],
   "source": [
    "from sklearn.metrics import confusion_matrix\n",
    "\n",
    "plt.figure(figsize=(24, 12))\n",
    "\n",
    "plt.suptitle(\"Confusion Matrixes\", fontsize = 24)\n",
    "plt.subplots_adjust(wspace = 0.5, hspace = 0.5)\n",
    "\n",
    "plt.subplot(4, 3, 1)\n",
    "plt.title(\"My Bagging\")\n",
    "sns.heatmap(confusion_matrix(y_test, bagging_pred), cmap='Blues', annot = True, fmt = 'd')\n",
    "\n",
    "plt.subplot(4, 3, 2)\n",
    "plt.title(\"Sklearn Bagging\")\n",
    "sns.heatmap(confusion_matrix(y_test, sklearn_bagging_pred), cmap='Blues', annot = True, fmt = 'd')\n",
    "\n",
    "plt.subplot(4, 3, 3)\n",
    "plt.title(\"My AdaBoost\")\n",
    "sns.heatmap(confusion_matrix(y_test, adaboost_pred), cmap='Blues', annot = True, fmt = 'd')\n",
    "\n",
    "plt.subplot(4, 3, 4)\n",
    "plt.title(\"Sklearn AdaBoost\")\n",
    "sns.heatmap(confusion_matrix(y_test, sklearn_adaboost_pred), cmap = 'Blues', annot = True, fmt = 'd')\n",
    "\n",
    "plt.subplot(4, 3, 5)\n",
    "plt.title(\"Sklearn Random Forest\")\n",
    "sns.heatmap(confusion_matrix(y_test, sklearn_rf_pred), cmap = 'Blues', annot = True, fmt = 'd')\n",
    "\n",
    "plt.subplot(4, 3, 6)\n",
    "plt.title(\"Sklearn Gradient Tree Boosting\")\n",
    "sns.heatmap(confusion_matrix(y_test, sklearn_gb_pred), cmap = 'Blues', annot = True, fmt = 'd')\n",
    "\n",
    "plt.subplot(4, 3, 7)\n",
    "plt.title(\"Sklearn Histogram-Based Gradient Boosting\")\n",
    "sns.heatmap(confusion_matrix(y_test, sklearn_hgb_pred), cmap = 'Blues', annot = True, fmt = 'd')\n",
    "\n",
    "plt.subplot(4, 3, 8)\n",
    "plt.title(\"XGBoost\")\n",
    "sns.heatmap(confusion_matrix(y_test, xgboost_pred), cmap = 'Blues', annot = True, fmt = 'd')\n",
    "\n",
    "plt.subplot(4, 3, 9)\n",
    "plt.title(\"LightGBM\")\n",
    "sns.heatmap(confusion_matrix(y_test, lightgbm_pred), cmap = 'Blues', annot = True, fmt = 'd')\n",
    "\n",
    "plt.subplot(4, 3, 11)\n",
    "plt.title(\"CatBoost\")\n",
    "sns.heatmap(confusion_matrix(y_test, catboost_pred), cmap = 'Blues', annot = True, fmt = 'd')\n",
    "\n",
    "plt.show()"
   ]
  },
  {
   "cell_type": "markdown",
   "id": "04b2dd51",
   "metadata": {},
   "source": [
    "**Выводы**:\n",
    "- Библиотечные реализации sklearn, XGBoost, LightGBM, CatBoost предсказывают похожие результаты;\n",
    "- Собственная реализация алгоритма AdaBoost предсказывает результаты, близкие к библиотечным;\n",
    "- Собственная реализация алгоритма Bagging почти всегда предсказывает класс 0."
   ]
  }
 ],
 "metadata": {
  "kernelspec": {
   "display_name": "Python 3 (ipykernel)",
   "language": "python",
   "name": "python3"
  },
  "language_info": {
   "codemirror_mode": {
    "name": "ipython",
    "version": 3
   },
   "file_extension": ".py",
   "mimetype": "text/x-python",
   "name": "python",
   "nbconvert_exporter": "python",
   "pygments_lexer": "ipython3",
   "version": "3.9.13"
  }
 },
 "nbformat": 4,
 "nbformat_minor": 5
}
